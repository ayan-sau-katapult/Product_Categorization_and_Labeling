{
 "cells": [
  {
   "cell_type": "code",
   "execution_count": 62,
   "id": "7c0e5e43",
   "metadata": {},
   "outputs": [
    {
     "data": {
      "text/html": [
       "<div>\n",
       "<style scoped>\n",
       "    .dataframe tbody tr th:only-of-type {\n",
       "        vertical-align: middle;\n",
       "    }\n",
       "\n",
       "    .dataframe tbody tr th {\n",
       "        vertical-align: top;\n",
       "    }\n",
       "\n",
       "    .dataframe thead th {\n",
       "        text-align: right;\n",
       "    }\n",
       "</style>\n",
       "<table border=\"1\" class=\"dataframe\">\n",
       "  <thead>\n",
       "    <tr style=\"text-align: right;\">\n",
       "      <th></th>\n",
       "      <th>Product</th>\n",
       "    </tr>\n",
       "  </thead>\n",
       "  <tbody>\n",
       "    <tr>\n",
       "      <th>0</th>\n",
       "      <td>Fortnite Oro Legendary Series Action Figure</td>\n",
       "    </tr>\n",
       "    <tr>\n",
       "      <th>1</th>\n",
       "      <td>Super Mario Bros. Mario and Friends Multi-Pack...</td>\n",
       "    </tr>\n",
       "    <tr>\n",
       "      <th>2</th>\n",
       "      <td>Legend of Zelda: Breath of the Wild Link Colle...</td>\n",
       "    </tr>\n",
       "    <tr>\n",
       "      <th>3</th>\n",
       "      <td>Super Mario Bros. Deluxe Mushroom Kingdom Cast...</td>\n",
       "    </tr>\n",
       "    <tr>\n",
       "      <th>4</th>\n",
       "      <td>Super Mario Odyssey World of Nintendo Action F...</td>\n",
       "    </tr>\n",
       "  </tbody>\n",
       "</table>\n",
       "</div>"
      ],
      "text/plain": [
       "                                             Product\n",
       "0        Fortnite Oro Legendary Series Action Figure\n",
       "1  Super Mario Bros. Mario and Friends Multi-Pack...\n",
       "2  Legend of Zelda: Breath of the Wild Link Colle...\n",
       "3  Super Mario Bros. Deluxe Mushroom Kingdom Cast...\n",
       "4  Super Mario Odyssey World of Nintendo Action F..."
      ]
     },
     "execution_count": 62,
     "metadata": {},
     "output_type": "execute_result"
    }
   ],
   "source": [
    "import pandas as pd\n",
    "\n",
    "df=pd.read_excel(\"GameStop.xlsx\").drop(\"Unnamed: 1\",axis=1)\n",
    "df.head()"
   ]
  },
  {
   "cell_type": "code",
   "execution_count": 63,
   "id": "5d74ba60",
   "metadata": {},
   "outputs": [
    {
     "data": {
      "text/plain": [
       "['fortnite', 'oro', 'legendary', 'series', 'action', 'figure']"
      ]
     },
     "execution_count": 63,
     "metadata": {},
     "output_type": "execute_result"
    }
   ],
   "source": [
    "sample=df[\"Product\"][0]\n",
    "sample.lower().split()"
   ]
  },
  {
   "cell_type": "code",
   "execution_count": 93,
   "id": "97f2fcc8",
   "metadata": {},
   "outputs": [],
   "source": [
    "leasable_list=[\"controller\",\"nintendo switch\",\"flight control system\",\"controllers\",\"joy stick\",\"headset\",\"headsets\",\"headphone\",\n",
    "\"headphones\",\"tv\",\"webcam\",\"webcams\",\"charger\",\"chargers\",\"projector\",\"projectors\",\"microphone\",\"microphones\",\n",
    "\"keyboard\",\"keyboards\",\"soundbar\",\"soundbars\",\"sound bar\",\"desktop\",\"desktops\",\"earbuds\",\"router\",\"routers\",\"cable\",\n",
    "              \"mouse\",\"joystick\",\"monitor\",\"monitors\",\"speaker\",\"speakers\",\"chair\",\"chairs\",\"motherboard\",\"tablet\",\"camera\"\n",
    "              ,\"playstation\",\"playstations\"]\n",
    "\n",
    "nonleasable_list=[\"gift card\",\"gift cards\",\"membership\",\"memberships\",\"card\",\"cards\",\"sticker\",\"stickers\",\"pack\",\"packs\",\n",
    "                  \"deck\",\"decks\",\"box\",\"boxes\",\"figure\",\"figures\",\"vehicle\",\"vehicles\",\"pin\",\"pins\",\"figpin\",\"figpins\",\n",
    "                 \"statue\",\"statues\",\"posket\",\"poskets\",\"belt\",\"belts\",\"cufflins\",\"t-shirt\",\"t-shirts\",\n",
    "                 \"pop!\",\"game\",\"games\",\"nerf\",\"mario\",\"water\",\"bottle\",\"bottles\",\"mug\",\"mugs\",\"token\",\"kit\",\"booster\",\"tokens\"\n",
    "                 \"kits\",\"boosters\",\"soda:\",\"tank top\",\"bat\",\"keychain\",\"keychains\",\"upgrade\",\"upgrades\"\n",
    "                 \"mask\",\"buckle\",\"glove\",\"gloves\",\"gift\",\"doll\",\"car\",\"plush\",\"sword\",\"lightsabers\",\"lightsaber\",\n",
    "                 \"dagger\",\"daggers\",\"knifes\",\"knife\",\"shield\",\"helmet\",\"diorama\",\"dioramas\",\"holder\",\"clamp\",\"padlock\",\"sensors\",\n",
    "                 \"sensor\",\"latch\",\"latches\",\"fifa\",\"lego\",\"wwe\",\"hammer\"]\n",
    "    "
   ]
  },
  {
   "cell_type": "code",
   "execution_count": 94,
   "id": "02332362",
   "metadata": {},
   "outputs": [],
   "source": [
    "def find_leasable_type(prod):\n",
    "    \n",
    "    for i in str(prod).lower().split():\n",
    "        if i in leasable_list:\n",
    "            return True\n",
    "        elif i in nonleasable_list:\n",
    "            return False\n",
    "        else:\n",
    "            continue"
   ]
  },
  {
   "cell_type": "code",
   "execution_count": 95,
   "id": "6d981f08",
   "metadata": {},
   "outputs": [],
   "source": [
    "def find_category(prod):\n",
    "    for i in str(prod).lower().split():\n",
    "        if i in leasable_list:\n",
    "            return i\n",
    "        elif i in nonleasable_list:\n",
    "            return i\n",
    "        else:\n",
    "            continue"
   ]
  },
  {
   "cell_type": "code",
   "execution_count": 96,
   "id": "9cac3536",
   "metadata": {},
   "outputs": [
    {
     "data": {
      "text/html": [
       "<div>\n",
       "<style scoped>\n",
       "    .dataframe tbody tr th:only-of-type {\n",
       "        vertical-align: middle;\n",
       "    }\n",
       "\n",
       "    .dataframe tbody tr th {\n",
       "        vertical-align: top;\n",
       "    }\n",
       "\n",
       "    .dataframe thead th {\n",
       "        text-align: right;\n",
       "    }\n",
       "</style>\n",
       "<table border=\"1\" class=\"dataframe\">\n",
       "  <thead>\n",
       "    <tr style=\"text-align: right;\">\n",
       "      <th></th>\n",
       "      <th>Product</th>\n",
       "      <th>Leasable</th>\n",
       "      <th>Category</th>\n",
       "    </tr>\n",
       "  </thead>\n",
       "  <tbody>\n",
       "    <tr>\n",
       "      <th>0</th>\n",
       "      <td>Fortnite Oro Legendary Series Action Figure</td>\n",
       "      <td>False</td>\n",
       "      <td>figure</td>\n",
       "    </tr>\n",
       "    <tr>\n",
       "      <th>1</th>\n",
       "      <td>Super Mario Bros. Mario and Friends Multi-Pack...</td>\n",
       "      <td>False</td>\n",
       "      <td>mario</td>\n",
       "    </tr>\n",
       "    <tr>\n",
       "      <th>2</th>\n",
       "      <td>Legend of Zelda: Breath of the Wild Link Colle...</td>\n",
       "      <td>False</td>\n",
       "      <td>figure</td>\n",
       "    </tr>\n",
       "    <tr>\n",
       "      <th>3</th>\n",
       "      <td>Super Mario Bros. Deluxe Mushroom Kingdom Cast...</td>\n",
       "      <td>False</td>\n",
       "      <td>mario</td>\n",
       "    </tr>\n",
       "    <tr>\n",
       "      <th>4</th>\n",
       "      <td>Super Mario Odyssey World of Nintendo Action F...</td>\n",
       "      <td>False</td>\n",
       "      <td>mario</td>\n",
       "    </tr>\n",
       "  </tbody>\n",
       "</table>\n",
       "</div>"
      ],
      "text/plain": [
       "                                             Product Leasable Category\n",
       "0        Fortnite Oro Legendary Series Action Figure    False   figure\n",
       "1  Super Mario Bros. Mario and Friends Multi-Pack...    False    mario\n",
       "2  Legend of Zelda: Breath of the Wild Link Colle...    False   figure\n",
       "3  Super Mario Bros. Deluxe Mushroom Kingdom Cast...    False    mario\n",
       "4  Super Mario Odyssey World of Nintendo Action F...    False    mario"
      ]
     },
     "execution_count": 96,
     "metadata": {},
     "output_type": "execute_result"
    }
   ],
   "source": [
    "df[\"Leasable\"]=df[\"Product\"].apply(find_leasable_type)\n",
    "df.head()"
   ]
  },
  {
   "cell_type": "code",
   "execution_count": 97,
   "id": "6e652a5e",
   "metadata": {},
   "outputs": [
    {
     "data": {
      "text/html": [
       "<div>\n",
       "<style scoped>\n",
       "    .dataframe tbody tr th:only-of-type {\n",
       "        vertical-align: middle;\n",
       "    }\n",
       "\n",
       "    .dataframe tbody tr th {\n",
       "        vertical-align: top;\n",
       "    }\n",
       "\n",
       "    .dataframe thead th {\n",
       "        text-align: right;\n",
       "    }\n",
       "</style>\n",
       "<table border=\"1\" class=\"dataframe\">\n",
       "  <thead>\n",
       "    <tr style=\"text-align: right;\">\n",
       "      <th></th>\n",
       "      <th>Product</th>\n",
       "      <th>Leasable</th>\n",
       "      <th>Category</th>\n",
       "    </tr>\n",
       "  </thead>\n",
       "  <tbody>\n",
       "    <tr>\n",
       "      <th>0</th>\n",
       "      <td>Fortnite Oro Legendary Series Action Figure</td>\n",
       "      <td>False</td>\n",
       "      <td>figure</td>\n",
       "    </tr>\n",
       "    <tr>\n",
       "      <th>1</th>\n",
       "      <td>Super Mario Bros. Mario and Friends Multi-Pack...</td>\n",
       "      <td>False</td>\n",
       "      <td>mario</td>\n",
       "    </tr>\n",
       "    <tr>\n",
       "      <th>2</th>\n",
       "      <td>Legend of Zelda: Breath of the Wild Link Colle...</td>\n",
       "      <td>False</td>\n",
       "      <td>figure</td>\n",
       "    </tr>\n",
       "    <tr>\n",
       "      <th>3</th>\n",
       "      <td>Super Mario Bros. Deluxe Mushroom Kingdom Cast...</td>\n",
       "      <td>False</td>\n",
       "      <td>mario</td>\n",
       "    </tr>\n",
       "    <tr>\n",
       "      <th>4</th>\n",
       "      <td>Super Mario Odyssey World of Nintendo Action F...</td>\n",
       "      <td>False</td>\n",
       "      <td>mario</td>\n",
       "    </tr>\n",
       "  </tbody>\n",
       "</table>\n",
       "</div>"
      ],
      "text/plain": [
       "                                             Product Leasable Category\n",
       "0        Fortnite Oro Legendary Series Action Figure    False   figure\n",
       "1  Super Mario Bros. Mario and Friends Multi-Pack...    False    mario\n",
       "2  Legend of Zelda: Breath of the Wild Link Colle...    False   figure\n",
       "3  Super Mario Bros. Deluxe Mushroom Kingdom Cast...    False    mario\n",
       "4  Super Mario Odyssey World of Nintendo Action F...    False    mario"
      ]
     },
     "execution_count": 97,
     "metadata": {},
     "output_type": "execute_result"
    }
   ],
   "source": [
    "df[\"Category\"]=df[\"Product\"].apply(find_category)\n",
    "df.head()"
   ]
  },
  {
   "cell_type": "code",
   "execution_count": 98,
   "id": "3e104f32",
   "metadata": {},
   "outputs": [
    {
     "data": {
      "text/plain": [
       "25501"
      ]
     },
     "execution_count": 98,
     "metadata": {},
     "output_type": "execute_result"
    }
   ],
   "source": [
    "len(df)"
   ]
  },
  {
   "cell_type": "code",
   "execution_count": 99,
   "id": "51fa7339",
   "metadata": {},
   "outputs": [
    {
     "data": {
      "text/plain": [
       "15159"
      ]
     },
     "execution_count": 99,
     "metadata": {},
     "output_type": "execute_result"
    }
   ],
   "source": [
    "len(df[df[\"Leasable\"]==True])+len(df[df[\"Leasable\"]==False])"
   ]
  },
  {
   "cell_type": "code",
   "execution_count": 100,
   "id": "f8e0ea37",
   "metadata": {},
   "outputs": [],
   "source": [
    "df.to_excel(\"GameStop_classified.xlsx\")"
   ]
  },
  {
   "cell_type": "code",
   "execution_count": null,
   "id": "c49fdeed",
   "metadata": {},
   "outputs": [],
   "source": []
  },
  {
   "cell_type": "code",
   "execution_count": null,
   "id": "2ecb79f9",
   "metadata": {},
   "outputs": [],
   "source": []
  },
  {
   "cell_type": "code",
   "execution_count": null,
   "id": "bdebd542",
   "metadata": {},
   "outputs": [],
   "source": []
  }
 ],
 "metadata": {
  "kernelspec": {
   "display_name": "Python 3",
   "language": "python",
   "name": "python3"
  },
  "language_info": {
   "codemirror_mode": {
    "name": "ipython",
    "version": 3
   },
   "file_extension": ".py",
   "mimetype": "text/x-python",
   "name": "python",
   "nbconvert_exporter": "python",
   "pygments_lexer": "ipython3",
   "version": "3.8.8"
  }
 },
 "nbformat": 4,
 "nbformat_minor": 5
}
