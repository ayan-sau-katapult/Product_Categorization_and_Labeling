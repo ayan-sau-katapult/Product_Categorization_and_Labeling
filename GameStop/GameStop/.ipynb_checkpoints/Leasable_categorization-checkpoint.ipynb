{
 "cells": [
  {
   "cell_type": "code",
   "execution_count": 1,
   "id": "7c0e5e43",
   "metadata": {},
   "outputs": [
    {
     "data": {
      "text/html": [
       "<div>\n",
       "<style scoped>\n",
       "    .dataframe tbody tr th:only-of-type {\n",
       "        vertical-align: middle;\n",
       "    }\n",
       "\n",
       "    .dataframe tbody tr th {\n",
       "        vertical-align: top;\n",
       "    }\n",
       "\n",
       "    .dataframe thead th {\n",
       "        text-align: right;\n",
       "    }\n",
       "</style>\n",
       "<table border=\"1\" class=\"dataframe\">\n",
       "  <thead>\n",
       "    <tr style=\"text-align: right;\">\n",
       "      <th></th>\n",
       "      <th>Product</th>\n",
       "    </tr>\n",
       "  </thead>\n",
       "  <tbody>\n",
       "    <tr>\n",
       "      <th>0</th>\n",
       "      <td>Fortnite Oro Legendary Series Action Figure</td>\n",
       "    </tr>\n",
       "    <tr>\n",
       "      <th>1</th>\n",
       "      <td>Super Mario Bros. Mario and Friends Multi-Pack...</td>\n",
       "    </tr>\n",
       "    <tr>\n",
       "      <th>2</th>\n",
       "      <td>Legend of Zelda: Breath of the Wild Link Colle...</td>\n",
       "    </tr>\n",
       "    <tr>\n",
       "      <th>3</th>\n",
       "      <td>Super Mario Bros. Deluxe Mushroom Kingdom Cast...</td>\n",
       "    </tr>\n",
       "    <tr>\n",
       "      <th>4</th>\n",
       "      <td>Super Mario Odyssey World of Nintendo Action F...</td>\n",
       "    </tr>\n",
       "  </tbody>\n",
       "</table>\n",
       "</div>"
      ],
      "text/plain": [
       "                                             Product\n",
       "0        Fortnite Oro Legendary Series Action Figure\n",
       "1  Super Mario Bros. Mario and Friends Multi-Pack...\n",
       "2  Legend of Zelda: Breath of the Wild Link Colle...\n",
       "3  Super Mario Bros. Deluxe Mushroom Kingdom Cast...\n",
       "4  Super Mario Odyssey World of Nintendo Action F..."
      ]
     },
     "execution_count": 1,
     "metadata": {},
     "output_type": "execute_result"
    }
   ],
   "source": [
    "import pandas as pd\n",
    "\n",
    "df=pd.read_excel(\"GameStop.xlsx\").drop(\"Unnamed: 1\",axis=1)\n",
    "df.head()"
   ]
  },
  {
   "cell_type": "code",
   "execution_count": 2,
   "id": "5d74ba60",
   "metadata": {},
   "outputs": [
    {
     "data": {
      "text/plain": [
       "['fortnite', 'oro', 'legendary', 'series', 'action', 'figure']"
      ]
     },
     "execution_count": 2,
     "metadata": {},
     "output_type": "execute_result"
    }
   ],
   "source": [
    "sample=df[\"Product\"][0]\n",
    "sample.lower().split()"
   ]
  },
  {
   "cell_type": "code",
   "execution_count": 3,
   "id": "97f2fcc8",
   "metadata": {},
   "outputs": [],
   "source": [
    "leasable_list=[\"controller\",\"nintendo switch\",\"flight control system\",\"controllers\",\"joy stick\",\"headset\",\"headsets\",\"headphone\",\n",
    "\"headphones\",\"tv\",\"webcam\",\"webcams\",\"charger\",\"chargers\",\"projector\",\"projectors\",\"microphone\",\"microphones\",\n",
    "\"keyboard\",\"keyboards\",\"soundbar\",\"soundbars\",\"sound bar\",\"desktop\",\"desktops\",\"earbuds\",\"router\",\"routers\",\"cable\",\n",
    "              \"mouse\",\"joystick\",\"monitor\",\"monitors\",\"speaker\",\"speakers\",\"chair\",\"chairs\",\"motherboard\",\"tablet\",\"camera\"]\n",
    "\n",
    "nonleasable_list=[\"gift card\",\"gift cards\",\"membership\",\"memberships\",\"card\",\"cards\",\"sticker\",\"stickers\",\"pack\",\"packs\",\n",
    "                  \"deck\",\"decks\",\"box\",\"boxes\",\"figure\",\"figures\",\"vehicle\",\"vehicles\",\"pin\",\"pins\",\"figpin\",\"figpins\",\n",
    "                 \"statue\",\"statues\",\"posket\",\"poskets\",\"belt\",\"belts\",\"cufflins\",\"t-shirt\",\"t-shirts\",\n",
    "                 \"pop!\",\"game\",\"games\",\"nerf\",\"mario\",\"water\",\"bottle\",\"bottles\",\"mug\",\"mugs\",\"token\",\"kit\",\"booster\",\"tokens\"\n",
    "                 \"kits\",\"boosters\",\"soda:\",\"tank top\",\"bat\",\"keychain\",\"keychains\",\"upgrade\",\"upgrades\"\n",
    "                 \"mask\",\"buckle\",\"glove\",\"gloves\",\"gift\",\"doll\",\"car\",\"plush\",\"sword\",\"lightsabers\"]\n",
    "    "
   ]
  },
  {
   "cell_type": "code",
   "execution_count": 4,
   "id": "02332362",
   "metadata": {},
   "outputs": [],
   "source": [
    "def find_leasable_type(prod):\n",
    "    \n",
    "    for i in str(prod).lower().split():\n",
    "        if i in leasable_list:\n",
    "            return True\n",
    "        elif i in nonleasable_list:\n",
    "            return False\n",
    "        else:\n",
    "            continue"
   ]
  },
  {
   "cell_type": "code",
   "execution_count": 5,
   "id": "6d981f08",
   "metadata": {},
   "outputs": [],
   "source": [
    "def find_category(prod):\n",
    "    for i in str(prod).lower().split():\n",
    "        if i in leasable_list:\n",
    "            return i\n",
    "        elif i in nonleasable_list:\n",
    "            return i\n",
    "        else:\n",
    "            continue"
   ]
  },
  {
   "cell_type": "code",
   "execution_count": 6,
   "id": "20faaf4f",
   "metadata": {},
   "outputs": [
    {
     "data": {
      "text/html": [
       "<div>\n",
       "<style scoped>\n",
       "    .dataframe tbody tr th:only-of-type {\n",
       "        vertical-align: middle;\n",
       "    }\n",
       "\n",
       "    .dataframe tbody tr th {\n",
       "        vertical-align: top;\n",
       "    }\n",
       "\n",
       "    .dataframe thead th {\n",
       "        text-align: right;\n",
       "    }\n",
       "</style>\n",
       "<table border=\"1\" class=\"dataframe\">\n",
       "  <thead>\n",
       "    <tr style=\"text-align: right;\">\n",
       "      <th></th>\n",
       "      <th>Product</th>\n",
       "      <th>Leasable</th>\n",
       "    </tr>\n",
       "  </thead>\n",
       "  <tbody>\n",
       "    <tr>\n",
       "      <th>0</th>\n",
       "      <td>Fortnite Oro Legendary Series Action Figure</td>\n",
       "      <td>False</td>\n",
       "    </tr>\n",
       "    <tr>\n",
       "      <th>1</th>\n",
       "      <td>Super Mario Bros. Mario and Friends Multi-Pack...</td>\n",
       "      <td>False</td>\n",
       "    </tr>\n",
       "    <tr>\n",
       "      <th>2</th>\n",
       "      <td>Legend of Zelda: Breath of the Wild Link Colle...</td>\n",
       "      <td>False</td>\n",
       "    </tr>\n",
       "    <tr>\n",
       "      <th>3</th>\n",
       "      <td>Super Mario Bros. Deluxe Mushroom Kingdom Cast...</td>\n",
       "      <td>False</td>\n",
       "    </tr>\n",
       "    <tr>\n",
       "      <th>4</th>\n",
       "      <td>Super Mario Odyssey World of Nintendo Action F...</td>\n",
       "      <td>False</td>\n",
       "    </tr>\n",
       "  </tbody>\n",
       "</table>\n",
       "</div>"
      ],
      "text/plain": [
       "                                             Product Leasable\n",
       "0        Fortnite Oro Legendary Series Action Figure    False\n",
       "1  Super Mario Bros. Mario and Friends Multi-Pack...    False\n",
       "2  Legend of Zelda: Breath of the Wild Link Colle...    False\n",
       "3  Super Mario Bros. Deluxe Mushroom Kingdom Cast...    False\n",
       "4  Super Mario Odyssey World of Nintendo Action F...    False"
      ]
     },
     "execution_count": 6,
     "metadata": {},
     "output_type": "execute_result"
    }
   ],
   "source": [
    "df[\"Leasable\"]=df[\"Product\"].apply(find_leasable_type)\n",
    "df.head()"
   ]
  },
  {
   "cell_type": "code",
   "execution_count": 7,
   "id": "618d653d",
   "metadata": {},
   "outputs": [
    {
     "data": {
      "text/html": [
       "<div>\n",
       "<style scoped>\n",
       "    .dataframe tbody tr th:only-of-type {\n",
       "        vertical-align: middle;\n",
       "    }\n",
       "\n",
       "    .dataframe tbody tr th {\n",
       "        vertical-align: top;\n",
       "    }\n",
       "\n",
       "    .dataframe thead th {\n",
       "        text-align: right;\n",
       "    }\n",
       "</style>\n",
       "<table border=\"1\" class=\"dataframe\">\n",
       "  <thead>\n",
       "    <tr style=\"text-align: right;\">\n",
       "      <th></th>\n",
       "      <th>Product</th>\n",
       "      <th>Leasable</th>\n",
       "      <th>Product_type</th>\n",
       "    </tr>\n",
       "  </thead>\n",
       "  <tbody>\n",
       "    <tr>\n",
       "      <th>0</th>\n",
       "      <td>Fortnite Oro Legendary Series Action Figure</td>\n",
       "      <td>False</td>\n",
       "      <td>figure</td>\n",
       "    </tr>\n",
       "    <tr>\n",
       "      <th>1</th>\n",
       "      <td>Super Mario Bros. Mario and Friends Multi-Pack...</td>\n",
       "      <td>False</td>\n",
       "      <td>mario</td>\n",
       "    </tr>\n",
       "    <tr>\n",
       "      <th>2</th>\n",
       "      <td>Legend of Zelda: Breath of the Wild Link Colle...</td>\n",
       "      <td>False</td>\n",
       "      <td>figure</td>\n",
       "    </tr>\n",
       "    <tr>\n",
       "      <th>3</th>\n",
       "      <td>Super Mario Bros. Deluxe Mushroom Kingdom Cast...</td>\n",
       "      <td>False</td>\n",
       "      <td>mario</td>\n",
       "    </tr>\n",
       "    <tr>\n",
       "      <th>4</th>\n",
       "      <td>Super Mario Odyssey World of Nintendo Action F...</td>\n",
       "      <td>False</td>\n",
       "      <td>mario</td>\n",
       "    </tr>\n",
       "  </tbody>\n",
       "</table>\n",
       "</div>"
      ],
      "text/plain": [
       "                                             Product Leasable Product_type\n",
       "0        Fortnite Oro Legendary Series Action Figure    False       figure\n",
       "1  Super Mario Bros. Mario and Friends Multi-Pack...    False        mario\n",
       "2  Legend of Zelda: Breath of the Wild Link Colle...    False       figure\n",
       "3  Super Mario Bros. Deluxe Mushroom Kingdom Cast...    False        mario\n",
       "4  Super Mario Odyssey World of Nintendo Action F...    False        mario"
      ]
     },
     "execution_count": 7,
     "metadata": {},
     "output_type": "execute_result"
    }
   ],
   "source": [
    "df[\"Product_type\"]=df[\"Product\"].apply(find_category)\n",
    "df.head()"
   ]
  },
  {
   "cell_type": "code",
   "execution_count": 8,
   "id": "b1451e7d",
   "metadata": {},
   "outputs": [
    {
     "data": {
      "text/html": [
       "<div>\n",
       "<style scoped>\n",
       "    .dataframe tbody tr th:only-of-type {\n",
       "        vertical-align: middle;\n",
       "    }\n",
       "\n",
       "    .dataframe tbody tr th {\n",
       "        vertical-align: top;\n",
       "    }\n",
       "\n",
       "    .dataframe thead th {\n",
       "        text-align: right;\n",
       "    }\n",
       "</style>\n",
       "<table border=\"1\" class=\"dataframe\">\n",
       "  <thead>\n",
       "    <tr style=\"text-align: right;\">\n",
       "      <th></th>\n",
       "      <th>Product</th>\n",
       "      <th>Leasable</th>\n",
       "      <th>Product_type</th>\n",
       "    </tr>\n",
       "  </thead>\n",
       "  <tbody>\n",
       "    <tr>\n",
       "      <th>63</th>\n",
       "      <td>Roblox Desktop Series Collection -(STYLES MAY ...</td>\n",
       "      <td>True</td>\n",
       "      <td>desktop</td>\n",
       "    </tr>\n",
       "    <tr>\n",
       "      <th>406</th>\n",
       "      <td>Idolmaster Cinderella Girls Karen Hojo Dressy ...</td>\n",
       "      <td>True</td>\n",
       "      <td>chair</td>\n",
       "    </tr>\n",
       "    <tr>\n",
       "      <th>887</th>\n",
       "      <td>Truebuds PRO Wireless Earbuds with Charging Case</td>\n",
       "      <td>True</td>\n",
       "      <td>earbuds</td>\n",
       "    </tr>\n",
       "    <tr>\n",
       "      <th>888</th>\n",
       "      <td>Half Corgi Earbuds with Mic</td>\n",
       "      <td>True</td>\n",
       "      <td>earbuds</td>\n",
       "    </tr>\n",
       "    <tr>\n",
       "      <th>890</th>\n",
       "      <td>Fat Cat Earbuds with Mic</td>\n",
       "      <td>True</td>\n",
       "      <td>earbuds</td>\n",
       "    </tr>\n",
       "    <tr>\n",
       "      <th>...</th>\n",
       "      <td>...</td>\n",
       "      <td>...</td>\n",
       "      <td>...</td>\n",
       "    </tr>\n",
       "    <tr>\n",
       "      <th>25492</th>\n",
       "      <td>Android 2-in-1 Tablet 10.1 in</td>\n",
       "      <td>True</td>\n",
       "      <td>tablet</td>\n",
       "    </tr>\n",
       "    <tr>\n",
       "      <th>25493</th>\n",
       "      <td>CORE Power Portable USB Charger</td>\n",
       "      <td>True</td>\n",
       "      <td>charger</td>\n",
       "    </tr>\n",
       "    <tr>\n",
       "      <th>25494</th>\n",
       "      <td>Rugged Book Go Keyboard And Case For iPad Pro ...</td>\n",
       "      <td>True</td>\n",
       "      <td>keyboard</td>\n",
       "    </tr>\n",
       "    <tr>\n",
       "      <th>25495</th>\n",
       "      <td>Pro Keys Bluetooth Keyboard Case for iPad Air ...</td>\n",
       "      <td>True</td>\n",
       "      <td>keyboard</td>\n",
       "    </tr>\n",
       "    <tr>\n",
       "      <th>25496</th>\n",
       "      <td>Slim Book Go Bluetooth Keyboard And Case for i...</td>\n",
       "      <td>True</td>\n",
       "      <td>keyboard</td>\n",
       "    </tr>\n",
       "  </tbody>\n",
       "</table>\n",
       "<p>3454 rows × 3 columns</p>\n",
       "</div>"
      ],
      "text/plain": [
       "                                                 Product Leasable Product_type\n",
       "63     Roblox Desktop Series Collection -(STYLES MAY ...     True      desktop\n",
       "406    Idolmaster Cinderella Girls Karen Hojo Dressy ...     True        chair\n",
       "887     Truebuds PRO Wireless Earbuds with Charging Case     True      earbuds\n",
       "888                          Half Corgi Earbuds with Mic     True      earbuds\n",
       "890                             Fat Cat Earbuds with Mic     True      earbuds\n",
       "...                                                  ...      ...          ...\n",
       "25492                      Android 2-in-1 Tablet 10.1 in     True       tablet\n",
       "25493                    CORE Power Portable USB Charger     True      charger\n",
       "25494  Rugged Book Go Keyboard And Case For iPad Pro ...     True     keyboard\n",
       "25495  Pro Keys Bluetooth Keyboard Case for iPad Air ...     True     keyboard\n",
       "25496  Slim Book Go Bluetooth Keyboard And Case for i...     True     keyboard\n",
       "\n",
       "[3454 rows x 3 columns]"
      ]
     },
     "execution_count": 8,
     "metadata": {},
     "output_type": "execute_result"
    }
   ],
   "source": [
    "df[df[\"Leasable\"]==True]"
   ]
  },
  {
   "cell_type": "code",
   "execution_count": 9,
   "id": "56e9cd58",
   "metadata": {},
   "outputs": [
    {
     "data": {
      "text/plain": [
       "25501"
      ]
     },
     "execution_count": 9,
     "metadata": {},
     "output_type": "execute_result"
    }
   ],
   "source": [
    "len(df)"
   ]
  },
  {
   "cell_type": "code",
   "execution_count": 10,
   "id": "51fa7339",
   "metadata": {},
   "outputs": [
    {
     "data": {
      "text/plain": [
       "14432"
      ]
     },
     "execution_count": 10,
     "metadata": {},
     "output_type": "execute_result"
    }
   ],
   "source": [
    "len(df[df[\"Leasable\"]==True])+len(df[df[\"Leasable\"]==False])"
   ]
  },
  {
   "cell_type": "code",
   "execution_count": 11,
   "id": "f8e0ea37",
   "metadata": {},
   "outputs": [],
   "source": [
    "df.to_excel(\"classified.xlsx\")"
   ]
  },
  {
   "cell_type": "code",
   "execution_count": null,
   "id": "c49fdeed",
   "metadata": {},
   "outputs": [],
   "source": []
  }
 ],
 "metadata": {
  "kernelspec": {
   "display_name": "Python 3",
   "language": "python",
   "name": "python3"
  },
  "language_info": {
   "codemirror_mode": {
    "name": "ipython",
    "version": 3
   },
   "file_extension": ".py",
   "mimetype": "text/x-python",
   "name": "python",
   "nbconvert_exporter": "python",
   "pygments_lexer": "ipython3",
   "version": "3.8.8"
  }
 },
 "nbformat": 4,
 "nbformat_minor": 5
}
