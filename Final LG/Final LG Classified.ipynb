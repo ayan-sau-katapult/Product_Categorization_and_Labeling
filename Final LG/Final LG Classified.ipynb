{
 "cells": [
  {
   "cell_type": "code",
   "execution_count": 1,
   "id": "5275c931",
   "metadata": {},
   "outputs": [
    {
     "data": {
      "text/html": [
       "<div>\n",
       "<style scoped>\n",
       "    .dataframe tbody tr th:only-of-type {\n",
       "        vertical-align: middle;\n",
       "    }\n",
       "\n",
       "    .dataframe tbody tr th {\n",
       "        vertical-align: top;\n",
       "    }\n",
       "\n",
       "    .dataframe thead th {\n",
       "        text-align: right;\n",
       "    }\n",
       "</style>\n",
       "<table border=\"1\" class=\"dataframe\">\n",
       "  <thead>\n",
       "    <tr style=\"text-align: right;\">\n",
       "      <th></th>\n",
       "      <th>LG Gallery Stand</th>\n",
       "      <th>lg-accessories</th>\n",
       "    </tr>\n",
       "  </thead>\n",
       "  <tbody>\n",
       "    <tr>\n",
       "      <th>0</th>\n",
       "      <td>LG Projector Remote Control AKB75735303</td>\n",
       "      <td>lg-accessories</td>\n",
       "    </tr>\n",
       "    <tr>\n",
       "      <th>1</th>\n",
       "      <td>LG Projector Remote Control AKB74915376</td>\n",
       "      <td>lg-accessories</td>\n",
       "    </tr>\n",
       "    <tr>\n",
       "      <th>2</th>\n",
       "      <td>LG Projector Remote Control AKB75055701</td>\n",
       "      <td>lg-accessories</td>\n",
       "    </tr>\n",
       "    <tr>\n",
       "      <th>3</th>\n",
       "      <td>LG Projector Remote Control AKB73616420</td>\n",
       "      <td>lg-accessories</td>\n",
       "    </tr>\n",
       "    <tr>\n",
       "      <th>4</th>\n",
       "      <td>LG Projector Remote Control AKB75695302</td>\n",
       "      <td>lg-accessories</td>\n",
       "    </tr>\n",
       "  </tbody>\n",
       "</table>\n",
       "</div>"
      ],
      "text/plain": [
       "                          LG Gallery Stand  lg-accessories\n",
       "0  LG Projector Remote Control AKB75735303  lg-accessories\n",
       "1  LG Projector Remote Control AKB74915376  lg-accessories\n",
       "2  LG Projector Remote Control AKB75055701  lg-accessories\n",
       "3  LG Projector Remote Control AKB73616420  lg-accessories\n",
       "4  LG Projector Remote Control AKB75695302  lg-accessories"
      ]
     },
     "execution_count": 1,
     "metadata": {},
     "output_type": "execute_result"
    }
   ],
   "source": [
    "import pandas as pd\n",
    "\n",
    "df=pd.read_csv(\"Final-LG.csv\")\n",
    "df.head()"
   ]
  },
  {
   "cell_type": "code",
   "execution_count": 30,
   "id": "e793c725",
   "metadata": {},
   "outputs": [],
   "source": [
    "def is_leasable(string):\n",
    "    string= \"\".join(str(string).split())\n",
    "    if \"Filter\" in string or \"Rack\" in string or \"Remote\" in string or \"Mount\" in string or \"Sleeve\" in string or \"Replacement\" in string and \"Laptop\" not in string and \"Refrigerator\" not in string and \"Microwave\" not in string and \"Projector\" not in string and \"TV\" not in string and \"AirConditioner\" not in string and \"AirFry\" not in string and \"Oven\" not in string and \"Induction\" not in string:\n",
    "        return False\n",
    "    elif \"SolarPanel\" in string or \"Vacuum\" in string or \"Vacuume\" in string or \"Washer\" in string or \"Dryer\" in string or \"Gas\" in string or \"Pump\" in string or \"Purifier\" in string or \"Display\" in string or \"Monitor\" in string or \"Dishwasher\" in string or \"Laptop\" in string or \"Refrigerator\" in string or \"Microwave\" in string or \"Projector\" in string or \"TV\" in string or \"AirConditioner\" in string or \"AirFry\" in string or \"Oven\" in string or \"Induction\" in string and \"Remote\" not in string and \"Mount\" not in string and \"Sleeve\" not in string and \"Replacement\" not in string and \"Remote\" not in string and \"Filter\" not in string and \"Rack\" not in string:\n",
    "        return True\n",
    "    elif \"Dehumidifier\" in string or \"AirPurifier\" in string or \"Freezer\" in string or \"Player\" in string or \"Recording\" in string or \"Cable\" in string or \"SoundBar\" in string or \"Speaker\" in string or \"Support\" in string or \"SUPPORT\"  in string or \"Rewriter\"  in string or \"REWRITER\" in string or \"Writer\" in string:\n",
    "        return True\n",
    "    elif \"Cooktop\" in string or \"Connector\" in string or \"Adapter\" or \"Hanger\" in string:\n",
    "        return False\n",
    "      \n",
    "    else:\n",
    "        pass\n",
    "    \n",
    "        "
   ]
  },
  {
   "cell_type": "code",
   "execution_count": 31,
   "id": "a0630b6b",
   "metadata": {},
   "outputs": [
    {
     "data": {
      "text/html": [
       "<div>\n",
       "<style scoped>\n",
       "    .dataframe tbody tr th:only-of-type {\n",
       "        vertical-align: middle;\n",
       "    }\n",
       "\n",
       "    .dataframe tbody tr th {\n",
       "        vertical-align: top;\n",
       "    }\n",
       "\n",
       "    .dataframe thead th {\n",
       "        text-align: right;\n",
       "    }\n",
       "</style>\n",
       "<table border=\"1\" class=\"dataframe\">\n",
       "  <thead>\n",
       "    <tr style=\"text-align: right;\">\n",
       "      <th></th>\n",
       "      <th>LG Gallery Stand</th>\n",
       "      <th>lg-accessories</th>\n",
       "      <th>Is Leasable</th>\n",
       "    </tr>\n",
       "  </thead>\n",
       "  <tbody>\n",
       "    <tr>\n",
       "      <th>0</th>\n",
       "      <td>LG Projector Remote Control AKB75735303</td>\n",
       "      <td>lg-accessories</td>\n",
       "      <td>False</td>\n",
       "    </tr>\n",
       "    <tr>\n",
       "      <th>1</th>\n",
       "      <td>LG Projector Remote Control AKB74915376</td>\n",
       "      <td>lg-accessories</td>\n",
       "      <td>False</td>\n",
       "    </tr>\n",
       "    <tr>\n",
       "      <th>2</th>\n",
       "      <td>LG Projector Remote Control AKB75055701</td>\n",
       "      <td>lg-accessories</td>\n",
       "      <td>False</td>\n",
       "    </tr>\n",
       "    <tr>\n",
       "      <th>3</th>\n",
       "      <td>LG Projector Remote Control AKB73616420</td>\n",
       "      <td>lg-accessories</td>\n",
       "      <td>False</td>\n",
       "    </tr>\n",
       "    <tr>\n",
       "      <th>4</th>\n",
       "      <td>LG Projector Remote Control AKB75695302</td>\n",
       "      <td>lg-accessories</td>\n",
       "      <td>False</td>\n",
       "    </tr>\n",
       "  </tbody>\n",
       "</table>\n",
       "</div>"
      ],
      "text/plain": [
       "                          LG Gallery Stand  lg-accessories  Is Leasable\n",
       "0  LG Projector Remote Control AKB75735303  lg-accessories        False\n",
       "1  LG Projector Remote Control AKB74915376  lg-accessories        False\n",
       "2  LG Projector Remote Control AKB75055701  lg-accessories        False\n",
       "3  LG Projector Remote Control AKB73616420  lg-accessories        False\n",
       "4  LG Projector Remote Control AKB75695302  lg-accessories        False"
      ]
     },
     "execution_count": 31,
     "metadata": {},
     "output_type": "execute_result"
    }
   ],
   "source": [
    "df[\"Is Leasable\"]=df[\"LG Gallery Stand\"].apply(is_leasable)\n",
    "df.head()"
   ]
  },
  {
   "cell_type": "code",
   "execution_count": 32,
   "id": "a85d0ee3",
   "metadata": {},
   "outputs": [],
   "source": [
    "df.to_excel(\"Final_LG_Classified.xlsx\")"
   ]
  },
  {
   "cell_type": "code",
   "execution_count": null,
   "id": "cebaa41b",
   "metadata": {},
   "outputs": [],
   "source": []
  }
 ],
 "metadata": {
  "kernelspec": {
   "display_name": "Python 3",
   "language": "python",
   "name": "python3"
  },
  "language_info": {
   "codemirror_mode": {
    "name": "ipython",
    "version": 3
   },
   "file_extension": ".py",
   "mimetype": "text/x-python",
   "name": "python",
   "nbconvert_exporter": "python",
   "pygments_lexer": "ipython3",
   "version": "3.8.8"
  }
 },
 "nbformat": 4,
 "nbformat_minor": 5
}
