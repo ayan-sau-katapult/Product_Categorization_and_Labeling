{
 "cells": [
  {
   "cell_type": "code",
   "execution_count": 1,
   "id": "bb398a42",
   "metadata": {},
   "outputs": [
    {
     "data": {
      "text/html": [
       "<div>\n",
       "<style scoped>\n",
       "    .dataframe tbody tr th:only-of-type {\n",
       "        vertical-align: middle;\n",
       "    }\n",
       "\n",
       "    .dataframe tbody tr th {\n",
       "        vertical-align: top;\n",
       "    }\n",
       "\n",
       "    .dataframe thead th {\n",
       "        text-align: right;\n",
       "    }\n",
       "</style>\n",
       "<table border=\"1\" class=\"dataframe\">\n",
       "  <thead>\n",
       "    <tr style=\"text-align: right;\">\n",
       "      <th></th>\n",
       "      <th>Product Name</th>\n",
       "      <th>Product Category</th>\n",
       "      <th>True/False</th>\n",
       "    </tr>\n",
       "  </thead>\n",
       "  <tbody>\n",
       "    <tr>\n",
       "      <th>0</th>\n",
       "      <td>The Nectar Mattress Protector - King</td>\n",
       "      <td>NaN</td>\n",
       "      <td>True</td>\n",
       "    </tr>\n",
       "    <tr>\n",
       "      <th>1</th>\n",
       "      <td>Luxury Bed Sheet Set - King - whitestripe</td>\n",
       "      <td>NaN</td>\n",
       "      <td>True</td>\n",
       "    </tr>\n",
       "    <tr>\n",
       "      <th>2</th>\n",
       "      <td>Nectar Mattress Foundation - Queen</td>\n",
       "      <td>NaN</td>\n",
       "      <td>True</td>\n",
       "    </tr>\n",
       "    <tr>\n",
       "      <th>3</th>\n",
       "      <td>The Nectar Mattress - Queen</td>\n",
       "      <td>NaN</td>\n",
       "      <td>True</td>\n",
       "    </tr>\n",
       "    <tr>\n",
       "      <th>4</th>\n",
       "      <td>Two Premium Standard Size Nectar Pillows per M...</td>\n",
       "      <td>NaN</td>\n",
       "      <td>True</td>\n",
       "    </tr>\n",
       "  </tbody>\n",
       "</table>\n",
       "</div>"
      ],
      "text/plain": [
       "                                        Product Name  Product Category  \\\n",
       "0               The Nectar Mattress Protector - King               NaN   \n",
       "1          Luxury Bed Sheet Set - King - whitestripe               NaN   \n",
       "2                 Nectar Mattress Foundation - Queen               NaN   \n",
       "3                        The Nectar Mattress - Queen               NaN   \n",
       "4  Two Premium Standard Size Nectar Pillows per M...               NaN   \n",
       "\n",
       "   True/False  \n",
       "0        True  \n",
       "1        True  \n",
       "2        True  \n",
       "3        True  \n",
       "4        True  "
      ]
     },
     "execution_count": 1,
     "metadata": {},
     "output_type": "execute_result"
    }
   ],
   "source": [
    "import pandas as pd\n",
    "\n",
    "df=pd.read_excel(\"nectar_data.xlsx\")\n",
    "df.head()"
   ]
  },
  {
   "cell_type": "code",
   "execution_count": 15,
   "id": "0696bc48",
   "metadata": {},
   "outputs": [],
   "source": [
    "def prod_name(string):\n",
    "    string= \"\".join(string.split())\n",
    "    if \"BedSheet\" in string or \"BedSheets\" in string or \"Sheet\" in string or \"SheetSet\" in string:\n",
    "        return \"Bed Sheet\"\n",
    "    elif \"Mattress\" in string and \"Protector\" not in string and \"Foundation\" not in string and \"Pillows\" not in string and \"Pillow\" not in string:\n",
    "        return \"Matress\"\n",
    "    elif \"Pillows\" in string or \"Pillow\" in string:\n",
    "        return \"Pillows\"\n",
    "    elif \"BedFrame\" in string or \"BedFrames\" in string or \"Frames\" in string or \"AdjustableFrame\" in string:\n",
    "        return \"Bed Frames\"\n",
    "    elif \"Blanket\" in string or \"Blankets\" in string:\n",
    "        return \"Blanket\"\n",
    "    elif \"Protector\" in string:\n",
    "        return \"Mattress Protector\"\n",
    "    elif \"Foundation\" in string:\n",
    "        return \"Mattress Foundation\"\n",
    "    else:\n",
    "        pass\n",
    "    "
   ]
  },
  {
   "cell_type": "code",
   "execution_count": 16,
   "id": "ecdcc265",
   "metadata": {},
   "outputs": [
    {
     "data": {
      "text/html": [
       "<div>\n",
       "<style scoped>\n",
       "    .dataframe tbody tr th:only-of-type {\n",
       "        vertical-align: middle;\n",
       "    }\n",
       "\n",
       "    .dataframe tbody tr th {\n",
       "        vertical-align: top;\n",
       "    }\n",
       "\n",
       "    .dataframe thead th {\n",
       "        text-align: right;\n",
       "    }\n",
       "</style>\n",
       "<table border=\"1\" class=\"dataframe\">\n",
       "  <thead>\n",
       "    <tr style=\"text-align: right;\">\n",
       "      <th></th>\n",
       "      <th>Product Name</th>\n",
       "      <th>Product Category</th>\n",
       "      <th>True/False</th>\n",
       "    </tr>\n",
       "  </thead>\n",
       "  <tbody>\n",
       "    <tr>\n",
       "      <th>0</th>\n",
       "      <td>The Nectar Mattress Protector - King</td>\n",
       "      <td>Mattress Protector</td>\n",
       "      <td>True</td>\n",
       "    </tr>\n",
       "    <tr>\n",
       "      <th>1</th>\n",
       "      <td>Luxury Bed Sheet Set - King - whitestripe</td>\n",
       "      <td>Bed Sheet</td>\n",
       "      <td>True</td>\n",
       "    </tr>\n",
       "    <tr>\n",
       "      <th>2</th>\n",
       "      <td>Nectar Mattress Foundation - Queen</td>\n",
       "      <td>Mattress Foundation</td>\n",
       "      <td>True</td>\n",
       "    </tr>\n",
       "    <tr>\n",
       "      <th>3</th>\n",
       "      <td>The Nectar Mattress - Queen</td>\n",
       "      <td>Matress</td>\n",
       "      <td>True</td>\n",
       "    </tr>\n",
       "    <tr>\n",
       "      <th>4</th>\n",
       "      <td>Two Premium Standard Size Nectar Pillows per M...</td>\n",
       "      <td>Pillows</td>\n",
       "      <td>True</td>\n",
       "    </tr>\n",
       "  </tbody>\n",
       "</table>\n",
       "</div>"
      ],
      "text/plain": [
       "                                        Product Name     Product Category  \\\n",
       "0               The Nectar Mattress Protector - King   Mattress Protector   \n",
       "1          Luxury Bed Sheet Set - King - whitestripe            Bed Sheet   \n",
       "2                 Nectar Mattress Foundation - Queen  Mattress Foundation   \n",
       "3                        The Nectar Mattress - Queen              Matress   \n",
       "4  Two Premium Standard Size Nectar Pillows per M...              Pillows   \n",
       "\n",
       "   True/False  \n",
       "0        True  \n",
       "1        True  \n",
       "2        True  \n",
       "3        True  \n",
       "4        True  "
      ]
     },
     "execution_count": 16,
     "metadata": {},
     "output_type": "execute_result"
    }
   ],
   "source": [
    "df[\"Product Category\"]=df[\"Product Name\"].apply(prod_name)\n",
    "df.head()"
   ]
  },
  {
   "cell_type": "code",
   "execution_count": 17,
   "id": "432106d6",
   "metadata": {},
   "outputs": [
    {
     "data": {
      "text/plain": [
       "Product Name        0\n",
       "Product Category    0\n",
       "True/False          0\n",
       "dtype: int64"
      ]
     },
     "execution_count": 17,
     "metadata": {},
     "output_type": "execute_result"
    }
   ],
   "source": [
    "df.isnull().sum()"
   ]
  },
  {
   "cell_type": "code",
   "execution_count": 18,
   "id": "d452dbd2",
   "metadata": {},
   "outputs": [
    {
     "data": {
      "text/plain": [
       "2042"
      ]
     },
     "execution_count": 18,
     "metadata": {},
     "output_type": "execute_result"
    }
   ],
   "source": [
    "len(df)"
   ]
  },
  {
   "cell_type": "code",
   "execution_count": 19,
   "id": "ca221731",
   "metadata": {},
   "outputs": [],
   "source": [
    "df.to_excel(\"Nectar_categorized.xlsx\")"
   ]
  },
  {
   "cell_type": "code",
   "execution_count": null,
   "id": "2701b49c",
   "metadata": {},
   "outputs": [],
   "source": []
  }
 ],
 "metadata": {
  "kernelspec": {
   "display_name": "Python 3",
   "language": "python",
   "name": "python3"
  },
  "language_info": {
   "codemirror_mode": {
    "name": "ipython",
    "version": 3
   },
   "file_extension": ".py",
   "mimetype": "text/x-python",
   "name": "python",
   "nbconvert_exporter": "python",
   "pygments_lexer": "ipython3",
   "version": "3.8.8"
  }
 },
 "nbformat": 4,
 "nbformat_minor": 5
}
