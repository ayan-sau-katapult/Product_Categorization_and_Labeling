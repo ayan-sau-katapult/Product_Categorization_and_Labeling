{
 "cells": [
  {
   "cell_type": "code",
   "execution_count": 2,
   "id": "1bb65a0d",
   "metadata": {},
   "outputs": [
    {
     "data": {
      "text/html": [
       "<div>\n",
       "<style scoped>\n",
       "    .dataframe tbody tr th:only-of-type {\n",
       "        vertical-align: middle;\n",
       "    }\n",
       "\n",
       "    .dataframe tbody tr th {\n",
       "        vertical-align: top;\n",
       "    }\n",
       "\n",
       "    .dataframe thead th {\n",
       "        text-align: right;\n",
       "    }\n",
       "</style>\n",
       "<table border=\"1\" class=\"dataframe\">\n",
       "  <thead>\n",
       "    <tr style=\"text-align: right;\">\n",
       "      <th></th>\n",
       "      <th>href</th>\n",
       "      <th>Name</th>\n",
       "      <th>Price</th>\n",
       "      <th>Is_Leasable</th>\n",
       "    </tr>\n",
       "  </thead>\n",
       "  <tbody>\n",
       "    <tr>\n",
       "      <th>0</th>\n",
       "      <td>https://moto.hubbleconnected.com/en/products/7...</td>\n",
       "      <td>Motorola EASE34</td>\n",
       "      <td>NaN</td>\n",
       "      <td>NaN</td>\n",
       "    </tr>\n",
       "    <tr>\n",
       "      <th>1</th>\n",
       "      <td>https://moto.hubbleconnected.com/en/products/7...</td>\n",
       "      <td>Motorola BLISS54-2</td>\n",
       "      <td>NaN</td>\n",
       "      <td>NaN</td>\n",
       "    </tr>\n",
       "    <tr>\n",
       "      <th>2</th>\n",
       "      <td>https://moto.hubbleconnected.com/en/products/6...</td>\n",
       "      <td>Motorola COMFORT75, COMFORT75-2</td>\n",
       "      <td>NaN</td>\n",
       "      <td>NaN</td>\n",
       "    </tr>\n",
       "    <tr>\n",
       "      <th>3</th>\n",
       "      <td>https://moto.hubbleconnected.com/en/products/4...</td>\n",
       "      <td>Motorola MBP36XLBU (Accessory Camera)</td>\n",
       "      <td>NaN</td>\n",
       "      <td>NaN</td>\n",
       "    </tr>\n",
       "    <tr>\n",
       "      <th>4</th>\n",
       "      <td>https://moto.hubbleconnected.com/en/products/4...</td>\n",
       "      <td>Motorola MBP38SBU (Accessory Camera)</td>\n",
       "      <td>NaN</td>\n",
       "      <td>NaN</td>\n",
       "    </tr>\n",
       "  </tbody>\n",
       "</table>\n",
       "</div>"
      ],
      "text/plain": [
       "                                                href  \\\n",
       "0  https://moto.hubbleconnected.com/en/products/7...   \n",
       "1  https://moto.hubbleconnected.com/en/products/7...   \n",
       "2  https://moto.hubbleconnected.com/en/products/6...   \n",
       "3  https://moto.hubbleconnected.com/en/products/4...   \n",
       "4  https://moto.hubbleconnected.com/en/products/4...   \n",
       "\n",
       "                                    Name Price  Is_Leasable  \n",
       "0                        Motorola EASE34   NaN          NaN  \n",
       "1                     Motorola BLISS54-2   NaN          NaN  \n",
       "2        Motorola COMFORT75, COMFORT75-2   NaN          NaN  \n",
       "3  Motorola MBP36XLBU (Accessory Camera)   NaN          NaN  \n",
       "4   Motorola MBP38SBU (Accessory Camera)   NaN          NaN  "
      ]
     },
     "execution_count": 2,
     "metadata": {},
     "output_type": "execute_result"
    }
   ],
   "source": [
    "import pandas as pd\n",
    "\n",
    "df=pd.read_excel(\"big_df.xlsx\").drop(\"Unnamed: 0\",axis=1)\n",
    "df.head()"
   ]
  },
  {
   "cell_type": "code",
   "execution_count": null,
   "id": "00e50514",
   "metadata": {},
   "outputs": [],
   "source": []
  }
 ],
 "metadata": {
  "kernelspec": {
   "display_name": "Python 3",
   "language": "python",
   "name": "python3"
  },
  "language_info": {
   "codemirror_mode": {
    "name": "ipython",
    "version": 3
   },
   "file_extension": ".py",
   "mimetype": "text/x-python",
   "name": "python",
   "nbconvert_exporter": "python",
   "pygments_lexer": "ipython3",
   "version": "3.8.8"
  }
 },
 "nbformat": 4,
 "nbformat_minor": 5
}
