{
 "cells": [
  {
   "cell_type": "code",
   "execution_count": 17,
   "id": "72aec911",
   "metadata": {},
   "outputs": [],
   "source": [
    "import requests\n",
    "from bs4 import BeautifulSoup\n",
    "import csv\n",
    "   \n",
    "URL = \"https://www.bedbathandbeyond.com/store/category/bedding/comforter-sets/15502?icid=L1_bedding_catmod_c025_22390_5_comfortersets&removeInStock=true\"\n",
    "r = requests.get(URL)"
   ]
  },
  {
   "cell_type": "code",
   "execution_count": 18,
   "id": "cb8f7bf8",
   "metadata": {},
   "outputs": [],
   "source": [
    "soup = BeautifulSoup(r.content, 'lxml')\n"
   ]
  },
  {
   "cell_type": "code",
   "execution_count": 19,
   "id": "c3f30332",
   "metadata": {},
   "outputs": [],
   "source": [
    "body=soup.find(\"body\")\n",
    "div=body.find(\"div\")"
   ]
  },
  {
   "cell_type": "code",
   "execution_count": 24,
   "id": "6256fa70",
   "metadata": {},
   "outputs": [
    {
     "name": "stdout",
     "output_type": "stream",
     "text": [
      "<svg id=\"__SVG_SPRITE_NODE__\" style=\"position: absolute; width: 0; height: 0\" xmlns=\"http://www.w3.org/2000/svg\" xmlns:xlink=\"http://www.w3.org/1999/xlink\"><symbol id=\"college\" viewbox=\"0 0 30 30\" xmlns=\"http://www.w3.org/2000/svg\"><path d=\"M15 15.4c-.1 0-.2 0-.4-.1l-14-4.1c-.4-.2-.6-.6-.6-1 0-.2.1-.6.7-.8l13.8-4.3c.2-.1.4-.1.8 0l13.9 4.1c.5.1.8.5.8.9 0 .2-.1.7-.8.9l-13.9 4.3s-.1.1-.3.1zM3 10.3l12 3.5.2-.1L27 10 15 6.5h-.1L3 10.3z\"></path><path d=\"M26.662 10.907l1.5-.012.078 9.9-1.5.012z\"></path><path d=\"M27.9 24.9h-.7c-.5 0-1-.4-1-1v-2.5c0-.5.4-1 1-1h.7c.5 0 1 .4 1 1v2.5c0 .5-.4 1-1 1zm0-3.5h-.7v2.5h.7v-2.5zm0 2.5zm-12.5-1.5c-3 0-6.4-.3-10.1-1.3-.5-.1-.8-.6-.8-1.1l-.1-8.3h1.5l.1 8c8.7 2.2 15.5.7 18.4-.1l-.1-8h1.5l.1 8.3c0 .5-.3.9-.7 1.1-1.8.5-5.2 1.3-9.8 1.4z\"></path></symbol><symbol id=\"movers\" viewbox=\"0 0 30 30\" xmlns=\"http://www.w3.org/2000/svg\"><path d=\"M8.3 30c-.3 0-.6 0-.9-.1-1.1-.2-2-.9-2.6-1.8-.6-.9-.8-2-.5-3.1.2-1.1.9-2 1.8-2.6.9-.6 2-.8 3.1-.5 2.2.5 3.6 2.7 3.1 4.9-.4 1.9-2.1 3.2-4 3.2zm0-6.7c-.5 0-1 .1-1.4.4-.6.4-1 .9-1.2 1.6-.2.7 0 1.4.3 2s.9 1 1.6 1.2c1.4.3 2.8-.6 3.1-2 .3-1.4-.6-2.8-2-3.1 0-.1-.2-.1-.4-.1z\"></path><path d=\"M11 23.8c-1 0-1.8-.8-1.8-1.8v-9.3h17.1c1 0 1.8.8 1.8 1.8V22c0 1-.8 1.8-1.8 1.8H11zm-.2-9.6V22c0 .1.1.2.2.2h15.4c.1 0 .2-.1.2-.2v-7.6c0-.1-.1-.2-.2-.2H10.8z\"></path><path d=\"M9.3 14.2V6.8c0-1 .8-1.8 1.8-1.8h10.6c1 0 1.8.8 1.8 1.8v5.6c0 1-.8 1.8-1.8 1.8H9.3zm12.3-7.6H11c-.1 0-.2.1-.2.2v5.9h10.8c.1 0 .2-.1.2-.2V6.8c0-.1-.1-.2-.2-.2zM7.1 23.3c-.4 0-.8-.3-.8-.8V6c0-.1 0-.2-.1-.3l-6-4.4c-.3-.2-.4-.7-.2-1 .2-.3.7-.4 1-.2l6 4.4c.6.4.9.9.9 1.5v16.5c0 .5-.3.8-.8.8zm22.2 3.4H11.9c-.4 0-.8-.3-.8-.8s.3-.8.8-.8h17.4c.4 0 .8.3.8.8s-.4.8-.8.8z\"></path></symbol><symbol id=\"registry\" viewbox=\"0 0 20 19\" xmlns=\"http://www.w3.org/2000/svg\"><g fill=\"none\" fill-rule=\"evenodd\" stroke-width=\"1.5\"><path d=\"M17.277 3.604H2.398A2.4 2.4 0 000 6.002v.96A2.4 2.4 0 002.398 9.36h14.88a2.401 2.401 0 002.397-2.398v-.96a2.401 2.401 0 00-2.398-2.398m0 2c.22 0 .398.178.398.398v.96c0 .22-.178.398-.398.398H2.398A.398.398 0 012 6.962v-.96c0-.22.178-.398.398-.398h14.88\" fill=\"currentColor\"></path><path d=\"M16.746 8.488v7.285c0 .845-.721 1.53-1.61 1.53H4.539c-.89 0-1.61-.685-1.61-1.53V8.488m6.908 9.189V4.16m.055.451H5.586c-2.069-.204-1.804-3.393.075-3.595C8.425.718 9.892 4.611 9.892 4.611z\" stroke=\"currentColor\"></path><path d=\"M9.782 4.611h4.306c2.07-.204 1.804-3.393-.075-3.595-2.764-.298-4.23 3.595-4.23 3.595z\" stroke=\"currentColor\"></path></g></symbol><symbol id=\"account\" viewbox=\"0 0 14 14\" xmlns=\"http://www.w3.org/2000/svg\"><g fill=\"none\" fill-rule=\"evenodd\" stroke=\"currentColor\" stroke-width=\"1.5\"><path d=\"M10.785 5.158a4.158 4.158 0 01-4.158 4.158 4.158 4.158 0 110-8.316c2.297 0 4.16 1.86 4.16 4.158z\"></path><path d=\"M1 16.41c0-3.69 2.52-6.68 5.627-6.68s5.627 2.99 5.627 6.68\" stroke-linecap=\"round\"></path></g></symbol><symbol id=\"heart\" viewbox=\"0 0 32 30\" xmlns=\"http://www.w3.org/2000/svg\"><path d=\"M29.23 2.7A9.496 9.496 0 0022.76 0a9.894 9.894 0 00-6.48 2.7L16 3l-.28-.3A9.125 9.125 0 009.24 0C6.8-.04 4.44.94 2.77 2.7A9.49 9.49 0 000 9.5c-.07 2.56.94 5 2.77 6.78L15.94 30l13.18-13.7A9.454 9.454 0 0032 9.5c.04-2.54-.96-5-2.77-6.8zm-1.88 11.8L16 26.1 4.6 14.5a7.691 7.691 0 01-1.87-5c0-1.8.68-3.52 1.88-4.84a6.684 6.684 0 014.64-2c1.7.06 3.3.78 4.48 2L16 7.03l2.28-2.24a6.205 6.205 0 014.48-1.98c1.75.02 3.43.73 4.65 2 1.23 1.3 1.9 3.03 1.9 4.82.05 1.8-.63 3.56-1.9 4.85h-.05z\"></path></symbol><symbol id=\"myOffers\" viewbox=\"0 0 18 18\" xmlns=\"http://www.w3.org/2000/svg\"><g fill=\"none\" fill-rule=\"evenodd\" stroke=\"currentColor\" transform=\"rotate(-45 5.975 15.203)\"><path d=\"M17.67 7.35a1.13 1.13 0 00-.297-.763l-4.055-4.43a1.13 1.13 0 00-1.668 0l-4.055 4.43a1.13 1.13 0 00-.296.763v10.642a1.13 1.13 0 001.13 1.131h8.11a1.13 1.13 0 001.13-1.13V7.35z\" stroke-width=\"1.5\"></path><circle cx=\"12.524\" cy=\"7.722\" fill=\"#000\" r=\"1\"></circle></g></symbol><symbol id=\"cart\" viewbox=\"0 0 19 18\" xmlns=\"http://www.w3.org/2000/svg\"><g fill=\"none\" fill-rule=\"evenodd\" stroke=\"currentColor\" stroke-linecap=\"round\" stroke-linejoin=\"round\"><path d=\"M1 1l2.785.287 2.485 9.021h9.148l1.704-6.152H4.918\" stroke-width=\"1.5\"></path><path d=\"M9.337 14.527a1.747 1.747 0 11-3.493 0 1.747 1.747 0 013.493 0z\" stroke-width=\"1.75\"></path><path d=\"M15.912 14.527a1.747 1.747 0 11-3.494 0 1.747 1.747 0 013.494 0z\" stroke-width=\"1.5\"></path></g></symbol><symbol id=\"menu\" viewbox=\"0 0 22 16\" xmlns=\"http://www.w3.org/2000/svg\"><path d=\"M1 1h20M1 8h20M1 15h20\" fill=\"none\" stroke=\"currentColor\" stroke-linecap=\"round\" stroke-linejoin=\"round\" stroke-width=\"2\"></path></symbol><symbol id=\"caret\" viewbox=\"0 0 12.01 6.15\" xmlns=\"http://www.w3.org/2000/svg\"><g data-name=\"Layer 2\"><g data-name=\"Layer 1\"><path d=\"M6 6.15a1.07 1.07 0 01-.6-.2l-5-4.2A1 1 0 01.25.35a1 1 0 011.4-.1L6 3.85l4.4-3.6a1 1 0 011.4.1 1 1 0 01-.1 1.4L6.65 6a1.85 1.85 0 01-.65.15z\" data-name=\"Filter/Arrow/Down\" fill=\"currentColor\"></path></g></g></symbol><symbol id=\"offers\" viewbox=\"0 0 18 18\" xmlns=\"http://www.w3.org/2000/svg\"><g fill=\"none\" fill-rule=\"evenodd\" transform=\"rotate(-45 5.975 15.203)\"><path d=\"M17.67 7.35a1.13 1.13 0 00-.297-.763l-4.055-4.43a1.13 1.13 0 00-1.668 0l-4.055 4.43a1.13 1.13 0 00-.296.763v10.642a1.13 1.13 0 001.13 1.131h8.11a1.13 1.13 0 001.13-1.13V7.35z\" stroke=\"currentColor\" stroke-width=\"1.5\"></path><circle cx=\"12.524\" cy=\"7.722\" fill=\"currentColor\" r=\"1\"></circle></g></symbol><symbol id=\"star\" viewbox=\"0 0 14 14\" xmlns=\"http://www.w3.org/2000/svg\"><path d=\"M7 11.11l-4.114 2.134.758-4.573-3.3-3.25 4.582-.69L7 .58l2.074 4.146 4.583.69-3.3 3.255.758 4.577\" fill=\"currentColor\" fill-rule=\"evenodd\"></path></symbol></svg>\n",
      "------------------------------------------\n"
     ]
    }
   ],
   "source": [
    "for i in body.find(\"div\"):\n",
    "    print(i)\n",
    "    print(\"------------------------------------------\")"
   ]
  },
  {
   "cell_type": "code",
   "execution_count": null,
   "id": "d3dd9653",
   "metadata": {},
   "outputs": [],
   "source": []
  }
 ],
 "metadata": {
  "kernelspec": {
   "display_name": "Python 3",
   "language": "python",
   "name": "python3"
  },
  "language_info": {
   "codemirror_mode": {
    "name": "ipython",
    "version": 3
   },
   "file_extension": ".py",
   "mimetype": "text/x-python",
   "name": "python",
   "nbconvert_exporter": "python",
   "pygments_lexer": "ipython3",
   "version": "3.8.8"
  }
 },
 "nbformat": 4,
 "nbformat_minor": 5
}
