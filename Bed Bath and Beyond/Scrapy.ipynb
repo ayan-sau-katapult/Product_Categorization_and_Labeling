{
 "cells": [
  {
   "cell_type": "code",
   "execution_count": 1,
   "id": "2b87abb9",
   "metadata": {
    "scrolled": true
   },
   "outputs": [],
   "source": [
    "import requests\n",
    "from bs4 import BeautifulSoup\n",
    "import csv\n",
    "   \n",
    "URL = \"https://www.bedbathandbeyond.com/store/category/bedding/comforter-sets/15502?icid=L1_bedding_catmod_c025_22390_5_comfortersets&removeInStock=true\"\n",
    "r = requests.get(URL)\n",
    "   \n",
    "soup = BeautifulSoup(r.content, 'lxml')\n",
    "\n",
    "tags=[]\n",
    "for i in soup.findAll(\"div\"):\n",
    "    if i.a!=None:\n",
    "        tags.append(i.a)\n",
    "#    print(i.a)\n",
    "#    print(\"---------------------------------------------------------\")"
   ]
  },
  {
   "cell_type": "code",
   "execution_count": 2,
   "id": "77abf926",
   "metadata": {},
   "outputs": [],
   "source": [
    "list_div=[]\n",
    "for i in tags:\n",
    "    list_div.append(i.div)"
   ]
  },
  {
   "cell_type": "code",
   "execution_count": 3,
   "id": "82d67d37",
   "metadata": {},
   "outputs": [],
   "source": [
    "for i in list_div:\n",
    "    print(i)"
   ]
  },
  {
   "cell_type": "code",
   "execution_count": null,
   "id": "3c99570f",
   "metadata": {},
   "outputs": [],
   "source": []
  },
  {
   "cell_type": "code",
   "execution_count": null,
   "id": "ea0e51b4",
   "metadata": {},
   "outputs": [],
   "source": []
  },
  {
   "cell_type": "code",
   "execution_count": 2,
   "id": "b0b85b17",
   "metadata": {
    "scrolled": false
   },
   "outputs": [],
   "source": [
    "prod_list=[]\n",
    "for i in tags:\n",
    "    prod_list.append(i.text)\n",
    "        \n",
    "final_list=list(set(prod_list))"
   ]
  },
  {
   "cell_type": "code",
   "execution_count": 167,
   "id": "56a43008",
   "metadata": {},
   "outputs": [
    {
     "data": {
      "text/plain": [
       "['health & beauty',\n",
       " 'Simply Essential™ Striped 9-Piece Comforter Set',\n",
       " 'Bedding',\n",
       " 'Madison Park Vienna Comforter Set',\n",
       " 'UGG® Devon Sherpa 3-Piece Reversible Comforter Set',\n",
       " 'wedding registry',\n",
       " 'Bed In A Bag',\n",
       " 'Madison Park Serene 7-Piece Comforter Set',\n",
       " 'Simply Essential™ Microfiber Down Alternative Comforter',\n",
       " 'Stratford 8-Piece Comforter Set in Aqua',\n",
       " 'Martha Stewart Premium Down Comforter',\n",
       " 'Nanshing Diana 7-Piece Comforter Set',\n",
       " 'Daniel 8-Piece Comforter Set',\n",
       " 'Nestwell™ Pleated Rhombus Comforter Set',\n",
       " 'Back',\n",
       " 'UGG® Avery 3-Piece Reversible Comforter Set',\n",
       " 'Madison Park Odette Jacquard 8-Piece Reversible Comforter Set',\n",
       " 'comforter sets',\n",
       " 'Nestwell™ Washed Linen Cotton Comforter Set',\n",
       " 'storage & organization',\n",
       " 'Down & down alternative comforters',\n",
       " 'UGG® Devon 3-Piece Reversible Stripe Comforter Set',\n",
       " 'start your registry',\n",
       " 'Elegant Comfort Dobby Stripe Comforter Set',\n",
       " 'Go to Buy Buy Baby website.Buy Buy BabyWill open a new window',\n",
       " 'Save $100 Dyson Outsize vacuum ',\n",
       " 'Potential Suppliers',\n",
       " 'Intelligent Design Malea Reversible Shaggy Faux Fur Comforter Set',\n",
       " 'Madison Park® Essentials Joella 24-Piece Comforter Set',\n",
       " 'UGG® Devon 3-Piece Reversible Textured Comforter Set',\n",
       " 'Wamsutta® Dream Zone® Light Warmth White Goose Down Comforter',\n",
       " 'bed in a bag',\n",
       " 'Bee & Willow™ Dotted Lines 3-Piece Comforter Set in Grey',\n",
       " 'Nestwell™Cozy, dreamy bedding that’s all about everyday comfort.\\n',\n",
       " 'world maps',\n",
       " 'downloadIos. Opens in a new window.downloadIosWill open a new window',\n",
       " 'UGG® Landers Faux Fur 3-Piece Comforter Set',\n",
       " 'Simply Essential™Bedding at these prices? You’re not dreaming...yet. \\n',\n",
       " 'Wild Sage™ Sydney 3-Piece Comforter Set',\n",
       " 'All Season Down Alternative 3-Piece Reversible Comforter Set',\n",
       " 'Pure Beech® Jersey Knit Modal Comforter Set',\n",
       " 'Interior Decorating Services',\n",
       " 'kitchen',\n",
       " 'UGG® Classic Sherpa 3-Piece Comforter Set',\n",
       " 'Hi-Loft Luxury Pintuck 8-Piece Comforter Set',\n",
       " 'Intelligent Design Raina 5-Piece Comforter Set',\n",
       " 'Claritin® Cotton Down Alternative Comforter',\n",
       " 'Wild Sage™ Sofia 3-Piece Comforter Set',\n",
       " 'Wild Sage™Bold colors and patterns made to mix and match.\\n',\n",
       " 'Simply Essential™ Boxstitch 9-Piece Comforter Set',\n",
       " 'Urban Habitat Brooklyn 7-Piece Comforter Set',\n",
       " 'Simply Essential™ Watercolor Chevron 3-Piece Comforter Set',\n",
       " 'facebookWill open a new window',\n",
       " 'UGG® Devon 3-Piece Reversible Solid Comforter Set',\n",
       " 'Blue',\n",
       " 'Kathy Ireland® White Goose Feather and Goose Down Comforter',\n",
       " 'Wamsutta® Hotel Triple Baratta Stitch Comforter Set',\n",
       " 'Intelligent Design Felicia 4-Piece Comforter Set',\n",
       " 'Bee & Willow™ Home Woven Diamonds 3-Piece Comforter Set',\n",
       " 'bedding',\n",
       " 'Hilden 10-Piece Comforter Set',\n",
       " 'Shop now ',\n",
       " 'Bee & Willow® HomeVintage-inspired bedding with a lived-in look and feel.\\n',\n",
       " 'Madison Park Amherst 7-Piece Comforter Set',\n",
       " 'UGG® Devon 3-Piece Reversible Comforter Set',\n",
       " 'skip to navigation',\n",
       " 'UGG® Devon Down Alternative Quilted Comforter',\n",
       " 'Martha Stewart White Feather and Down Comforter',\n",
       " 'Simply Essential™ Tie-Dye 9-Piece Comforter Set',\n",
       " 'twin',\n",
       " 'Wamsutta® Dream Zone® Year Round Warmth White Goose Down Comforter',\n",
       " 'Truly Soft Pleated 3-Piece Comforter Set',\n",
       " 'UGG® Grayson Striped 3-Piece Comforter Set',\n",
       " 'Ryleigh 7-Piece Comforter Set']"
      ]
     },
     "execution_count": 167,
     "metadata": {},
     "output_type": "execute_result"
    }
   ],
   "source": [
    "\n",
    "for i in list(set(prod_list)):\n",
    "    if 'reviews' in i or 'room' in i or 'sign in' in i or 'buy' in i or 'Track' in i or i.isdigit() or 'deals' in i or 'buy' in i or 'occasion' in i or i=='Help' or i==\"Shop now\" or i=='':\n",
    "        final_list.remove(i)\n",
    "    else:\n",
    "        continue\n",
    "    \n",
    "final_list"
   ]
  },
  {
   "cell_type": "code",
   "execution_count": 168,
   "id": "e480506b",
   "metadata": {},
   "outputs": [
    {
     "data": {
      "text/plain": [
       "74"
      ]
     },
     "execution_count": 168,
     "metadata": {},
     "output_type": "execute_result"
    }
   ],
   "source": [
    "len(final_list)"
   ]
  },
  {
   "cell_type": "code",
   "execution_count": 169,
   "id": "90cae684",
   "metadata": {},
   "outputs": [],
   "source": [
    "import pandas as pd\n",
    "\n",
    "df=pd.DataFrame()\n",
    "df[\"Products\"]=final_list"
   ]
  },
  {
   "cell_type": "code",
   "execution_count": 170,
   "id": "7e00a46f",
   "metadata": {},
   "outputs": [
    {
     "data": {
      "text/html": [
       "<div>\n",
       "<style scoped>\n",
       "    .dataframe tbody tr th:only-of-type {\n",
       "        vertical-align: middle;\n",
       "    }\n",
       "\n",
       "    .dataframe tbody tr th {\n",
       "        vertical-align: top;\n",
       "    }\n",
       "\n",
       "    .dataframe thead th {\n",
       "        text-align: right;\n",
       "    }\n",
       "</style>\n",
       "<table border=\"1\" class=\"dataframe\">\n",
       "  <thead>\n",
       "    <tr style=\"text-align: right;\">\n",
       "      <th></th>\n",
       "      <th>Products</th>\n",
       "    </tr>\n",
       "  </thead>\n",
       "  <tbody>\n",
       "    <tr>\n",
       "      <th>0</th>\n",
       "      <td>health &amp; beauty</td>\n",
       "    </tr>\n",
       "    <tr>\n",
       "      <th>1</th>\n",
       "      <td>Simply Essential™ Striped 9-Piece Comforter Set</td>\n",
       "    </tr>\n",
       "    <tr>\n",
       "      <th>2</th>\n",
       "      <td>Bedding</td>\n",
       "    </tr>\n",
       "    <tr>\n",
       "      <th>3</th>\n",
       "      <td>Madison Park Vienna Comforter Set</td>\n",
       "    </tr>\n",
       "    <tr>\n",
       "      <th>4</th>\n",
       "      <td>UGG® Devon Sherpa 3-Piece Reversible Comforter...</td>\n",
       "    </tr>\n",
       "  </tbody>\n",
       "</table>\n",
       "</div>"
      ],
      "text/plain": [
       "                                            Products\n",
       "0                                    health & beauty\n",
       "1    Simply Essential™ Striped 9-Piece Comforter Set\n",
       "2                                            Bedding\n",
       "3                  Madison Park Vienna Comforter Set\n",
       "4  UGG® Devon Sherpa 3-Piece Reversible Comforter..."
      ]
     },
     "execution_count": 170,
     "metadata": {},
     "output_type": "execute_result"
    }
   ],
   "source": [
    "df.head()"
   ]
  },
  {
   "cell_type": "code",
   "execution_count": 171,
   "id": "9874036a",
   "metadata": {},
   "outputs": [
    {
     "data": {
      "text/plain": [
       "(74, 1)"
      ]
     },
     "execution_count": 171,
     "metadata": {},
     "output_type": "execute_result"
    }
   ],
   "source": [
    "df.shape"
   ]
  },
  {
   "cell_type": "code",
   "execution_count": null,
   "id": "6f7f5863",
   "metadata": {},
   "outputs": [],
   "source": []
  },
  {
   "cell_type": "code",
   "execution_count": null,
   "id": "1381513b",
   "metadata": {},
   "outputs": [],
   "source": []
  },
  {
   "cell_type": "code",
   "execution_count": null,
   "id": "e643c582",
   "metadata": {},
   "outputs": [],
   "source": []
  },
  {
   "cell_type": "code",
   "execution_count": 172,
   "id": "8d94b1ca",
   "metadata": {},
   "outputs": [],
   "source": [
    "import requests\n",
    "import pandas as pd\n",
    "from bs4 import BeautifulSoup\n",
    "import csv\n",
    "\n",
    "URL_list=[]\n",
    "for i in range(0,83):\n",
    "    URL_list.append(\"https://www.bedbathandbeyond.com/store/category/bedding/comforter-sets/15502/\"+str(i)+\"-24?icid=L1_bedding_catmod_c025_22390_5_comfortersets&removeInStock=true\")\n",
    "    \n",
    "r_list=[] \n",
    "for i in URL_list:\n",
    "    r_list.append(requests.get(URL))\n",
    "\n",
    "soup_list=[]\n",
    "for i in r_list:\n",
    "    soup_list.append(BeautifulSoup(r.content, 'lxml'))\n",
    "    \n",
    "tags_list=[]\n",
    "for soup in soup_list:\n",
    "    tags=[]\n",
    "    for i in soup.findAll(\"div\"):\n",
    "        if i.a!=None:\n",
    "            tags.append(i.a)\n",
    "    tags_list.append(tags)\n",
    "            \n",
    "\n",
    "    "
   ]
  },
  {
   "cell_type": "code",
   "execution_count": 173,
   "id": "1096d4b7",
   "metadata": {},
   "outputs": [
    {
     "data": {
      "text/plain": [
       "83"
      ]
     },
     "execution_count": 173,
     "metadata": {},
     "output_type": "execute_result"
    }
   ],
   "source": [
    "len(tags_list)"
   ]
  },
  {
   "cell_type": "code",
   "execution_count": 174,
   "id": "3e3c5ad0",
   "metadata": {},
   "outputs": [],
   "source": [
    "#tags_list= [item for sublist in tags_list for item in sublist]"
   ]
  },
  {
   "cell_type": "code",
   "execution_count": 175,
   "id": "e22e2a85",
   "metadata": {},
   "outputs": [],
   "source": [
    "#len(tags_list)"
   ]
  },
  {
   "cell_type": "code",
   "execution_count": 176,
   "id": "c7361312",
   "metadata": {},
   "outputs": [],
   "source": [
    "prod_list=tags_list\n",
    "final=[]\n",
    "for i in prod_list:\n",
    "    final.append(list(map(lambda x:x.text,i))) "
   ]
  },
  {
   "cell_type": "code",
   "execution_count": 177,
   "id": "0e994655",
   "metadata": {},
   "outputs": [
    {
     "data": {
      "text/plain": [
       "83"
      ]
     },
     "execution_count": 177,
     "metadata": {},
     "output_type": "execute_result"
    }
   ],
   "source": [
    "len(final)"
   ]
  },
  {
   "cell_type": "code",
   "execution_count": 178,
   "id": "41c1221e",
   "metadata": {},
   "outputs": [
    {
     "data": {
      "text/plain": [
       "32204"
      ]
     },
     "execution_count": 178,
     "metadata": {},
     "output_type": "execute_result"
    }
   ],
   "source": [
    "final_list= [item for sublist in final for item in sublist]\n",
    "len(final_list)"
   ]
  },
  {
   "cell_type": "code",
   "execution_count": 179,
   "id": "c6efb1bf",
   "metadata": {},
   "outputs": [],
   "source": [
    "#final_list=list(set(final_list))\n",
    "for i in final_list:\n",
    "    if \"kitchen\" in i or \"bedding\" in i or \"Shop\" in i or \"skip\" in i or 'reviews' in i or 'room' in i or 'sign in' in i or 'buy' in i or 'Track' in i or i.isdigit() or 'deals' in i or 'buy' in i or 'occasion' in i or i=='Help' or i==\"Shop now\" or i=='':\n",
    "        final_list.remove(i)\n",
    "    elif \"storage\" in i or \"health\" in i or \"start\" in i or \"interior\" in i or \"Bedding\" in i or \"wedding\" in i or \"Go to\" in i:\n",
    "        final_list.remove(i)\n",
    "    else:\n",
    "        pass\n",
    "        \n",
    "df=pd.DataFrame()\n",
    "df[\"Products\"]=final_list"
   ]
  },
  {
   "cell_type": "code",
   "execution_count": 180,
   "id": "834613ae",
   "metadata": {},
   "outputs": [
    {
     "data": {
      "text/plain": [
       "(19505, 1)"
      ]
     },
     "execution_count": 180,
     "metadata": {},
     "output_type": "execute_result"
    }
   ],
   "source": [
    "df.shape"
   ]
  },
  {
   "cell_type": "code",
   "execution_count": 181,
   "id": "259db940",
   "metadata": {},
   "outputs": [
    {
     "data": {
      "text/html": [
       "<div>\n",
       "<style scoped>\n",
       "    .dataframe tbody tr th:only-of-type {\n",
       "        vertical-align: middle;\n",
       "    }\n",
       "\n",
       "    .dataframe tbody tr th {\n",
       "        vertical-align: top;\n",
       "    }\n",
       "\n",
       "    .dataframe thead th {\n",
       "        text-align: right;\n",
       "    }\n",
       "</style>\n",
       "<table border=\"1\" class=\"dataframe\">\n",
       "  <thead>\n",
       "    <tr style=\"text-align: right;\">\n",
       "      <th></th>\n",
       "      <th>Products</th>\n",
       "    </tr>\n",
       "  </thead>\n",
       "  <tbody>\n",
       "    <tr>\n",
       "      <th>0</th>\n",
       "      <td>Save $100 Dyson Outsize vacuum</td>\n",
       "    </tr>\n",
       "    <tr>\n",
       "      <th>1</th>\n",
       "      <td>Save $100 Dyson Outsize vacuum</td>\n",
       "    </tr>\n",
       "    <tr>\n",
       "      <th>2</th>\n",
       "      <td>Bed In A Bag</td>\n",
       "    </tr>\n",
       "    <tr>\n",
       "      <th>3</th>\n",
       "      <td>Bed In A Bag</td>\n",
       "    </tr>\n",
       "    <tr>\n",
       "      <th>4</th>\n",
       "      <td>Bed In A Bag</td>\n",
       "    </tr>\n",
       "    <tr>\n",
       "      <th>...</th>\n",
       "      <td>...</td>\n",
       "    </tr>\n",
       "    <tr>\n",
       "      <th>19500</th>\n",
       "      <td>Interior Decorating Services</td>\n",
       "    </tr>\n",
       "    <tr>\n",
       "      <th>19501</th>\n",
       "      <td>Potential Suppliers</td>\n",
       "    </tr>\n",
       "    <tr>\n",
       "      <th>19502</th>\n",
       "      <td>Go to Buy Buy Baby website.Buy Buy BabyWill op...</td>\n",
       "    </tr>\n",
       "    <tr>\n",
       "      <th>19503</th>\n",
       "      <td>Go to Buy Buy Baby website.Buy Buy BabyWill op...</td>\n",
       "    </tr>\n",
       "    <tr>\n",
       "      <th>19504</th>\n",
       "      <td>Go to Buy Buy Baby website.Buy Buy BabyWill op...</td>\n",
       "    </tr>\n",
       "  </tbody>\n",
       "</table>\n",
       "<p>19505 rows × 1 columns</p>\n",
       "</div>"
      ],
      "text/plain": [
       "                                                Products\n",
       "0                        Save $100 Dyson Outsize vacuum \n",
       "1                        Save $100 Dyson Outsize vacuum \n",
       "2                                           Bed In A Bag\n",
       "3                                           Bed In A Bag\n",
       "4                                           Bed In A Bag\n",
       "...                                                  ...\n",
       "19500                       Interior Decorating Services\n",
       "19501                                Potential Suppliers\n",
       "19502  Go to Buy Buy Baby website.Buy Buy BabyWill op...\n",
       "19503  Go to Buy Buy Baby website.Buy Buy BabyWill op...\n",
       "19504  Go to Buy Buy Baby website.Buy Buy BabyWill op...\n",
       "\n",
       "[19505 rows x 1 columns]"
      ]
     },
     "execution_count": 181,
     "metadata": {},
     "output_type": "execute_result"
    }
   ],
   "source": [
    "df"
   ]
  },
  {
   "cell_type": "code",
   "execution_count": 182,
   "id": "990bc410",
   "metadata": {},
   "outputs": [],
   "source": [
    "df.to_excel(\"trial.xlsx\")"
   ]
  },
  {
   "cell_type": "code",
   "execution_count": null,
   "id": "66b0d3f0",
   "metadata": {},
   "outputs": [],
   "source": []
  }
 ],
 "metadata": {
  "kernelspec": {
   "display_name": "Python 3",
   "language": "python",
   "name": "python3"
  },
  "language_info": {
   "codemirror_mode": {
    "name": "ipython",
    "version": 3
   },
   "file_extension": ".py",
   "mimetype": "text/x-python",
   "name": "python",
   "nbconvert_exporter": "python",
   "pygments_lexer": "ipython3",
   "version": "3.8.8"
  }
 },
 "nbformat": 4,
 "nbformat_minor": 5
}
