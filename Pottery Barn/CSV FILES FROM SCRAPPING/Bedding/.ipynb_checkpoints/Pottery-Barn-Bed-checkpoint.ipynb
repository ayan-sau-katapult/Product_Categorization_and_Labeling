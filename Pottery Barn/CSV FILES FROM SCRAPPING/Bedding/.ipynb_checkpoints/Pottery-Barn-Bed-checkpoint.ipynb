{
 "cells": [
  {
   "cell_type": "code",
   "execution_count": 1,
   "id": "dd4cb3e5",
   "metadata": {},
   "outputs": [],
   "source": [
    "import glob\n",
    "import pandas as pd\n",
    "\n",
    "# get data file names\n",
    "path =r'C:\\Users\\AyanSau\\Desktop\\Pottery Barn\\CSV FILES FROM SCRAPPING\\Bedding'\n",
    "filenames = glob.glob(path + \"/*.csv\")\n",
    "\n",
    "dfs = []\n",
    "for filename in filenames:\n",
    "    dfs.append(pd.read_csv(filename))\n",
    "\n",
    "# Concatenate all data into one DataFrame\n",
    "big_frame = pd.concat(dfs, ignore_index=True)"
   ]
  },
  {
   "cell_type": "code",
   "execution_count": 2,
   "id": "19dd03ab",
   "metadata": {},
   "outputs": [
    {
     "data": {
      "text/html": [
       "<div>\n",
       "<style scoped>\n",
       "    .dataframe tbody tr th:only-of-type {\n",
       "        vertical-align: middle;\n",
       "    }\n",
       "\n",
       "    .dataframe tbody tr th {\n",
       "        vertical-align: top;\n",
       "    }\n",
       "\n",
       "    .dataframe thead th {\n",
       "        text-align: right;\n",
       "    }\n",
       "</style>\n",
       "<table border=\"1\" class=\"dataframe\">\n",
       "  <thead>\n",
       "    <tr style=\"text-align: right;\">\n",
       "      <th></th>\n",
       "      <th>web-scraper-order</th>\n",
       "      <th>web-scraper-start-url</th>\n",
       "      <th>name</th>\n",
       "    </tr>\n",
       "  </thead>\n",
       "  <tbody>\n",
       "    <tr>\n",
       "      <th>0</th>\n",
       "      <td>1630601425-8991</td>\n",
       "      <td>https://www.potterybarn.com/shop/bedding/all-b...</td>\n",
       "      <td>Cloud Linen Handcrafted Quilted Sham</td>\n",
       "    </tr>\n",
       "    <tr>\n",
       "      <th>1</th>\n",
       "      <td>1630601425-8895</td>\n",
       "      <td>https://www.potterybarn.com/shop/bedding/all-b...</td>\n",
       "      <td>Thermal Sherpa Back Knit Throws</td>\n",
       "    </tr>\n",
       "    <tr>\n",
       "      <th>2</th>\n",
       "      <td>1630601425-9009</td>\n",
       "      <td>https://www.potterybarn.com/shop/bedding/all-b...</td>\n",
       "      <td>Bryce Buffalo Check Cotton Duvet Cover</td>\n",
       "    </tr>\n",
       "    <tr>\n",
       "      <th>3</th>\n",
       "      <td>1630601425-8722</td>\n",
       "      <td>https://www.potterybarn.com/shop/bedding/all-b...</td>\n",
       "      <td>European Ribbed Linen Duvet Cover</td>\n",
       "    </tr>\n",
       "    <tr>\n",
       "      <th>4</th>\n",
       "      <td>1630601425-8840</td>\n",
       "      <td>https://www.potterybarn.com/shop/bedding/all-b...</td>\n",
       "      <td>Rebecca Atwood Garden Organic Cotton Patchwork...</td>\n",
       "    </tr>\n",
       "    <tr>\n",
       "      <th>...</th>\n",
       "      <td>...</td>\n",
       "      <td>...</td>\n",
       "      <td>...</td>\n",
       "    </tr>\n",
       "    <tr>\n",
       "      <th>475</th>\n",
       "      <td>1630601425-9085</td>\n",
       "      <td>https://www.potterybarn.com/shop/bedding/all-b...</td>\n",
       "      <td>Under The Sea Organic Percale Sham</td>\n",
       "    </tr>\n",
       "    <tr>\n",
       "      <th>476</th>\n",
       "      <td>1630601425-8831</td>\n",
       "      <td>https://www.potterybarn.com/shop/bedding/all-b...</td>\n",
       "      <td>Wave Matelasse Coverlet &amp; Shams</td>\n",
       "    </tr>\n",
       "    <tr>\n",
       "      <th>477</th>\n",
       "      <td>1630601425-9146</td>\n",
       "      <td>https://www.potterybarn.com/shop/bedding/all-b...</td>\n",
       "      <td>Joni Organic Percale Duvet Cover</td>\n",
       "    </tr>\n",
       "    <tr>\n",
       "      <th>478</th>\n",
       "      <td>1630601425-9061</td>\n",
       "      <td>https://www.potterybarn.com/shop/bedding/all-b...</td>\n",
       "      <td>Del Mar Coastal Organic Percale Duvet Cover</td>\n",
       "    </tr>\n",
       "    <tr>\n",
       "      <th>479</th>\n",
       "      <td>1630601425-8883</td>\n",
       "      <td>https://www.potterybarn.com/shop/bedding/all-b...</td>\n",
       "      <td>Wheaton Striped Organic Percale Comforter &amp; Shams</td>\n",
       "    </tr>\n",
       "  </tbody>\n",
       "</table>\n",
       "<p>480 rows × 3 columns</p>\n",
       "</div>"
      ],
      "text/plain": [
       "    web-scraper-order                              web-scraper-start-url  \\\n",
       "0     1630601425-8991  https://www.potterybarn.com/shop/bedding/all-b...   \n",
       "1     1630601425-8895  https://www.potterybarn.com/shop/bedding/all-b...   \n",
       "2     1630601425-9009  https://www.potterybarn.com/shop/bedding/all-b...   \n",
       "3     1630601425-8722  https://www.potterybarn.com/shop/bedding/all-b...   \n",
       "4     1630601425-8840  https://www.potterybarn.com/shop/bedding/all-b...   \n",
       "..                ...                                                ...   \n",
       "475   1630601425-9085  https://www.potterybarn.com/shop/bedding/all-b...   \n",
       "476   1630601425-8831  https://www.potterybarn.com/shop/bedding/all-b...   \n",
       "477   1630601425-9146  https://www.potterybarn.com/shop/bedding/all-b...   \n",
       "478   1630601425-9061  https://www.potterybarn.com/shop/bedding/all-b...   \n",
       "479   1630601425-8883  https://www.potterybarn.com/shop/bedding/all-b...   \n",
       "\n",
       "                                                  name  \n",
       "0                 Cloud Linen Handcrafted Quilted Sham  \n",
       "1                      Thermal Sherpa Back Knit Throws  \n",
       "2               Bryce Buffalo Check Cotton Duvet Cover  \n",
       "3                    European Ribbed Linen Duvet Cover  \n",
       "4    Rebecca Atwood Garden Organic Cotton Patchwork...  \n",
       "..                                                 ...  \n",
       "475                 Under The Sea Organic Percale Sham  \n",
       "476                    Wave Matelasse Coverlet & Shams  \n",
       "477                   Joni Organic Percale Duvet Cover  \n",
       "478        Del Mar Coastal Organic Percale Duvet Cover  \n",
       "479  Wheaton Striped Organic Percale Comforter & Shams  \n",
       "\n",
       "[480 rows x 3 columns]"
      ]
     },
     "execution_count": 2,
     "metadata": {},
     "output_type": "execute_result"
    }
   ],
   "source": [
    "big_frame"
   ]
  },
  {
   "cell_type": "code",
   "execution_count": 7,
   "id": "447d206e",
   "metadata": {},
   "outputs": [
    {
     "data": {
      "text/plain": [
       "'https://www.potterybarn.com/shop/bedding/all-bedding/?cm_type=gnav'"
      ]
     },
     "execution_count": 7,
     "metadata": {},
     "output_type": "execute_result"
    }
   ],
   "source": [
    "link=big_frame[\"web-scraper-start-url\"][0]\n",
    "link"
   ]
  },
  {
   "cell_type": "code",
   "execution_count": 8,
   "id": "19f80452",
   "metadata": {},
   "outputs": [
    {
     "data": {
      "text/plain": [
       "'bedding'"
      ]
     },
     "execution_count": 8,
     "metadata": {},
     "output_type": "execute_result"
    }
   ],
   "source": [
    "link.split(\"/\")[4]"
   ]
  },
  {
   "cell_type": "code",
   "execution_count": 8,
   "id": "d23905f8",
   "metadata": {},
   "outputs": [],
   "source": [
    "big_frame[\"Category\"]=big_frame[\"web-scraper-start-url\"].apply(lambda x:x.split(\"/\")[4])"
   ]
  },
  {
   "cell_type": "code",
   "execution_count": 10,
   "id": "37f5cb07",
   "metadata": {},
   "outputs": [],
   "source": [
    "big_frame[\"IsLeasable\"]=True"
   ]
  },
  {
   "cell_type": "code",
   "execution_count": 13,
   "id": "3834c339",
   "metadata": {},
   "outputs": [],
   "source": [
    "big_frame.to_excel(\"furniture.xlsx\")"
   ]
  },
  {
   "cell_type": "code",
   "execution_count": null,
   "id": "8ec994f1",
   "metadata": {},
   "outputs": [],
   "source": []
  }
 ],
 "metadata": {
  "kernelspec": {
   "display_name": "Python 3",
   "language": "python",
   "name": "python3"
  },
  "language_info": {
   "codemirror_mode": {
    "name": "ipython",
    "version": 3
   },
   "file_extension": ".py",
   "mimetype": "text/x-python",
   "name": "python",
   "nbconvert_exporter": "python",
   "pygments_lexer": "ipython3",
   "version": "3.8.8"
  }
 },
 "nbformat": 4,
 "nbformat_minor": 5
}
