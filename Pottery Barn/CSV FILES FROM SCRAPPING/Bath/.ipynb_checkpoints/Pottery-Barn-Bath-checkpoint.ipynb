{
 "cells": [
  {
   "cell_type": "code",
   "execution_count": 1,
   "id": "dd4cb3e5",
   "metadata": {},
   "outputs": [],
   "source": [
    "import glob\n",
    "import pandas as pd\n",
    "\n",
    "# get data file names\n",
    "path =r'C:\\Users\\AyanSau\\Desktop\\Pottery Barn\\CSV FILES FROM SCRAPPING\\Bath'\n",
    "filenames = glob.glob(path + \"/*.csv\")\n",
    "\n",
    "dfs = []\n",
    "for filename in filenames:\n",
    "    dfs.append(pd.read_csv(filename))\n",
    "\n",
    "# Concatenate all data into one DataFrame\n",
    "big_frame = pd.concat(dfs, ignore_index=True)"
   ]
  },
  {
   "cell_type": "code",
   "execution_count": 2,
   "id": "19dd03ab",
   "metadata": {},
   "outputs": [
    {
     "data": {
      "text/html": [
       "<div>\n",
       "<style scoped>\n",
       "    .dataframe tbody tr th:only-of-type {\n",
       "        vertical-align: middle;\n",
       "    }\n",
       "\n",
       "    .dataframe tbody tr th {\n",
       "        vertical-align: top;\n",
       "    }\n",
       "\n",
       "    .dataframe thead th {\n",
       "        text-align: right;\n",
       "    }\n",
       "</style>\n",
       "<table border=\"1\" class=\"dataframe\">\n",
       "  <thead>\n",
       "    <tr style=\"text-align: right;\">\n",
       "      <th></th>\n",
       "      <th>web-scraper-order</th>\n",
       "      <th>web-scraper-start-url</th>\n",
       "      <th>name</th>\n",
       "    </tr>\n",
       "  </thead>\n",
       "  <tbody>\n",
       "    <tr>\n",
       "      <th>0</th>\n",
       "      <td>1630601075-8679</td>\n",
       "      <td>https://www.potterybarn.com/shop/bath/all-bath...</td>\n",
       "      <td>Jacquelyn Medallion Organic Shower Curtain</td>\n",
       "    </tr>\n",
       "    <tr>\n",
       "      <th>1</th>\n",
       "      <td>1630601075-8626</td>\n",
       "      <td>https://www.potterybarn.com/shop/bath/all-bath...</td>\n",
       "      <td>Lila Organic Shower Curtain</td>\n",
       "    </tr>\n",
       "    <tr>\n",
       "      <th>2</th>\n",
       "      <td>1630601075-8597</td>\n",
       "      <td>https://www.potterybarn.com/shop/bath/all-bath...</td>\n",
       "      <td>Classic Double Wide Organic Loop Bath Mat</td>\n",
       "    </tr>\n",
       "    <tr>\n",
       "      <th>3</th>\n",
       "      <td>1630601075-8564</td>\n",
       "      <td>https://www.potterybarn.com/shop/bath/all-bath...</td>\n",
       "      <td>Aerospin™ Luxe Organic Towels</td>\n",
       "    </tr>\n",
       "    <tr>\n",
       "      <th>4</th>\n",
       "      <td>1630601075-8590</td>\n",
       "      <td>https://www.potterybarn.com/shop/bath/all-bath...</td>\n",
       "      <td>Hydrocotton Organic Towel Bundle - Set of 12</td>\n",
       "    </tr>\n",
       "    <tr>\n",
       "      <th>...</th>\n",
       "      <td>...</td>\n",
       "      <td>...</td>\n",
       "      <td>...</td>\n",
       "    </tr>\n",
       "    <tr>\n",
       "      <th>380</th>\n",
       "      <td>1630602614-9422</td>\n",
       "      <td>https://www.potterybarn.com/shop/bath/all-bath...</td>\n",
       "      <td>Barr-Co. Reserve Liquid Soap, Set of 3</td>\n",
       "    </tr>\n",
       "    <tr>\n",
       "      <th>381</th>\n",
       "      <td>1630602614-9407</td>\n",
       "      <td>https://www.potterybarn.com/shop/bath/all-bath...</td>\n",
       "      <td>K. Hall Milk Bar Soap</td>\n",
       "    </tr>\n",
       "    <tr>\n",
       "      <th>382</th>\n",
       "      <td>1630602614-9433</td>\n",
       "      <td>https://www.potterybarn.com/shop/bath/all-bath...</td>\n",
       "      <td>Large Canvas Laundry Basket on Wood Runners</td>\n",
       "    </tr>\n",
       "    <tr>\n",
       "      <th>383</th>\n",
       "      <td>1630602614-9354</td>\n",
       "      <td>https://www.potterybarn.com/shop/bath/all-bath...</td>\n",
       "      <td>Costa Nova Lisboa Stoneware Bathroom Accessories</td>\n",
       "    </tr>\n",
       "    <tr>\n",
       "      <th>384</th>\n",
       "      <td>1630602614-9465</td>\n",
       "      <td>https://www.potterybarn.com/shop/bath/all-bath...</td>\n",
       "      <td>Monogrammed Aqua Mineral Rectangle Soap Set</td>\n",
       "    </tr>\n",
       "  </tbody>\n",
       "</table>\n",
       "<p>385 rows × 3 columns</p>\n",
       "</div>"
      ],
      "text/plain": [
       "    web-scraper-order                              web-scraper-start-url  \\\n",
       "0     1630601075-8679  https://www.potterybarn.com/shop/bath/all-bath...   \n",
       "1     1630601075-8626  https://www.potterybarn.com/shop/bath/all-bath...   \n",
       "2     1630601075-8597  https://www.potterybarn.com/shop/bath/all-bath...   \n",
       "3     1630601075-8564  https://www.potterybarn.com/shop/bath/all-bath...   \n",
       "4     1630601075-8590  https://www.potterybarn.com/shop/bath/all-bath...   \n",
       "..                ...                                                ...   \n",
       "380   1630602614-9422  https://www.potterybarn.com/shop/bath/all-bath...   \n",
       "381   1630602614-9407  https://www.potterybarn.com/shop/bath/all-bath...   \n",
       "382   1630602614-9433  https://www.potterybarn.com/shop/bath/all-bath...   \n",
       "383   1630602614-9354  https://www.potterybarn.com/shop/bath/all-bath...   \n",
       "384   1630602614-9465  https://www.potterybarn.com/shop/bath/all-bath...   \n",
       "\n",
       "                                                 name  \n",
       "0          Jacquelyn Medallion Organic Shower Curtain  \n",
       "1                         Lila Organic Shower Curtain  \n",
       "2           Classic Double Wide Organic Loop Bath Mat  \n",
       "3                       Aerospin™ Luxe Organic Towels  \n",
       "4        Hydrocotton Organic Towel Bundle - Set of 12  \n",
       "..                                                ...  \n",
       "380            Barr-Co. Reserve Liquid Soap, Set of 3  \n",
       "381                             K. Hall Milk Bar Soap  \n",
       "382       Large Canvas Laundry Basket on Wood Runners  \n",
       "383  Costa Nova Lisboa Stoneware Bathroom Accessories  \n",
       "384       Monogrammed Aqua Mineral Rectangle Soap Set  \n",
       "\n",
       "[385 rows x 3 columns]"
      ]
     },
     "execution_count": 2,
     "metadata": {},
     "output_type": "execute_result"
    }
   ],
   "source": [
    "big_frame"
   ]
  },
  {
   "cell_type": "code",
   "execution_count": 3,
   "id": "447d206e",
   "metadata": {},
   "outputs": [
    {
     "data": {
      "text/plain": [
       "'https://www.potterybarn.com/shop/bath/all-bath-linens/?cm_type=gnav'"
      ]
     },
     "execution_count": 3,
     "metadata": {},
     "output_type": "execute_result"
    }
   ],
   "source": [
    "link=big_frame[\"web-scraper-start-url\"][0]\n",
    "link"
   ]
  },
  {
   "cell_type": "code",
   "execution_count": 4,
   "id": "19f80452",
   "metadata": {},
   "outputs": [
    {
     "data": {
      "text/plain": [
       "'bath'"
      ]
     },
     "execution_count": 4,
     "metadata": {},
     "output_type": "execute_result"
    }
   ],
   "source": [
    "link.split(\"/\")[4]"
   ]
  },
  {
   "cell_type": "code",
   "execution_count": 5,
   "id": "901782c7",
   "metadata": {},
   "outputs": [
    {
     "data": {
      "text/plain": [
       "{'bath-all-bath-accessories', 'bath-all-bath-linens'}"
      ]
     },
     "execution_count": 5,
     "metadata": {},
     "output_type": "execute_result"
    }
   ],
   "source": [
    "m=[]\n",
    "for link in big_frame[\"web-scraper-start-url\"].tolist():\n",
    "    m.append(link.split(\"/\")[4]+\"-\"+link.split(\"/\")[5])\n",
    "    \n",
    "set(m)"
   ]
  },
  {
   "cell_type": "code",
   "execution_count": 15,
   "id": "d23905f8",
   "metadata": {},
   "outputs": [],
   "source": [
    "big_frame[\"Category\"]=big_frame[\"web-scraper-start-url\"].apply(lambda x:x.split(\"/\")[4])"
   ]
  },
  {
   "cell_type": "code",
   "execution_count": 16,
   "id": "37f5cb07",
   "metadata": {},
   "outputs": [],
   "source": [
    "big_frame[\"IsLeasable\"]=False"
   ]
  },
  {
   "cell_type": "code",
   "execution_count": 17,
   "id": "3834c339",
   "metadata": {},
   "outputs": [],
   "source": [
    "big_frame.to_excel(\"bedding.xlsx\")"
   ]
  },
  {
   "cell_type": "code",
   "execution_count": null,
   "id": "8ec994f1",
   "metadata": {},
   "outputs": [],
   "source": []
  }
 ],
 "metadata": {
  "kernelspec": {
   "display_name": "Python 3",
   "language": "python",
   "name": "python3"
  },
  "language_info": {
   "codemirror_mode": {
    "name": "ipython",
    "version": 3
   },
   "file_extension": ".py",
   "mimetype": "text/x-python",
   "name": "python",
   "nbconvert_exporter": "python",
   "pygments_lexer": "ipython3",
   "version": "3.8.8"
  }
 },
 "nbformat": 4,
 "nbformat_minor": 5
}
