{
 "cells": [
  {
   "cell_type": "code",
   "execution_count": 1,
   "id": "dd4cb3e5",
   "metadata": {},
   "outputs": [],
   "source": [
    "import glob\n",
    "import pandas as pd\n",
    "\n",
    "# get data file names\n",
    "path =r'C:\\Users\\AyanSau\\Desktop\\Pottery Barn\\CSV FILES FROM SCRAPPING\\Lighting'\n",
    "filenames = glob.glob(path + \"/*.csv\")\n",
    "\n",
    "dfs = []\n",
    "for filename in filenames:\n",
    "    dfs.append(pd.read_csv(filename))\n",
    "\n",
    "# Concatenate all data into one DataFrame\n",
    "big_frame = pd.concat(dfs, ignore_index=True)"
   ]
  },
  {
   "cell_type": "code",
   "execution_count": 2,
   "id": "19dd03ab",
   "metadata": {},
   "outputs": [
    {
     "data": {
      "text/html": [
       "<div>\n",
       "<style scoped>\n",
       "    .dataframe tbody tr th:only-of-type {\n",
       "        vertical-align: middle;\n",
       "    }\n",
       "\n",
       "    .dataframe tbody tr th {\n",
       "        vertical-align: top;\n",
       "    }\n",
       "\n",
       "    .dataframe thead th {\n",
       "        text-align: right;\n",
       "    }\n",
       "</style>\n",
       "<table border=\"1\" class=\"dataframe\">\n",
       "  <thead>\n",
       "    <tr style=\"text-align: right;\">\n",
       "      <th></th>\n",
       "      <th>web-scraper-order</th>\n",
       "      <th>web-scraper-start-url</th>\n",
       "      <th>name</th>\n",
       "    </tr>\n",
       "  </thead>\n",
       "  <tbody>\n",
       "    <tr>\n",
       "      <th>0</th>\n",
       "      <td>1630605611-12578</td>\n",
       "      <td>https://www.potterybarn.com/shop/lighting/all-...</td>\n",
       "      <td>Adele Task Lamp</td>\n",
       "    </tr>\n",
       "    <tr>\n",
       "      <th>1</th>\n",
       "      <td>1630605611-12625</td>\n",
       "      <td>https://www.potterybarn.com/shop/lighting/all-...</td>\n",
       "      <td>Autumn Table Lamp</td>\n",
       "    </tr>\n",
       "    <tr>\n",
       "      <th>2</th>\n",
       "      <td>1630605611-11735</td>\n",
       "      <td>https://www.potterybarn.com/shop/lighting/all-...</td>\n",
       "      <td>Lockhart Forged Iron Chandelier</td>\n",
       "    </tr>\n",
       "    <tr>\n",
       "      <th>3</th>\n",
       "      <td>1630605611-12228</td>\n",
       "      <td>https://www.potterybarn.com/shop/lighting/all-...</td>\n",
       "      <td>Colton Sconce</td>\n",
       "    </tr>\n",
       "    <tr>\n",
       "      <th>4</th>\n",
       "      <td>1630605611-11911</td>\n",
       "      <td>https://www.potterybarn.com/shop/lighting/all-...</td>\n",
       "      <td>Amelie Milk Glass Single Sconce</td>\n",
       "    </tr>\n",
       "    <tr>\n",
       "      <th>...</th>\n",
       "      <td>...</td>\n",
       "      <td>...</td>\n",
       "      <td>...</td>\n",
       "    </tr>\n",
       "    <tr>\n",
       "      <th>1008</th>\n",
       "      <td>1630605611-12509</td>\n",
       "      <td>https://www.potterybarn.com/shop/lighting/all-...</td>\n",
       "      <td>Salvatore Table Lamp</td>\n",
       "    </tr>\n",
       "    <tr>\n",
       "      <th>1009</th>\n",
       "      <td>1630605611-12394</td>\n",
       "      <td>https://www.potterybarn.com/shop/lighting/all-...</td>\n",
       "      <td>G25 Milk Glass Globe LED Bulb - Pack of 2</td>\n",
       "    </tr>\n",
       "    <tr>\n",
       "      <th>1010</th>\n",
       "      <td>1630605611-12607</td>\n",
       "      <td>https://www.potterybarn.com/shop/lighting/all-...</td>\n",
       "      <td>A19 Silver-Tipped LED Bulb - Pack of 2</td>\n",
       "    </tr>\n",
       "    <tr>\n",
       "      <th>1011</th>\n",
       "      <td>1630605611-12241</td>\n",
       "      <td>https://www.potterybarn.com/shop/lighting/all-...</td>\n",
       "      <td>Articulating Arm Curved Metal Bell Plug-In Sconce</td>\n",
       "    </tr>\n",
       "    <tr>\n",
       "      <th>1012</th>\n",
       "      <td>1630605611-11928</td>\n",
       "      <td>https://www.potterybarn.com/shop/lighting/all-...</td>\n",
       "      <td>Basic Cord Cover</td>\n",
       "    </tr>\n",
       "  </tbody>\n",
       "</table>\n",
       "<p>1013 rows × 3 columns</p>\n",
       "</div>"
      ],
      "text/plain": [
       "     web-scraper-order                              web-scraper-start-url  \\\n",
       "0     1630605611-12578  https://www.potterybarn.com/shop/lighting/all-...   \n",
       "1     1630605611-12625  https://www.potterybarn.com/shop/lighting/all-...   \n",
       "2     1630605611-11735  https://www.potterybarn.com/shop/lighting/all-...   \n",
       "3     1630605611-12228  https://www.potterybarn.com/shop/lighting/all-...   \n",
       "4     1630605611-11911  https://www.potterybarn.com/shop/lighting/all-...   \n",
       "...                ...                                                ...   \n",
       "1008  1630605611-12509  https://www.potterybarn.com/shop/lighting/all-...   \n",
       "1009  1630605611-12394  https://www.potterybarn.com/shop/lighting/all-...   \n",
       "1010  1630605611-12607  https://www.potterybarn.com/shop/lighting/all-...   \n",
       "1011  1630605611-12241  https://www.potterybarn.com/shop/lighting/all-...   \n",
       "1012  1630605611-11928  https://www.potterybarn.com/shop/lighting/all-...   \n",
       "\n",
       "                                                   name  \n",
       "0                                       Adele Task Lamp  \n",
       "1                                     Autumn Table Lamp  \n",
       "2                       Lockhart Forged Iron Chandelier  \n",
       "3                                         Colton Sconce  \n",
       "4                       Amelie Milk Glass Single Sconce  \n",
       "...                                                 ...  \n",
       "1008                               Salvatore Table Lamp  \n",
       "1009          G25 Milk Glass Globe LED Bulb - Pack of 2  \n",
       "1010             A19 Silver-Tipped LED Bulb - Pack of 2  \n",
       "1011  Articulating Arm Curved Metal Bell Plug-In Sconce  \n",
       "1012                                   Basic Cord Cover  \n",
       "\n",
       "[1013 rows x 3 columns]"
      ]
     },
     "execution_count": 2,
     "metadata": {},
     "output_type": "execute_result"
    }
   ],
   "source": [
    "big_frame"
   ]
  },
  {
   "cell_type": "code",
   "execution_count": 3,
   "id": "447d206e",
   "metadata": {},
   "outputs": [
    {
     "data": {
      "text/plain": [
       "'https://www.potterybarn.com/shop/lighting/all-lighting/?cm_type=gnav'"
      ]
     },
     "execution_count": 3,
     "metadata": {},
     "output_type": "execute_result"
    }
   ],
   "source": [
    "link=big_frame[\"web-scraper-start-url\"][0]\n",
    "link"
   ]
  },
  {
   "cell_type": "code",
   "execution_count": 4,
   "id": "19f80452",
   "metadata": {},
   "outputs": [
    {
     "data": {
      "text/plain": [
       "'lighting'"
      ]
     },
     "execution_count": 4,
     "metadata": {},
     "output_type": "execute_result"
    }
   ],
   "source": [
    "link.split(\"/\")[4]"
   ]
  },
  {
   "cell_type": "code",
   "execution_count": 5,
   "id": "901782c7",
   "metadata": {},
   "outputs": [
    {
     "data": {
      "text/plain": [
       "{'lighting-all-lighting'}"
      ]
     },
     "execution_count": 5,
     "metadata": {},
     "output_type": "execute_result"
    }
   ],
   "source": [
    "m=[]\n",
    "for link in big_frame[\"web-scraper-start-url\"].tolist():\n",
    "    m.append(link.split(\"/\")[4]+\"-\"+link.split(\"/\")[5])\n",
    "    \n",
    "set(m)"
   ]
  },
  {
   "cell_type": "code",
   "execution_count": 6,
   "id": "d23905f8",
   "metadata": {},
   "outputs": [],
   "source": [
    "big_frame[\"Category\"]=big_frame[\"web-scraper-start-url\"].apply(lambda x:x.split(\"/\")[4])"
   ]
  },
  {
   "cell_type": "code",
   "execution_count": 7,
   "id": "37f5cb07",
   "metadata": {},
   "outputs": [],
   "source": [
    "big_frame[\"IsLeasable\"]=True"
   ]
  },
  {
   "cell_type": "code",
   "execution_count": 8,
   "id": "bde13e8b",
   "metadata": {},
   "outputs": [
    {
     "data": {
      "text/html": [
       "<div>\n",
       "<style scoped>\n",
       "    .dataframe tbody tr th:only-of-type {\n",
       "        vertical-align: middle;\n",
       "    }\n",
       "\n",
       "    .dataframe tbody tr th {\n",
       "        vertical-align: top;\n",
       "    }\n",
       "\n",
       "    .dataframe thead th {\n",
       "        text-align: right;\n",
       "    }\n",
       "</style>\n",
       "<table border=\"1\" class=\"dataframe\">\n",
       "  <thead>\n",
       "    <tr style=\"text-align: right;\">\n",
       "      <th></th>\n",
       "      <th>web-scraper-order</th>\n",
       "      <th>web-scraper-start-url</th>\n",
       "      <th>name</th>\n",
       "      <th>Category</th>\n",
       "      <th>IsLeasable</th>\n",
       "    </tr>\n",
       "  </thead>\n",
       "  <tbody>\n",
       "    <tr>\n",
       "      <th>0</th>\n",
       "      <td>1630605611-12578</td>\n",
       "      <td>https://www.potterybarn.com/shop/lighting/all-...</td>\n",
       "      <td>Adele Task Lamp</td>\n",
       "      <td>lighting</td>\n",
       "      <td>True</td>\n",
       "    </tr>\n",
       "    <tr>\n",
       "      <th>1</th>\n",
       "      <td>1630605611-12625</td>\n",
       "      <td>https://www.potterybarn.com/shop/lighting/all-...</td>\n",
       "      <td>Autumn Table Lamp</td>\n",
       "      <td>lighting</td>\n",
       "      <td>True</td>\n",
       "    </tr>\n",
       "    <tr>\n",
       "      <th>2</th>\n",
       "      <td>1630605611-11735</td>\n",
       "      <td>https://www.potterybarn.com/shop/lighting/all-...</td>\n",
       "      <td>Lockhart Forged Iron Chandelier</td>\n",
       "      <td>lighting</td>\n",
       "      <td>True</td>\n",
       "    </tr>\n",
       "    <tr>\n",
       "      <th>3</th>\n",
       "      <td>1630605611-12228</td>\n",
       "      <td>https://www.potterybarn.com/shop/lighting/all-...</td>\n",
       "      <td>Colton Sconce</td>\n",
       "      <td>lighting</td>\n",
       "      <td>True</td>\n",
       "    </tr>\n",
       "    <tr>\n",
       "      <th>4</th>\n",
       "      <td>1630605611-11911</td>\n",
       "      <td>https://www.potterybarn.com/shop/lighting/all-...</td>\n",
       "      <td>Amelie Milk Glass Single Sconce</td>\n",
       "      <td>lighting</td>\n",
       "      <td>True</td>\n",
       "    </tr>\n",
       "    <tr>\n",
       "      <th>...</th>\n",
       "      <td>...</td>\n",
       "      <td>...</td>\n",
       "      <td>...</td>\n",
       "      <td>...</td>\n",
       "      <td>...</td>\n",
       "    </tr>\n",
       "    <tr>\n",
       "      <th>1008</th>\n",
       "      <td>1630605611-12509</td>\n",
       "      <td>https://www.potterybarn.com/shop/lighting/all-...</td>\n",
       "      <td>Salvatore Table Lamp</td>\n",
       "      <td>lighting</td>\n",
       "      <td>True</td>\n",
       "    </tr>\n",
       "    <tr>\n",
       "      <th>1009</th>\n",
       "      <td>1630605611-12394</td>\n",
       "      <td>https://www.potterybarn.com/shop/lighting/all-...</td>\n",
       "      <td>G25 Milk Glass Globe LED Bulb - Pack of 2</td>\n",
       "      <td>lighting</td>\n",
       "      <td>True</td>\n",
       "    </tr>\n",
       "    <tr>\n",
       "      <th>1010</th>\n",
       "      <td>1630605611-12607</td>\n",
       "      <td>https://www.potterybarn.com/shop/lighting/all-...</td>\n",
       "      <td>A19 Silver-Tipped LED Bulb - Pack of 2</td>\n",
       "      <td>lighting</td>\n",
       "      <td>True</td>\n",
       "    </tr>\n",
       "    <tr>\n",
       "      <th>1011</th>\n",
       "      <td>1630605611-12241</td>\n",
       "      <td>https://www.potterybarn.com/shop/lighting/all-...</td>\n",
       "      <td>Articulating Arm Curved Metal Bell Plug-In Sconce</td>\n",
       "      <td>lighting</td>\n",
       "      <td>True</td>\n",
       "    </tr>\n",
       "    <tr>\n",
       "      <th>1012</th>\n",
       "      <td>1630605611-11928</td>\n",
       "      <td>https://www.potterybarn.com/shop/lighting/all-...</td>\n",
       "      <td>Basic Cord Cover</td>\n",
       "      <td>lighting</td>\n",
       "      <td>True</td>\n",
       "    </tr>\n",
       "  </tbody>\n",
       "</table>\n",
       "<p>1013 rows × 5 columns</p>\n",
       "</div>"
      ],
      "text/plain": [
       "     web-scraper-order                              web-scraper-start-url  \\\n",
       "0     1630605611-12578  https://www.potterybarn.com/shop/lighting/all-...   \n",
       "1     1630605611-12625  https://www.potterybarn.com/shop/lighting/all-...   \n",
       "2     1630605611-11735  https://www.potterybarn.com/shop/lighting/all-...   \n",
       "3     1630605611-12228  https://www.potterybarn.com/shop/lighting/all-...   \n",
       "4     1630605611-11911  https://www.potterybarn.com/shop/lighting/all-...   \n",
       "...                ...                                                ...   \n",
       "1008  1630605611-12509  https://www.potterybarn.com/shop/lighting/all-...   \n",
       "1009  1630605611-12394  https://www.potterybarn.com/shop/lighting/all-...   \n",
       "1010  1630605611-12607  https://www.potterybarn.com/shop/lighting/all-...   \n",
       "1011  1630605611-12241  https://www.potterybarn.com/shop/lighting/all-...   \n",
       "1012  1630605611-11928  https://www.potterybarn.com/shop/lighting/all-...   \n",
       "\n",
       "                                                   name  Category  IsLeasable  \n",
       "0                                       Adele Task Lamp  lighting        True  \n",
       "1                                     Autumn Table Lamp  lighting        True  \n",
       "2                       Lockhart Forged Iron Chandelier  lighting        True  \n",
       "3                                         Colton Sconce  lighting        True  \n",
       "4                       Amelie Milk Glass Single Sconce  lighting        True  \n",
       "...                                                 ...       ...         ...  \n",
       "1008                               Salvatore Table Lamp  lighting        True  \n",
       "1009          G25 Milk Glass Globe LED Bulb - Pack of 2  lighting        True  \n",
       "1010             A19 Silver-Tipped LED Bulb - Pack of 2  lighting        True  \n",
       "1011  Articulating Arm Curved Metal Bell Plug-In Sconce  lighting        True  \n",
       "1012                                   Basic Cord Cover  lighting        True  \n",
       "\n",
       "[1013 rows x 5 columns]"
      ]
     },
     "execution_count": 8,
     "metadata": {},
     "output_type": "execute_result"
    }
   ],
   "source": [
    "big_frame"
   ]
  },
  {
   "cell_type": "code",
   "execution_count": 9,
   "id": "3834c339",
   "metadata": {},
   "outputs": [],
   "source": [
    "big_frame.to_excel(\"lighting.xlsx\")"
   ]
  },
  {
   "cell_type": "code",
   "execution_count": null,
   "id": "8ec994f1",
   "metadata": {},
   "outputs": [],
   "source": []
  }
 ],
 "metadata": {
  "kernelspec": {
   "display_name": "Python 3",
   "language": "python",
   "name": "python3"
  },
  "language_info": {
   "codemirror_mode": {
    "name": "ipython",
    "version": 3
   },
   "file_extension": ".py",
   "mimetype": "text/x-python",
   "name": "python",
   "nbconvert_exporter": "python",
   "pygments_lexer": "ipython3",
   "version": "3.8.8"
  }
 },
 "nbformat": 4,
 "nbformat_minor": 5
}
