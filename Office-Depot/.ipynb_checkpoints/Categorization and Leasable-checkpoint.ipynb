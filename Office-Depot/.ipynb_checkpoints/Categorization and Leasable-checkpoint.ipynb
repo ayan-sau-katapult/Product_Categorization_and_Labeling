{
 "cells": [
  {
   "cell_type": "code",
   "execution_count": 1,
   "id": "2e4ec849",
   "metadata": {},
   "outputs": [
    {
     "data": {
      "text/html": [
       "<div>\n",
       "<style scoped>\n",
       "    .dataframe tbody tr th:only-of-type {\n",
       "        vertical-align: middle;\n",
       "    }\n",
       "\n",
       "    .dataframe tbody tr th {\n",
       "        vertical-align: top;\n",
       "    }\n",
       "\n",
       "    .dataframe thead th {\n",
       "        text-align: right;\n",
       "    }\n",
       "</style>\n",
       "<table border=\"1\" class=\"dataframe\">\n",
       "  <thead>\n",
       "    <tr style=\"text-align: right;\">\n",
       "      <th></th>\n",
       "      <th>Unnamed: 0</th>\n",
       "      <th>Name</th>\n",
       "      <th>web-scraper-start-url</th>\n",
       "      <th>category</th>\n",
       "      <th>Leaseable</th>\n",
       "    </tr>\n",
       "  </thead>\n",
       "  <tbody>\n",
       "    <tr>\n",
       "      <th>0</th>\n",
       "      <td>0</td>\n",
       "      <td>\\nWorkProÂ® 1000 Series Ergonomic Mesh/Mesh</td>\n",
       "      <td>NaN</td>\n",
       "      <td>NaN</td>\n",
       "      <td>NaN</td>\n",
       "    </tr>\n",
       "    <tr>\n",
       "      <th>1</th>\n",
       "      <td>1</td>\n",
       "      <td>\\nRealspaceâ¢ Anti-Fatigue Mat For...</td>\n",
       "      <td>NaN</td>\n",
       "      <td>NaN</td>\n",
       "      <td>NaN</td>\n",
       "    </tr>\n",
       "    <tr>\n",
       "      <th>2</th>\n",
       "      <td>2</td>\n",
       "      <td>\\nGaiam Balance Ball Chair, Black</td>\n",
       "      <td>NaN</td>\n",
       "      <td>NaN</td>\n",
       "      <td>NaN</td>\n",
       "    </tr>\n",
       "    <tr>\n",
       "      <th>3</th>\n",
       "      <td>3</td>\n",
       "      <td>\\nSertaÂ® iComfort For WorkProÂ® High-Back...</td>\n",
       "      <td>NaN</td>\n",
       "      <td>NaN</td>\n",
       "      <td>NaN</td>\n",
       "    </tr>\n",
       "    <tr>\n",
       "      <th>4</th>\n",
       "      <td>4</td>\n",
       "      <td>\\nEpsonÂ® WorkForceÂ® Pro WF-3820...</td>\n",
       "      <td>NaN</td>\n",
       "      <td>NaN</td>\n",
       "      <td>NaN</td>\n",
       "    </tr>\n",
       "    <tr>\n",
       "      <th>...</th>\n",
       "      <td>...</td>\n",
       "      <td>...</td>\n",
       "      <td>...</td>\n",
       "      <td>...</td>\n",
       "      <td>...</td>\n",
       "    </tr>\n",
       "    <tr>\n",
       "      <th>339532</th>\n",
       "      <td>339532</td>\n",
       "      <td>SafcoÂ® Stack Chair Cart, 4 1/2\"H x 23 1/2\"W x...</td>\n",
       "      <td>NaN</td>\n",
       "      <td>NaN</td>\n",
       "      <td>NaN</td>\n",
       "    </tr>\n",
       "    <tr>\n",
       "      <th>339533</th>\n",
       "      <td>339533</td>\n",
       "      <td>Kantek 200 Lb Capacity Ultra-Lite Folding Cart...</td>\n",
       "      <td>NaN</td>\n",
       "      <td>NaN</td>\n",
       "      <td>NaN</td>\n",
       "    </tr>\n",
       "    <tr>\n",
       "      <th>339534</th>\n",
       "      <td>339534</td>\n",
       "      <td>Kantek Telescopic Handle Folding Cart, 110 Lb ...</td>\n",
       "      <td>NaN</td>\n",
       "      <td>NaN</td>\n",
       "      <td>NaN</td>\n",
       "    </tr>\n",
       "    <tr>\n",
       "      <th>339535</th>\n",
       "      <td>339535</td>\n",
       "      <td>HONÂ® 4033-Series GuestStacker Chair Cart, Bla...</td>\n",
       "      <td>NaN</td>\n",
       "      <td>NaN</td>\n",
       "      <td>NaN</td>\n",
       "    </tr>\n",
       "    <tr>\n",
       "      <th>339536</th>\n",
       "      <td>339536</td>\n",
       "      <td>SafcoÂ® Veer Chair Cart For Sled-Base Stacking...</td>\n",
       "      <td>NaN</td>\n",
       "      <td>NaN</td>\n",
       "      <td>NaN</td>\n",
       "    </tr>\n",
       "  </tbody>\n",
       "</table>\n",
       "<p>339537 rows × 5 columns</p>\n",
       "</div>"
      ],
      "text/plain": [
       "        Unnamed: 0                                               Name  \\\n",
       "0                0        \\nWorkProÂ® 1000 Series Ergonomic Mesh/Mesh   \n",
       "1                1             \\nRealspaceâ¢ Anti-Fatigue Mat For...   \n",
       "2                2                  \\nGaiam Balance Ball Chair, Black   \n",
       "3                3      \\nSertaÂ® iComfort For WorkProÂ® High-Back...   \n",
       "4                4               \\nEpsonÂ® WorkForceÂ® Pro WF-3820...   \n",
       "...            ...                                                ...   \n",
       "339532      339532  SafcoÂ® Stack Chair Cart, 4 1/2\"H x 23 1/2\"W x...   \n",
       "339533      339533  Kantek 200 Lb Capacity Ultra-Lite Folding Cart...   \n",
       "339534      339534  Kantek Telescopic Handle Folding Cart, 110 Lb ...   \n",
       "339535      339535  HONÂ® 4033-Series GuestStacker Chair Cart, Bla...   \n",
       "339536      339536  SafcoÂ® Veer Chair Cart For Sled-Base Stacking...   \n",
       "\n",
       "       web-scraper-start-url category Leaseable  \n",
       "0                        NaN      NaN       NaN  \n",
       "1                        NaN      NaN       NaN  \n",
       "2                        NaN      NaN       NaN  \n",
       "3                        NaN      NaN       NaN  \n",
       "4                        NaN      NaN       NaN  \n",
       "...                      ...      ...       ...  \n",
       "339532                   NaN      NaN       NaN  \n",
       "339533                   NaN      NaN       NaN  \n",
       "339534                   NaN      NaN       NaN  \n",
       "339535                   NaN      NaN       NaN  \n",
       "339536                   NaN      NaN       NaN  \n",
       "\n",
       "[339537 rows x 5 columns]"
      ]
     },
     "execution_count": 1,
     "metadata": {},
     "output_type": "execute_result"
    }
   ],
   "source": [
    "import pandas as pd\n",
    "\n",
    "df=pd.read_excel(\"Final_data_cleaned.xlsx\")\n",
    "df"
   ]
  },
  {
   "cell_type": "code",
   "execution_count": 2,
   "id": "174487cb",
   "metadata": {},
   "outputs": [
    {
     "data": {
      "text/plain": [
       "Name                         96\n",
       "web-scraper-start-url    274007\n",
       "category                 100122\n",
       "Leaseable                305249\n",
       "dtype: int64"
      ]
     },
     "execution_count": 2,
     "metadata": {},
     "output_type": "execute_result"
    }
   ],
   "source": [
    "df=df.drop(\"Unnamed: 0\",axis=1)\n",
    "df.isnull().sum()"
   ]
  },
  {
   "cell_type": "code",
   "execution_count": 4,
   "id": "4db6a793",
   "metadata": {},
   "outputs": [],
   "source": [
    "df[\"web-scraper-start-url\"]=df[\"web-scraper-start-url\"].fillna(\"none\")"
   ]
  },
  {
   "cell_type": "code",
   "execution_count": 18,
   "id": "eb69bc66",
   "metadata": {},
   "outputs": [
    {
     "name": "stdout",
     "output_type": "stream",
     "text": [
      "(274007, 4)\n",
      "(65530, 4)\n"
     ]
    }
   ],
   "source": [
    "df_1=df[df[\"web-scraper-start-url\"]==\"none\"]\n",
    "print(df_1.shape)\n",
    "\n",
    "\n",
    "df_2=df[df[\"web-scraper-start-url\"]!=\"none\"]\n",
    "print(df_2.shape)"
   ]
  },
  {
   "cell_type": "code",
   "execution_count": 19,
   "id": "3a36b216",
   "metadata": {},
   "outputs": [
    {
     "data": {
      "text/plain": [
       "'epson-scanners'"
      ]
     },
     "execution_count": 19,
     "metadata": {},
     "output_type": "execute_result"
    }
   ],
   "source": [
    "df_2[\"web-scraper-start-url\"][10].split(\"/\")[-1].split(\"?\")[0]"
   ]
  },
  {
   "cell_type": "code",
   "execution_count": 20,
   "id": "7ab2b14c",
   "metadata": {},
   "outputs": [],
   "source": [
    "def category(string):\n",
    "    return string.split(\"/\")[-1].split(\"?\")[0]"
   ]
  },
  {
   "cell_type": "code",
   "execution_count": 21,
   "id": "ba3b0e23",
   "metadata": {},
   "outputs": [
    {
     "name": "stderr",
     "output_type": "stream",
     "text": [
      "<ipython-input-21-aba7e440343b>:1: SettingWithCopyWarning: \n",
      "A value is trying to be set on a copy of a slice from a DataFrame.\n",
      "Try using .loc[row_indexer,col_indexer] = value instead\n",
      "\n",
      "See the caveats in the documentation: https://pandas.pydata.org/pandas-docs/stable/user_guide/indexing.html#returning-a-view-versus-a-copy\n",
      "  df_2[\"category\"]=df_2[\"web-scraper-start-url\"].apply(category)\n"
     ]
    }
   ],
   "source": [
    "df_2[\"category\"]=df_2[\"web-scraper-start-url\"].apply(category)"
   ]
  },
  {
   "cell_type": "code",
   "execution_count": 22,
   "id": "b79b1666",
   "metadata": {},
   "outputs": [
    {
     "data": {
      "text/plain": [
       "Name                         9\n",
       "web-scraper-start-url        0\n",
       "category                     0\n",
       "Leaseable                65530\n",
       "dtype: int64"
      ]
     },
     "execution_count": 22,
     "metadata": {},
     "output_type": "execute_result"
    }
   ],
   "source": [
    "df_2.isnull().sum()"
   ]
  },
  {
   "cell_type": "code",
   "execution_count": null,
   "id": "11fcfd35",
   "metadata": {},
   "outputs": [],
   "source": []
  }
 ],
 "metadata": {
  "kernelspec": {
   "display_name": "Python 3",
   "language": "python",
   "name": "python3"
  },
  "language_info": {
   "codemirror_mode": {
    "name": "ipython",
    "version": 3
   },
   "file_extension": ".py",
   "mimetype": "text/x-python",
   "name": "python",
   "nbconvert_exporter": "python",
   "pygments_lexer": "ipython3",
   "version": "3.8.8"
  }
 },
 "nbformat": 4,
 "nbformat_minor": 5
}
