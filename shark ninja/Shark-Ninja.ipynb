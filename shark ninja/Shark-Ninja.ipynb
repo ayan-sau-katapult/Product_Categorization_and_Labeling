{
 "cells": [
  {
   "cell_type": "code",
   "execution_count": 40,
   "id": "8e046531",
   "metadata": {},
   "outputs": [
    {
     "data": {
      "text/html": [
       "<div>\n",
       "<style scoped>\n",
       "    .dataframe tbody tr th:only-of-type {\n",
       "        vertical-align: middle;\n",
       "    }\n",
       "\n",
       "    .dataframe tbody tr th {\n",
       "        vertical-align: top;\n",
       "    }\n",
       "\n",
       "    .dataframe thead th {\n",
       "        text-align: right;\n",
       "    }\n",
       "</style>\n",
       "<table border=\"1\" class=\"dataframe\">\n",
       "  <thead>\n",
       "    <tr style=\"text-align: right;\">\n",
       "      <th></th>\n",
       "      <th>web-scraper-order</th>\n",
       "      <th>web-scraper-start-url</th>\n",
       "      <th>name</th>\n",
       "    </tr>\n",
       "  </thead>\n",
       "  <tbody>\n",
       "    <tr>\n",
       "      <th>0</th>\n",
       "      <td>1631788339-76</td>\n",
       "      <td>https://www.ninjakitchen.com/ninjaus/parts_acc...</td>\n",
       "      <td>16 oz. Tritan™ Nutri Ninja® Cups with Lids - S...</td>\n",
       "    </tr>\n",
       "    <tr>\n",
       "      <th>1</th>\n",
       "      <td>1631788339-138</td>\n",
       "      <td>https://www.ninjakitchen.com/ninjaus/parts_acc...</td>\n",
       "      <td>Dough Paddle</td>\n",
       "    </tr>\n",
       "    <tr>\n",
       "      <th>2</th>\n",
       "      <td>1631788339-155</td>\n",
       "      <td>https://www.ninjakitchen.com/ninjaus/parts_acc...</td>\n",
       "      <td>72 oz. Square Blender Jar with Lid</td>\n",
       "    </tr>\n",
       "    <tr>\n",
       "      <th>3</th>\n",
       "      <td>1631788339-98</td>\n",
       "      <td>https://www.ninjakitchen.com/ninjaus/parts_acc...</td>\n",
       "      <td>Pouring Lid</td>\n",
       "    </tr>\n",
       "    <tr>\n",
       "      <th>4</th>\n",
       "      <td>1631788339-43</td>\n",
       "      <td>https://www.ninjakitchen.com/ninjaus/parts_acc...</td>\n",
       "      <td>Nutri Ninja® Lid for BL660 &amp; BL740</td>\n",
       "    </tr>\n",
       "    <tr>\n",
       "      <th>...</th>\n",
       "      <td>...</td>\n",
       "      <td>...</td>\n",
       "      <td>...</td>\n",
       "    </tr>\n",
       "    <tr>\n",
       "      <th>1140</th>\n",
       "      <td>NaN</td>\n",
       "      <td>NaN</td>\n",
       "      <td>Shark UltraCyclone™ Pet Pro+ Cordless Handheld...</td>\n",
       "    </tr>\n",
       "    <tr>\n",
       "      <th>1141</th>\n",
       "      <td>NaN</td>\n",
       "      <td>NaN</td>\n",
       "      <td>Shark® Lift-Away® Pro Steam Pocket® Mop</td>\n",
       "    </tr>\n",
       "    <tr>\n",
       "      <th>1142</th>\n",
       "      <td>NaN</td>\n",
       "      <td>NaN</td>\n",
       "      <td>Shark® Steam Mop</td>\n",
       "    </tr>\n",
       "    <tr>\n",
       "      <th>1143</th>\n",
       "      <td>NaN</td>\n",
       "      <td>NaN</td>\n",
       "      <td>Shark Navigator® Pet Pro Upright Vacuum with S...</td>\n",
       "    </tr>\n",
       "    <tr>\n",
       "      <th>1144</th>\n",
       "      <td>NaN</td>\n",
       "      <td>NaN</td>\n",
       "      <td>Shark® Ultimate Professional Iron</td>\n",
       "    </tr>\n",
       "  </tbody>\n",
       "</table>\n",
       "<p>1145 rows × 3 columns</p>\n",
       "</div>"
      ],
      "text/plain": [
       "     web-scraper-order                              web-scraper-start-url  \\\n",
       "0        1631788339-76  https://www.ninjakitchen.com/ninjaus/parts_acc...   \n",
       "1       1631788339-138  https://www.ninjakitchen.com/ninjaus/parts_acc...   \n",
       "2       1631788339-155  https://www.ninjakitchen.com/ninjaus/parts_acc...   \n",
       "3        1631788339-98  https://www.ninjakitchen.com/ninjaus/parts_acc...   \n",
       "4        1631788339-43  https://www.ninjakitchen.com/ninjaus/parts_acc...   \n",
       "...                ...                                                ...   \n",
       "1140               NaN                                                NaN   \n",
       "1141               NaN                                                NaN   \n",
       "1142               NaN                                                NaN   \n",
       "1143               NaN                                                NaN   \n",
       "1144               NaN                                                NaN   \n",
       "\n",
       "                                                   name  \n",
       "0     16 oz. Tritan™ Nutri Ninja® Cups with Lids - S...  \n",
       "1                                          Dough Paddle  \n",
       "2                    72 oz. Square Blender Jar with Lid  \n",
       "3                                           Pouring Lid  \n",
       "4                    Nutri Ninja® Lid for BL660 & BL740  \n",
       "...                                                 ...  \n",
       "1140  Shark UltraCyclone™ Pet Pro+ Cordless Handheld...  \n",
       "1141            Shark® Lift-Away® Pro Steam Pocket® Mop  \n",
       "1142                                   Shark® Steam Mop  \n",
       "1143  Shark Navigator® Pet Pro Upright Vacuum with S...  \n",
       "1144                  Shark® Ultimate Professional Iron  \n",
       "\n",
       "[1145 rows x 3 columns]"
      ]
     },
     "execution_count": 40,
     "metadata": {},
     "output_type": "execute_result"
    }
   ],
   "source": [
    "import glob\n",
    "import pandas as pd\n",
    "\n",
    "# get data file names\n",
    "path =r'C:\\Users\\AyanSau\\Desktop\\shark ninja\\shark-ninja'\n",
    "filenames = glob.glob(path + \"/*.csv\")\n",
    "\n",
    "dfs = []\n",
    "for filename in filenames:\n",
    "    dfs.append(pd.read_csv(filename))\n",
    "\n",
    "# Concatenate all data into one DataFrame\n",
    "big_df = pd.concat(dfs, ignore_index=True)\n",
    "big_df=big_df.drop([\"category\",\"category-href\",\"current-price\"],axis=1)\n",
    "big_df"
   ]
  },
  {
   "cell_type": "code",
   "execution_count": 68,
   "id": "15bbaea8",
   "metadata": {},
   "outputs": [],
   "source": [
    "def categorize(string):\n",
    "    string= \"\".join(str(string).split()).lower()\n",
    "    if \"flask\" in string or \"jug\" in string or \"tumbler\" in string or \"glass\" in string or \"cap\" in string or \"plate\" in string or \"jar\" in string or \"lid\" in string or \"bowl\" in string or \"pitcher\" in string or \"cup\" in string or \"scoop\" in string or \"mug\" in string or \"caddy\" in string or \"fork\" in string or \"spoon\" in string:\n",
    "        return \"Containers-Servewares-Cutlery\"\n",
    "    elif \"mitts\" in string or \"disc\" in string or \"replacement\" in string or \"blade\" in string or \"sleeve\" in string or \"attachment\" in string or \"filter\" in string:\n",
    "        return \"Replacement-Parts\"\n",
    "    elif \"remote\" in string or \"maker\" in string or \"coffee\" in string or \"steam\" in string or \"robot\" in string or \"model\" in string or \"roast\" in string or \"pusher\" in string or \"froth\" in string or \"bbq\" in string or \"thermo\" in string or \"iron\" in string or \"air\" in string or \"vacuum\" in string or \"cooker\" in string or \"airfry\" in string or \"grill\" in string or \"pressurecooker\" in string or \"oven\" in string and \"cookbook\" not in string and \"replacement\" not in string and \"book\" not in string and \"syrup\" not in string:\n",
    "        return \"Appliances\"\n",
    "    elif \"cookbook\" in string or \"book\" in string:\n",
    "        return \"Cook-Books\"\n",
    "    elif \"basket\" in string or \"storage\" in string or \"tray\" in string or \"rack\" in string or \"stand\" in string or \"collector\" in string:\n",
    "        return \"Storage\"\n",
    "    elif \"juicer\" in string or \"processor\" in string or \"grinder\" in string or \"mixer\" in string or \"blender\" in string and \"cookbook\" not in string and \"replacement\" not in string and \"book\" not in string:\n",
    "        return \"Mixer and Grinder\"\n",
    "    elif \"pump\" in string or \"motor\" in string or \"nozzle\" in string or \"valve\" in string:\n",
    "        return \"Pumps and Motor\"\n",
    "    elif \"neverstick\" in string or \"cook\" in string or \"chamber\" in string or \"water\" in string or \"spatula\" in string or \"shaker\" in string or \"whisk\" in string or \"bake\" in string or \"mold\" in string or \"catch\" in string or \"pot\" in string or \"pan\" in string or \"paddle\" in string or \"pint\" in string or \"dough\" in string or \"cookingsystem\" in string:\n",
    "        return \"Cook-Ware\"\n",
    "    elif \"syrup\" in string or \"tube\" in string or \"clean\" in string or \"solution\"in string or \"hose\" in string or \"dustbin\" in string or \"bag\" in string or \"mat\" in string or \"bottle\" in string or  \"mop\" in string or \"brush\" in string or \"tool\" in string or \"pad\" in string or \"roll\" in string or \"dust\" in string:\n",
    "        return \"Cleaning-Tools\"\n",
    "    elif \"cord\" in string or \"adapter\" in string or \"charger\" in string or \"adaptor\" in string or \"power\" in string or \"kit\" in string or \"cable\" in string:\n",
    "        return \"Charging-Equipment\"\n",
    "    elif \"battery\" in string:\n",
    "        return \"Battery\"\n",
    "    elif \"mount\" in string or \"dock\" in string or \"holder\" in string or \"wand\" in string or \"handle\" in string:\n",
    "        return \"Mount\"\n",
    "    \n",
    "    \n",
    "    else:\n",
    "        pass\n",
    "    "
   ]
  },
  {
   "cell_type": "code",
   "execution_count": 69,
   "id": "ea50dab8",
   "metadata": {},
   "outputs": [],
   "source": [
    "big_df[\"Category\"]=big_df[\"name\"].apply(categorize)"
   ]
  },
  {
   "cell_type": "code",
   "execution_count": null,
   "id": "549d748c",
   "metadata": {},
   "outputs": [],
   "source": []
  },
  {
   "cell_type": "code",
   "execution_count": null,
   "id": "0147bc7f",
   "metadata": {},
   "outputs": [],
   "source": []
  },
  {
   "cell_type": "code",
   "execution_count": null,
   "id": "78780602",
   "metadata": {},
   "outputs": [],
   "source": []
  },
  {
   "cell_type": "code",
   "execution_count": null,
   "id": "9b04013c",
   "metadata": {},
   "outputs": [],
   "source": []
  },
  {
   "cell_type": "code",
   "execution_count": null,
   "id": "51759289",
   "metadata": {},
   "outputs": [],
   "source": []
  },
  {
   "cell_type": "code",
   "execution_count": 71,
   "id": "60aac6fb",
   "metadata": {},
   "outputs": [
    {
     "data": {
      "text/plain": [
       "web-scraper-order        409\n",
       "web-scraper-start-url    409\n",
       "name                       0\n",
       "Category                  23\n",
       "dtype: int64"
      ]
     },
     "execution_count": 71,
     "metadata": {},
     "output_type": "execute_result"
    }
   ],
   "source": [
    "big_df.isnull().sum()"
   ]
  },
  {
   "cell_type": "code",
   "execution_count": 72,
   "id": "e5368f2e",
   "metadata": {},
   "outputs": [],
   "source": [
    "big_df.to_excel(\"Shark-Ninja_Categorized.xlsx\")"
   ]
  },
  {
   "cell_type": "code",
   "execution_count": null,
   "id": "2032d60f",
   "metadata": {},
   "outputs": [],
   "source": []
  }
 ],
 "metadata": {
  "kernelspec": {
   "display_name": "Python 3",
   "language": "python",
   "name": "python3"
  },
  "language_info": {
   "codemirror_mode": {
    "name": "ipython",
    "version": 3
   },
   "file_extension": ".py",
   "mimetype": "text/x-python",
   "name": "python",
   "nbconvert_exporter": "python",
   "pygments_lexer": "ipython3",
   "version": "3.8.8"
  }
 },
 "nbformat": 4,
 "nbformat_minor": 5
}
