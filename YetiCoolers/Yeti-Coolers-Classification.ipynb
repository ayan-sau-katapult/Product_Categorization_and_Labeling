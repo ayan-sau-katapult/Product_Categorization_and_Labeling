{
 "cells": [
  {
   "cell_type": "code",
   "execution_count": 1,
   "id": "9461bf3b",
   "metadata": {},
   "outputs": [
    {
     "data": {
      "text/html": [
       "<div>\n",
       "<style scoped>\n",
       "    .dataframe tbody tr th:only-of-type {\n",
       "        vertical-align: middle;\n",
       "    }\n",
       "\n",
       "    .dataframe tbody tr th {\n",
       "        vertical-align: top;\n",
       "    }\n",
       "\n",
       "    .dataframe thead th {\n",
       "        text-align: right;\n",
       "    }\n",
       "</style>\n",
       "<table border=\"1\" class=\"dataframe\">\n",
       "  <thead>\n",
       "    <tr style=\"text-align: right;\">\n",
       "      <th></th>\n",
       "      <th>Name</th>\n",
       "      <th>Category</th>\n",
       "    </tr>\n",
       "  </thead>\n",
       "  <tbody>\n",
       "    <tr>\n",
       "      <th>0</th>\n",
       "      <td>RAMBLER 64 OZ BOTTLE WITH CHUG CAP</td>\n",
       "      <td>Drinkware</td>\n",
       "    </tr>\n",
       "    <tr>\n",
       "      <th>1</th>\n",
       "      <td>RAMBLER 36 OZ BOTTLE WITH CHUG CAP</td>\n",
       "      <td>Drinkware</td>\n",
       "    </tr>\n",
       "    <tr>\n",
       "      <th>2</th>\n",
       "      <td>RAMBLER 18 OZ BOTTLE WITH HOTSHOT CAP</td>\n",
       "      <td>Drinkware</td>\n",
       "    </tr>\n",
       "    <tr>\n",
       "      <th>3</th>\n",
       "      <td>RAMBLER 16 OZ STACKABLE PINT WITH MAGSLIDER LID</td>\n",
       "      <td>Drinkware</td>\n",
       "    </tr>\n",
       "    <tr>\n",
       "      <th>4</th>\n",
       "      <td>RAMBLER 14 OZ MUG WITH MAGSLIDER LID</td>\n",
       "      <td>Drinkware</td>\n",
       "    </tr>\n",
       "  </tbody>\n",
       "</table>\n",
       "</div>"
      ],
      "text/plain": [
       "                                              Name   Category\n",
       "0               RAMBLER 64 OZ BOTTLE WITH CHUG CAP  Drinkware\n",
       "1               RAMBLER 36 OZ BOTTLE WITH CHUG CAP  Drinkware\n",
       "2            RAMBLER 18 OZ BOTTLE WITH HOTSHOT CAP  Drinkware\n",
       "3  RAMBLER 16 OZ STACKABLE PINT WITH MAGSLIDER LID  Drinkware\n",
       "4             RAMBLER 14 OZ MUG WITH MAGSLIDER LID  Drinkware"
      ]
     },
     "execution_count": 1,
     "metadata": {},
     "output_type": "execute_result"
    }
   ],
   "source": [
    "import pandas as pd\n",
    "\n",
    "df=pd.read_excel(\"YETI Coolers_Categories.xlsx\")\n",
    "df.head()"
   ]
  },
  {
   "cell_type": "code",
   "execution_count": 40,
   "id": "09d81154",
   "metadata": {},
   "outputs": [],
   "source": [
    "def categorize(string):\n",
    "    string= \"\".join(str(string.lower()).split())\n",
    "    if \"bottle\" in string or \"tumbler\" in string or \"lunch\" in string or \"lowball\" in string or \"can\" in string:\n",
    "        return False\n",
    "    elif \"mug\" in string or \"cup\" in string or \"plug\" in string or \"bowl\" in string or \"blanket\" in string or \"bed\" in string:\n",
    "        return False\n",
    "    elif \"cooler\" in string or \"chair\" in string:\n",
    "        return True\n",
    "    elif \"bucket\" in string:\n",
    "        return True\n",
    "    elif \"ice\" in string and \"bucket\" not in string:\n",
    "        return False\n",
    "    elif \"sticker\" in string or \"decal\" in string or \"patch\" in string:\n",
    "        return False\n",
    "    elif \"lock\" in string or \"basket\" in string or \"cushion\" in string or \"zinger\" in string:\n",
    "        return False\n",
    "    elif \"lid\" in string or \"cap\" in string:\n",
    "        return False\n",
    "    elif \"duffel\" in string or \"backpack\" in string or \"luggage\" in string or \"belt\" in string or \"hoodie\" in string or \"cube\" in string or \"tote\" in string:\n",
    "        return False\n",
    "    elif \"jug\" in string:\n",
    "        return False\n",
    "    elif \"mount\" in string or \"tool\" in string or \"holder\" in string or \"holster\" in string:\n",
    "        return False\n",
    "    elif \"t-shirt\" in string or \"sleeve\" in string or \"tshirt\" in string or \"neck\" in string or \"hat\" in string or \"badge\" in string or \"pullover\" in string or \"beanie\" in string or \"jersey\" in string:\n",
    "        return False\n",
    "    elif \"mount\" in string:\n",
    "        return False\n",
    "    else:\n",
    "        pass\n",
    "        \n",
    "    "
   ]
  },
  {
   "cell_type": "code",
   "execution_count": 41,
   "id": "f549e831",
   "metadata": {},
   "outputs": [
    {
     "data": {
      "text/html": [
       "<div>\n",
       "<style scoped>\n",
       "    .dataframe tbody tr th:only-of-type {\n",
       "        vertical-align: middle;\n",
       "    }\n",
       "\n",
       "    .dataframe tbody tr th {\n",
       "        vertical-align: top;\n",
       "    }\n",
       "\n",
       "    .dataframe thead th {\n",
       "        text-align: right;\n",
       "    }\n",
       "</style>\n",
       "<table border=\"1\" class=\"dataframe\">\n",
       "  <thead>\n",
       "    <tr style=\"text-align: right;\">\n",
       "      <th></th>\n",
       "      <th>Name</th>\n",
       "      <th>Category</th>\n",
       "      <th>Leasable</th>\n",
       "    </tr>\n",
       "  </thead>\n",
       "  <tbody>\n",
       "    <tr>\n",
       "      <th>0</th>\n",
       "      <td>RAMBLER 64 OZ BOTTLE WITH CHUG CAP</td>\n",
       "      <td>Drinkware</td>\n",
       "      <td>False</td>\n",
       "    </tr>\n",
       "    <tr>\n",
       "      <th>1</th>\n",
       "      <td>RAMBLER 36 OZ BOTTLE WITH CHUG CAP</td>\n",
       "      <td>Drinkware</td>\n",
       "      <td>False</td>\n",
       "    </tr>\n",
       "    <tr>\n",
       "      <th>2</th>\n",
       "      <td>RAMBLER 18 OZ BOTTLE WITH HOTSHOT CAP</td>\n",
       "      <td>Drinkware</td>\n",
       "      <td>False</td>\n",
       "    </tr>\n",
       "    <tr>\n",
       "      <th>3</th>\n",
       "      <td>RAMBLER 16 OZ STACKABLE PINT WITH MAGSLIDER LID</td>\n",
       "      <td>Drinkware</td>\n",
       "      <td>False</td>\n",
       "    </tr>\n",
       "    <tr>\n",
       "      <th>4</th>\n",
       "      <td>RAMBLER 14 OZ MUG WITH MAGSLIDER LID</td>\n",
       "      <td>Drinkware</td>\n",
       "      <td>False</td>\n",
       "    </tr>\n",
       "  </tbody>\n",
       "</table>\n",
       "</div>"
      ],
      "text/plain": [
       "                                              Name   Category Leasable\n",
       "0               RAMBLER 64 OZ BOTTLE WITH CHUG CAP  Drinkware    False\n",
       "1               RAMBLER 36 OZ BOTTLE WITH CHUG CAP  Drinkware    False\n",
       "2            RAMBLER 18 OZ BOTTLE WITH HOTSHOT CAP  Drinkware    False\n",
       "3  RAMBLER 16 OZ STACKABLE PINT WITH MAGSLIDER LID  Drinkware    False\n",
       "4             RAMBLER 14 OZ MUG WITH MAGSLIDER LID  Drinkware    False"
      ]
     },
     "execution_count": 41,
     "metadata": {},
     "output_type": "execute_result"
    }
   ],
   "source": [
    "df[\"Leasable\"]=df[\"Name\"].apply(categorize)\n",
    "df.head()"
   ]
  },
  {
   "cell_type": "code",
   "execution_count": 42,
   "id": "3fcc3ceb",
   "metadata": {},
   "outputs": [
    {
     "data": {
      "text/plain": [
       "1033"
      ]
     },
     "execution_count": 42,
     "metadata": {},
     "output_type": "execute_result"
    }
   ],
   "source": [
    "len(df)"
   ]
  },
  {
   "cell_type": "code",
   "execution_count": 43,
   "id": "75ca97f7",
   "metadata": {},
   "outputs": [
    {
     "data": {
      "text/plain": [
       "Name         0\n",
       "Category     0\n",
       "Leasable    47\n",
       "dtype: int64"
      ]
     },
     "execution_count": 43,
     "metadata": {},
     "output_type": "execute_result"
    }
   ],
   "source": [
    "df.isnull().sum()"
   ]
  },
  {
   "cell_type": "code",
   "execution_count": 44,
   "id": "f2024ead",
   "metadata": {},
   "outputs": [],
   "source": [
    "df.to_excel(\"Yeti_cooler_classifier.xlsx\")"
   ]
  },
  {
   "cell_type": "code",
   "execution_count": null,
   "id": "b37afb9b",
   "metadata": {},
   "outputs": [],
   "source": []
  }
 ],
 "metadata": {
  "kernelspec": {
   "display_name": "Python 3",
   "language": "python",
   "name": "python3"
  },
  "language_info": {
   "codemirror_mode": {
    "name": "ipython",
    "version": 3
   },
   "file_extension": ".py",
   "mimetype": "text/x-python",
   "name": "python",
   "nbconvert_exporter": "python",
   "pygments_lexer": "ipython3",
   "version": "3.8.8"
  }
 },
 "nbformat": 4,
 "nbformat_minor": 5
}
