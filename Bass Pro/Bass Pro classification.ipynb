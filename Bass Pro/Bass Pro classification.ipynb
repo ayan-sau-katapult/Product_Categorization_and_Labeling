{
 "cells": [
  {
   "cell_type": "code",
   "execution_count": 254,
   "id": "97209795",
   "metadata": {},
   "outputs": [
    {
     "data": {
      "text/html": [
       "<div>\n",
       "<style scoped>\n",
       "    .dataframe tbody tr th:only-of-type {\n",
       "        vertical-align: middle;\n",
       "    }\n",
       "\n",
       "    .dataframe tbody tr th {\n",
       "        vertical-align: top;\n",
       "    }\n",
       "\n",
       "    .dataframe thead th {\n",
       "        text-align: right;\n",
       "    }\n",
       "</style>\n",
       "<table border=\"1\" class=\"dataframe\">\n",
       "  <thead>\n",
       "    <tr style=\"text-align: right;\">\n",
       "      <th></th>\n",
       "      <th>Rapala Retractable Mega Scoop</th>\n",
       "      <th>Accessories (38)</th>\n",
       "    </tr>\n",
       "  </thead>\n",
       "  <tbody>\n",
       "    <tr>\n",
       "      <th>0</th>\n",
       "      <td>Cabela's 4-Legged Ice Fishing Chair</td>\n",
       "      <td>Accessories (38)</td>\n",
       "    </tr>\n",
       "    <tr>\n",
       "      <th>1</th>\n",
       "      <td>The Fishing Caddy Anywhere Rod Holder</td>\n",
       "      <td>Accessories (38)</td>\n",
       "    </tr>\n",
       "    <tr>\n",
       "      <th>2</th>\n",
       "      <td>Cabela's Magnum Folding Ice Fishing Chair</td>\n",
       "      <td>Accessories (38)</td>\n",
       "    </tr>\n",
       "    <tr>\n",
       "      <th>3</th>\n",
       "      <td>Due North All Purpose Winter Traction Ice Cleats</td>\n",
       "      <td>Accessories (38)</td>\n",
       "    </tr>\n",
       "    <tr>\n",
       "      <th>4</th>\n",
       "      <td>The Fishing Caddy Anywhere Single Rod Holder</td>\n",
       "      <td>Accessories (38)</td>\n",
       "    </tr>\n",
       "  </tbody>\n",
       "</table>\n",
       "</div>"
      ],
      "text/plain": [
       "                      Rapala Retractable Mega Scoop  Accessories (38)\n",
       "0               Cabela's 4-Legged Ice Fishing Chair  Accessories (38)\n",
       "1             The Fishing Caddy Anywhere Rod Holder  Accessories (38)\n",
       "2         Cabela's Magnum Folding Ice Fishing Chair  Accessories (38)\n",
       "3  Due North All Purpose Winter Traction Ice Cleats  Accessories (38)\n",
       "4      The Fishing Caddy Anywhere Single Rod Holder  Accessories (38)"
      ]
     },
     "execution_count": 254,
     "metadata": {},
     "output_type": "execute_result"
    }
   ],
   "source": [
    "import pandas as pd\n",
    "\n",
    "df=pd.read_csv(\"bass pro final.csv\")\n",
    "df.head()"
   ]
  },
  {
   "cell_type": "code",
   "execution_count": 255,
   "id": "c238a5c4",
   "metadata": {},
   "outputs": [
    {
     "data": {
      "text/plain": [
       "(22873, 2)"
      ]
     },
     "execution_count": 255,
     "metadata": {},
     "output_type": "execute_result"
    }
   ],
   "source": [
    "df.shape"
   ]
  },
  {
   "cell_type": "code",
   "execution_count": 256,
   "id": "7683c66f",
   "metadata": {},
   "outputs": [
    {
     "data": {
      "text/plain": [
       "(21518, 2)"
      ]
     },
     "execution_count": 256,
     "metadata": {},
     "output_type": "execute_result"
    }
   ],
   "source": [
    "df=df.dropna()\n",
    "df.shape"
   ]
  },
  {
   "cell_type": "code",
   "execution_count": 257,
   "id": "f9b3e8e0",
   "metadata": {},
   "outputs": [],
   "source": [
    "def is_leasable(string):\n",
    "    string= \"\".join(str(string).split())\n",
    "    if \"Utensil\" in string or \"Helmet\" in string or \"Container\" in string or \"Hook\" in string or \"Hawk\" in string or \"Blade\" in string or \"Dog\" in string or \"Spray\" in string or \"Knife\" in string or \"Bottle\" in string or \"Decoy\" in string or \"Seed\" in string or \"Gel\" in string or \"Call\" in string or \"Trap\" in string or \"Toy\" in string or \"Collar\" in string or \"Sight\" in string or \"Laser\" in string or \"Scope\" in string or \"Tumbler\" in string or \"Mug\" in string or \"Cup\" in string or \"Lid\" in string or \"Flashlight\" in string or \"LED\" in string or \"Binoculars\" in string or \"Tool\" in string or \"Glass\" in string or \"Sword\" in string:\n",
    "        return False\n",
    "    elif \"Rangefinder\" in string or \"Camera\" in string and \"Mount\" not in string or \"Cable\" in string or \"Chord\" in string or \"Radio\" in string:\n",
    "        return True\n",
    "    elif \"Tripod\" in string or \"Clamp\" in string or \"GreatDay\" in string or \"Mount\" in string or \"Machete\" in string or \"Cage\" in string or \"Bracket\" in string or \"Holder\" in string or \"Replacement\" in string or \"Case\" in string or \"Guard\" in string or \"Cover\" in string or \"Harness\" in string or \"Dagger\" in string or \"Attachment\" in string or \"Strap\" in string:\n",
    "        return False\n",
    "    elif \"Lounger\" in string or \"Recliner\" in string or \"Sofa\" in string or \"Table\" in string or \"Furnishings\" in string or \"Furniture\" in string or \"Chair\" in string or \"Lodge\" in string or \"Ottoman\" in string or \"TVStand\" in string or \"Bed\" in string or \"Drawer\" in string or \"Nightstand\" in string or \"Dresser\" in string or \"Mirror\" in string or \"Barstool\" in string or \"Rocker\" in string or \"Swing\" in string:\n",
    "        return True\n",
    "    elif \"Battery\" in string and \"Charger\" not in string and \"Pump\" not in string or \"Ammunition\" in string or \"Buckshot\" in string:\n",
    "        return False\n",
    "    elif \"Generator\" in string or \"Inverter\" in string or \"PowerStation\" in string or \"Grill\" in string and \"Cover\" not in string:\n",
    "        return True\n",
    "    elif \"Adapter\" in string or \"Charger\" in string or \"Starter\" in string or \"PowerBank\" in string or \"Feeders\" in string or \"Treestand\" in string:\n",
    "        return True\n",
    "    elif \"Filter\" in string or \"Pet\" in string or \"Rope\" in string or \"Wire\" in string or \"Call\" in string:\n",
    "        return False\n",
    "    elif \"Crossbow\" in string or \"Bow\" in string or \"Broadhead\" in string or \"Archery\" in string or \"Target\" in string or \"Stick\" in string:\n",
    "        return False\n",
    "    elif \"Glove\" in string or \"Rice\" in string or \"Chicken\" in string or \"Steak\" in string or \"Pasta\" in string or \"Cheese\" in string or \"Coffee\" in string or \"Spaghetti\" in string or \"MountainHouse\" in string or \"AlpineAire\" in string or \"BlackRifle\" in string or \"UncleBuck\" in string or \"PearsonRanch\" in string or \"JackLink\" in string or \"Lorrisa\" in string or \"Webash\" in string or \"HappySnacks\" in string or \"WiseCompany\" in string or \"JackDaniel\" in string or \"ProtienBar\" in string or \"Bridgford\" in string or \"Popcorn\" in string or \"Flossie\" in string or \"Cake\" in string or \"MTNOPS\" in string or \"Cabela\" in string or \"AssKickin\" in string or \"Jelly\" in string or \"RockyMountain\" in string or r\"Hunter'sReserve\" in string or \"ReadyWise\" in string or \"Beef\" in string or \"Sausage\" in string or \"cake\" in string or \"Augason\" in string or \"Liquid\" in string:\n",
    "        return False\n",
    "    elif \"Thermal\" in string or \"Bottoms\" in string or \"Mask\" in string or \"Beanie\" in string or \"Bib\" in string or \"T-Shirt\" in string or \"Jacket\" in string or \"Top\" in string or \"Pullover\" in string or \"Hoodie\" in string or \"Backpack\" in string or \"Pant\" in string or \"Suit\" in string or \"Shirt\" in string or \"Cloth\" in string or \"Buckle\" in string or \"Belt\" in string or \"Boot\" in string or \"Bag\" in string or \"Pannier\" in string or \"Flask\" in string or \"Shorts\" in string or \"Sunglass\" in string or \"Hat\" in string or \"Cap\" in string or \"UnderArmour\" in string or \"Gaiter\" in string or \"Band\" in string or \"Purse\" in string or \"Wearable\" in string or \"Sombrero\" in string or \"Vest\" in string or \"Gloves\" in string or \"Goggles\" in string or \"Grip\" in string:\n",
    "        return False\n",
    "    elif \"Ammo\" in string or \"shells\" in string or \"Pistol\" in string or \"Rifle\" in string or \"Shotgun\" in string or \"Light\" in string or \"Food\" in string or \"Detergent\" in string or \"Oil\" in string or \"Deer\" in string or \"Arrow\" in string:\n",
    "        return False\n",
    "    elif \"Pump\" in string or \"Smoker\" in string or \"Fryer\" in string or \"Feeder\" in string or \"Cooker\" in string:\n",
    "        return True\n",
    "    elif \"Duck\" in string or \"Axe\" in string or \"hawk\" in string or \"Hatchet\" in string or \"Decor\" in string or \"Deodorant\" in string or \"Anti\" in string or \"Deodorizer\" in string or \"Purifier\" in string:\n",
    "        return False\n",
    "    elif \"Butter\" in string or \"Attractant\" in string or \"Ball\" in string or \"Arrow\" in string or \"Hanger\" in string or \"Sauce\" in string:\n",
    "        return False\n",
    "    elif \"Coat\" in string or \"Scent\" in string or \"Candle\" in string or \"Honey\" in string or \"Wax\" in string or \"UTV\" in string or \"ATV\" in string or \"Stand\" in string or \"Towel\" in string or \"Rub\" in string or \"Seasoning\" in string or \"Jam\" in string or \"Dress\" in string: \n",
    "        return False\n",
    "    elif \"Cold-Blooded\" in string or  \"Armguard\" in string or \"Towel\" in string or \"Solution\" in string or \"Doll\" in string or \"Holster\" in string or \"Lures\" in string or \"Salt\" in string or \"Screw\" in string or \"Soap\" in string or \"Shampoo\" in string or \"Carabiner\" in string or \"Accessor\" in string:\n",
    "        return False\n",
    "    elif \"Smartwatch\" in string or \"Raft\" in string or \"Satellite\" in string or \"Mower\" in string:\n",
    "        return True\n",
    "    elif \"Drone\" in string or \"Puzzle\" in string or \"Blaster\" in string or \"BassPro\" in string or \"Wallet\" in string or \"Watch\" in string or \"Sock\" in string or \"Headwear\" in string or  \"Kids\" in string or \"Toddler\"in string or \"Babies\" in string or \"Pack\" in string or \"Sweatshirt\" in string or \"Boxer\" in string or \"Cardigan\" in string or \"Parka\" in string or \"Henley\" in string or \"Blouse\" in string or \"Tee\" in string or \"Pajama\" in string or \"Jean\" in string or \"Jogger\" in string or \"Tunic\" in string or \"Swim\" in string or \"Ladies\" in string or \"Men\" in string:\n",
    "        return False\n",
    "    elif \"Quiver\" in string or \"Stabilizer\" in string or \"Armguard\" in string or \"Adhesive\" in string:\n",
    "        return False\n",
    "    elif \"Lubricant\" in string or \"String\" in string or \"Winch\" in string or \"Fuel\" in string or \"Tank\" in string or \"Inflateble\" in string or \"Reel\" in string:\n",
    "        return False\n",
    "    elif \"Mat\" in string or \"Revolver\" in string or \"Sling\" in string or \"Solvent\" in string or \"Funnel\" in string or \"Muzzleloader\" in string:\n",
    "        return False\n",
    "    elif \"Wheels\" in string or \"Tire\" in string or \"PressureWasher\" in string or \"Mower\" in string or \"Cart\" in string or \"Trailcutter\" in string:\n",
    "        return True\n",
    "    elif \"Sabot\" in string or \"Bullet\" in string or \"Wrench\" in string or \"Cylinder\" in string or \"Tank\" in string or \"Quick\" in string:\n",
    "        return False\n",
    "    elif \"Pellet\" in string or \"Washer\" in string and \"Pressure\" not in string or \"Travel\" in string or \"Release\" in string or \"Roller\" in string:\n",
    "        return False\n",
    "    elif \"Glue\" in string or \"Nocks\" in string or \"Dampener\" in string or \"Vanes\" in string or \"Sign\" in string or \"Plaque\" in string or \"Trunk\" in string or \"Ramrod\" in string or \"Signal\" in string:\n",
    "        return False\n",
    "    elif \"Shooting\" in string or \"Shot\" in string or \"Carpet\" in string or \"Umbrella\" in string or \"Spoon\" in string:\n",
    "        return False\n",
    "    elif \"Ladder\" in string or \"Rod\" in string or \"Anchor\" in string or \"Downrigger\" in string or \"Sponge\" in string or \"Pole\" in string or \"Flag\" in string:\n",
    "        return False\n",
    "    elif \"Patches\" in string or \"Cleaner\" in string or \"Pedestal\" in string or \"Seat\" in string or \"Blanket\" in string or \"Refill\" in string or \"Repellent\" in string:\n",
    "        return False\n",
    "    elif \"Stove\" in string or \"Speaker\" in string or \"Stereo\" in string or \"Heater\" in string or \"Cooler\" in string or \"Stove\" in string or \"Cooker\" in string  or \"Navigator\" in string or \"GPS\" in string:\n",
    "        return True\n",
    "    elif \"Basket\" in string or \"Grill\" in string or \"Fork\" in string or \"Toilet\" in string or \"Crossbolt\" in string or \"Whistle\" in string:\n",
    "        return False\n",
    "    elif \"Net\" in string or \"Bucket\" in string or \"Scissor\" in string or \"Knives\" in string or \"Caddy\" in string or \"Chart\" in string or \"Book\" in string:\n",
    "        return False\n",
    "    elif \"Spear\" in string or \"Sickness\" in string or \"Bait\" in string or \"Float\" in string or \"Tool\" in string or \"Plier\" in string or \"Nipper\" in string or \"Forceps\" in string or \"Cradle\" in string or \"Gaff\" in string or \"Barrel\" in string:\n",
    "        return False\n",
    "    elif \"Minnow\" in string or \"FlyLine\" in string or \"Cleaning\" in string or \"Spool\" in string or \"Magazine\" in string or \"Trigger\" in string or \"Carbine\" in string or \"Choke\" in string or \"Rounds\" in string or \"Gun\" in string or \"Auger\" in string or \"Earring\" in string or \"Necklace\" in string or \"Medallion\" in string:\n",
    "        return False\n",
    "    elif \"Pendant\" in string or \"Bracelet\" in string or \"Jewelry\" in string or \"Ring\" in string  or \"Paddle\" in string or \"Kayak\" in string:\n",
    "        return False\n",
    "    elif \"Lantern\" in string or \"Batteries\" in string:\n",
    "        return False\n",
    "    elif \"Headlamp\" in string:\n",
    "        return True\n",
    "    \n",
    "    else:\n",
    "        pass\n",
    "    "
   ]
  },
  {
   "cell_type": "code",
   "execution_count": 258,
   "id": "cb8fdf42",
   "metadata": {},
   "outputs": [
    {
     "data": {
      "text/html": [
       "<div>\n",
       "<style scoped>\n",
       "    .dataframe tbody tr th:only-of-type {\n",
       "        vertical-align: middle;\n",
       "    }\n",
       "\n",
       "    .dataframe tbody tr th {\n",
       "        vertical-align: top;\n",
       "    }\n",
       "\n",
       "    .dataframe thead th {\n",
       "        text-align: right;\n",
       "    }\n",
       "</style>\n",
       "<table border=\"1\" class=\"dataframe\">\n",
       "  <thead>\n",
       "    <tr style=\"text-align: right;\">\n",
       "      <th></th>\n",
       "      <th>Rapala Retractable Mega Scoop</th>\n",
       "      <th>Accessories (38)</th>\n",
       "      <th>Is Leasable</th>\n",
       "    </tr>\n",
       "  </thead>\n",
       "  <tbody>\n",
       "    <tr>\n",
       "      <th>0</th>\n",
       "      <td>Cabela's 4-Legged Ice Fishing Chair</td>\n",
       "      <td>Accessories (38)</td>\n",
       "      <td>True</td>\n",
       "    </tr>\n",
       "    <tr>\n",
       "      <th>1</th>\n",
       "      <td>The Fishing Caddy Anywhere Rod Holder</td>\n",
       "      <td>Accessories (38)</td>\n",
       "      <td>False</td>\n",
       "    </tr>\n",
       "    <tr>\n",
       "      <th>2</th>\n",
       "      <td>Cabela's Magnum Folding Ice Fishing Chair</td>\n",
       "      <td>Accessories (38)</td>\n",
       "      <td>True</td>\n",
       "    </tr>\n",
       "    <tr>\n",
       "      <th>3</th>\n",
       "      <td>Due North All Purpose Winter Traction Ice Cleats</td>\n",
       "      <td>Accessories (38)</td>\n",
       "      <td>None</td>\n",
       "    </tr>\n",
       "    <tr>\n",
       "      <th>4</th>\n",
       "      <td>The Fishing Caddy Anywhere Single Rod Holder</td>\n",
       "      <td>Accessories (38)</td>\n",
       "      <td>False</td>\n",
       "    </tr>\n",
       "  </tbody>\n",
       "</table>\n",
       "</div>"
      ],
      "text/plain": [
       "                      Rapala Retractable Mega Scoop  Accessories (38)  \\\n",
       "0               Cabela's 4-Legged Ice Fishing Chair  Accessories (38)   \n",
       "1             The Fishing Caddy Anywhere Rod Holder  Accessories (38)   \n",
       "2         Cabela's Magnum Folding Ice Fishing Chair  Accessories (38)   \n",
       "3  Due North All Purpose Winter Traction Ice Cleats  Accessories (38)   \n",
       "4      The Fishing Caddy Anywhere Single Rod Holder  Accessories (38)   \n",
       "\n",
       "  Is Leasable  \n",
       "0        True  \n",
       "1       False  \n",
       "2        True  \n",
       "3        None  \n",
       "4       False  "
      ]
     },
     "execution_count": 258,
     "metadata": {},
     "output_type": "execute_result"
    }
   ],
   "source": [
    "df[\"Is Leasable\"]=df[\"Rapala Retractable Mega Scoop\"].apply(is_leasable)\n",
    "df.head()"
   ]
  },
  {
   "cell_type": "code",
   "execution_count": 259,
   "id": "92436a17",
   "metadata": {},
   "outputs": [
    {
     "data": {
      "text/plain": [
       "Rapala Retractable Mega Scoop       0\n",
       "Accessories (38)                    0\n",
       "Is Leasable                      3904\n",
       "dtype: int64"
      ]
     },
     "execution_count": 259,
     "metadata": {},
     "output_type": "execute_result"
    }
   ],
   "source": [
    "df.isnull().sum()"
   ]
  },
  {
   "cell_type": "code",
   "execution_count": 260,
   "id": "861cd385",
   "metadata": {},
   "outputs": [],
   "source": [
    "df.to_excel(\"BassPro_Classified.xlsx\")"
   ]
  },
  {
   "cell_type": "code",
   "execution_count": null,
   "id": "52036771",
   "metadata": {},
   "outputs": [],
   "source": []
  }
 ],
 "metadata": {
  "kernelspec": {
   "display_name": "Python 3",
   "language": "python",
   "name": "python3"
  },
  "language_info": {
   "codemirror_mode": {
    "name": "ipython",
    "version": 3
   },
   "file_extension": ".py",
   "mimetype": "text/x-python",
   "name": "python",
   "nbconvert_exporter": "python",
   "pygments_lexer": "ipython3",
   "version": "3.8.8"
  }
 },
 "nbformat": 4,
 "nbformat_minor": 5
}
