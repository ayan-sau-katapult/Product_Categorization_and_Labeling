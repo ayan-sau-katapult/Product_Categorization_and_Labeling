{
 "cells": [
  {
   "cell_type": "code",
   "execution_count": 72,
   "id": "89efd47d",
   "metadata": {},
   "outputs": [
    {
     "name": "stdout",
     "output_type": "stream",
     "text": [
      "(29029, 2)\n"
     ]
    }
   ],
   "source": [
    "import pandas as pd\n",
    "\n",
    "df=pd.read_csv(\"final cabelas.csv\")\n",
    "df.head()\n",
    "print(df.shape)"
   ]
  },
  {
   "cell_type": "code",
   "execution_count": 73,
   "id": "6d25d2a4",
   "metadata": {},
   "outputs": [
    {
     "data": {
      "text/plain": [
       "(27603, 2)"
      ]
     },
     "execution_count": 73,
     "metadata": {},
     "output_type": "execute_result"
    }
   ],
   "source": [
    "df=df.dropna()\n",
    "df.shape"
   ]
  },
  {
   "cell_type": "code",
   "execution_count": 293,
   "id": "2bfa8385",
   "metadata": {},
   "outputs": [],
   "source": [
    "def is_leasable(string):\n",
    "    string= \"\".join(str(string).split())\n",
    "    if \"Helmet\" in string or \"Container\" in string or \"Hook\" in string or \"Hawk\" in string or \"Blade\" in string or \"Dog\" in string or \"Spray\" in string or \"Knife\" in string or \"Bottle\" in string or \"Decoy\" in string or \"Seed\" in string or \"Gel\" in string or \"Call\" in string or \"Trap\" in string or \"Toy\" in string or \"Collar\" in string or \"Sight\" in string or \"Laser\" in string or \"Scope\" in string or \"Tumbler\" in string or \"Mug\" in string or \"Cup\" in string or \"Lid\" in string or \"Flashlight\" in string or \"LED\" in string or \"Binoculars\" in string or \"Tool\" in string or \"Glass\" in string or \"Sword\" in string:\n",
    "        return False\n",
    "    elif \"Rangefinder\" in string or \"Camera\" in string and \"Mount\" not in string or \"Cable\" in string or \"Chord\" in string or \"Radio\" in string:\n",
    "        return True\n",
    "    elif \"Tripod\" in string or \"Clamp\" in string or \"GreatDay\" in string or \"Mount\" in string or \"Machete\" in string or \"Cage\" in string or \"Bracket\" in string or \"Holder\" in string or \"Replacement\" in string or \"Case\" in string or \"Guard\" in string or \"Cover\" in string or \"Harness\" in string or \"Dagger\" in string or \"Attachment\" in string or \"Strap\" in string:\n",
    "        return False\n",
    "    elif \"Lounger\" in string or \"Recliner\" in string or \"Sofa\" in string or \"Table\" in string or \"Furnishings\" in string or \"Furniture\" in string or \"Chair\" in string or \"Lodge\" in string or \"Ottoman\" in string or \"TVStand\" in string or \"Bed\" in string or \"Drawer\" in string or \"Nightstand\" in string or \"Dresser\" in string or \"Mirror\" in string or \"Barstool\" in string or \"Rocker\" in string or \"Swing\" in string:\n",
    "        return True\n",
    "    elif \"Battery\" in string and \"Charger\" not in string and \"Pump\" not in string:\n",
    "        return False\n",
    "    elif \"Generator\" in string or \"Inverter\" in string or \"PowerStation\" in string or \"Grill\" in string and \"Cover\" not in string:\n",
    "        return True\n",
    "    elif \"Adapter\" in string or \"Charger\" in string or \"Starter\" in string or \"PowerBank\" in string or \"Feeders\" in string or \"Treestand\" in string:\n",
    "        return True\n",
    "    elif \"Filter\" in string or \"Pet\" in string or \"Rope\" in string or \"Wire\" in string or \"Call\" in string:\n",
    "        return False\n",
    "    elif \"Crossbow\" in string or \"Bow\" in string or \"Broadhead\" in string or \"Archery\" in string or \"Target\" in string or \"Stick\" in string:\n",
    "        return False\n",
    "    elif \"Rice\" in string or \"Chicken\" in string or \"Steak\" in string or \"Pasta\" in string or \"Cheese\" in string or \"Coffee\" in string or \"Spaghetti\" in string or \"MountainHouse\" in string or \"AlpineAire\" in string or \"BlackRifle\" in string or \"UncleBuck\" in string or \"PearsonRanch\" in string or \"JackLink\" in string or \"Lorrisa\" in string or \"Webash\" in string or \"HappySnacks\" in string or \"WiseCompany\" in string or \"JackDaniel\" in string or \"ProtienBar\" in string or \"Bridgford\" in string or \"Popcorn\" in string or \"Flossie\" in string or \"Cake\" in string or \"MTNOPS\" in string or \"Cabela\" in string or \"AssKickin\" in string or \"Jelly\" in string or \"RockyMountain\" in string or r\"Hunter'sReserve\" in string or \"ReadyWise\" in string or \"Beef\" in string or \"Sausage\" in string or \"cake\" in string or \"Augason\" in string or \"Liquid\" in string:\n",
    "        return False\n",
    "    elif \"Thermal\" in string or \"Bottoms\" in string or \"Mask\" in string or \"Beanie\" in string or \"Bib\" in string or \"T-Shirt\" in string or \"Jacket\" in string or \"Top\" in string or \"Pullover\" in string or \"Hoodie\" in string or \"Backpack\" in string or \"Pant\" in string or \"Suit\" in string or \"Shirt\" in string or \"Cloth\" in string or \"Buckle\" in string or \"Belt\" in string or \"Boot\" in string or \"Bag\" in string or \"Pannier\" in string or \"Flask\" in string or \"Shorts\" in string or \"Sunglass\" in string or \"Hat\" in string or \"Cap\" in string or \"UnderArmour\" in string or \"Gaiter\" in string or \"Band\" in string or \"Purse\" in string or \"Wearable\" in string or \"Sombrero\" in string or \"Vest\" in string or \"Gloves\" in string or \"Goggles\" in string or \"Grip\" in string:\n",
    "        return False\n",
    "    elif \"Pistol\" in string or \"Rifle\" in string or \"Shotgun\" in string or \"Light\" in string or \"Food\" in string or \"Detergent\" in string or \"Oil\" in string or \"Deer\" in string or \"Arrow\" in string:\n",
    "        return False\n",
    "    elif \"Pump\" in string or \"Smoker\" in string or \"Fryer\" in string or \"Feeder\" in string or \"Cooker\" in string:\n",
    "        return True\n",
    "    elif \"Duck\" in string or \"Axe\" in string or \"hawk\" in string or \"Hatchet\" in string or \"Decor\" in string or \"Deodorant\" in string or \"Anti\" in string or \"Deodorizer\" in string or \"Purifier\" in string:\n",
    "        return False\n",
    "    elif \"Butter\" in string or \"Attractant\" in string or \"Ball\" in string or \"Arrow\" in string or \"Hanger\" in string or \"Sauce\" in string:\n",
    "        return False\n",
    "    elif \"Coat\" in string or \"Scent\" in string or \"Candle\" in string or \"Honey\" in string or \"Wax\" in string or \"UTV\" in string or \"ATV\" in string or \"Stand\" in string or \"Towel\" in string or \"Rub\" in string or \"Seasoning\" in string or \"Jam\" in string or \"Dress\" in string: \n",
    "        return False\n",
    "    elif \"Cold-Blooded\" in string or  \"Armguard\" in string or \"Towel\" in string or \"Solution\" in string or \"Doll\" in string or \"Holster\" in string or \"Lures\" in string or \"Salt\" in string or \"Screw\" in string or \"Soap\" in string or \"Shampoo\" in string or \"Carabiner\" in string or \"Accessor\" in string:\n",
    "        return False\n",
    "    elif \"Smartwatch\" in string or \"Raft\" in string or \"Satellite\" in string or \"Mower\" in string:\n",
    "        return True\n",
    "    elif \"Drone\" in string or \"Puzzle\" in string or \"Blaster\" in string or \"BassPro\" in string or \"Wallet\" in string or \"Watch\" in string or \"Sock\" in string or \"Headwear\" in string or  \"Kids\" in string or \"Toddler\"in string or \"Babies\" in string or \"Pack\" in string or \"Sweatshirt\" in string or \"Boxer\" in string or \"Cardigan\" in string or \"Parka\" in string or \"Henley\" in string or \"Blouse\" in string or \"Tee\" in string or \"Pajama\" in string or \"Jean\" in string or \"Jogger\" in string or \"Tunic\" in string or \"Swim\" in string or \"Ladies\" in string or \"Men\" in string:\n",
    "        return False\n",
    "    elif \"Quiver\" in string or \"Stabilizer\" in string or \"Armguard\" in string or \"Adhesive\" in string:\n",
    "        return False\n",
    "    else:\n",
    "        pass\n",
    "    \n",
    "        \n",
    "    "
   ]
  },
  {
   "cell_type": "code",
   "execution_count": 294,
   "id": "b54e9f5b",
   "metadata": {},
   "outputs": [
    {
     "data": {
      "text/html": [
       "<div>\n",
       "<style scoped>\n",
       "    .dataframe tbody tr th:only-of-type {\n",
       "        vertical-align: middle;\n",
       "    }\n",
       "\n",
       "    .dataframe tbody tr th {\n",
       "        vertical-align: top;\n",
       "    }\n",
       "\n",
       "    .dataframe thead th {\n",
       "        text-align: right;\n",
       "    }\n",
       "</style>\n",
       "<table border=\"1\" class=\"dataframe\">\n",
       "  <thead>\n",
       "    <tr style=\"text-align: right;\">\n",
       "      <th></th>\n",
       "      <th>name</th>\n",
       "      <th>subcat</th>\n",
       "      <th>Is_leasable</th>\n",
       "    </tr>\n",
       "  </thead>\n",
       "  <tbody>\n",
       "    <tr>\n",
       "      <th>0</th>\n",
       "      <td>Kershaw Cryo Assisted Opening Fine Edge Drop P...</td>\n",
       "      <td>Hunting Sale</td>\n",
       "      <td>False</td>\n",
       "    </tr>\n",
       "    <tr>\n",
       "      <th>1</th>\n",
       "      <td>Midland T51 VP3 X-Talker Handheld 2-Way Radios</td>\n",
       "      <td>Hunting Accessories</td>\n",
       "      <td>True</td>\n",
       "    </tr>\n",
       "    <tr>\n",
       "      <th>2</th>\n",
       "      <td>Big Game Treestands Guardian XL 2-Person Ladde...</td>\n",
       "      <td>Tree Stands</td>\n",
       "      <td>False</td>\n",
       "    </tr>\n",
       "    <tr>\n",
       "      <th>3</th>\n",
       "      <td>QuadBoss Quadlite Bi-Fold Ramps</td>\n",
       "      <td>ATV Accessories</td>\n",
       "      <td>None</td>\n",
       "    </tr>\n",
       "    <tr>\n",
       "      <th>4</th>\n",
       "      <td>Benchmade Bugout Folding Knife</td>\n",
       "      <td>Knives &amp; Tools</td>\n",
       "      <td>False</td>\n",
       "    </tr>\n",
       "  </tbody>\n",
       "</table>\n",
       "</div>"
      ],
      "text/plain": [
       "                                                name               subcat  \\\n",
       "0  Kershaw Cryo Assisted Opening Fine Edge Drop P...         Hunting Sale   \n",
       "1     Midland T51 VP3 X-Talker Handheld 2-Way Radios  Hunting Accessories   \n",
       "2  Big Game Treestands Guardian XL 2-Person Ladde...          Tree Stands   \n",
       "3                    QuadBoss Quadlite Bi-Fold Ramps      ATV Accessories   \n",
       "4                     Benchmade Bugout Folding Knife       Knives & Tools   \n",
       "\n",
       "  Is_leasable  \n",
       "0       False  \n",
       "1        True  \n",
       "2       False  \n",
       "3        None  \n",
       "4       False  "
      ]
     },
     "execution_count": 294,
     "metadata": {},
     "output_type": "execute_result"
    }
   ],
   "source": [
    "df[\"Is_leasable\"]=df[\"name\"].apply(is_leasable)\n",
    "df.head()"
   ]
  },
  {
   "cell_type": "code",
   "execution_count": 295,
   "id": "8c3a09ab",
   "metadata": {},
   "outputs": [
    {
     "data": {
      "text/plain": [
       "name              0\n",
       "subcat            0\n",
       "Is_leasable    8749\n",
       "dtype: int64"
      ]
     },
     "execution_count": 295,
     "metadata": {},
     "output_type": "execute_result"
    }
   ],
   "source": [
    "df.isnull().sum()"
   ]
  },
  {
   "cell_type": "code",
   "execution_count": 296,
   "id": "762afb65",
   "metadata": {},
   "outputs": [
    {
     "data": {
      "text/plain": [
       "27603"
      ]
     },
     "execution_count": 296,
     "metadata": {},
     "output_type": "execute_result"
    }
   ],
   "source": [
    "len(df)"
   ]
  },
  {
   "cell_type": "code",
   "execution_count": 298,
   "id": "e6560656",
   "metadata": {},
   "outputs": [],
   "source": [
    "df.to_excel(\"Cabelas_Classified.xlsx\")"
   ]
  },
  {
   "cell_type": "code",
   "execution_count": 299,
   "id": "7ba1b328",
   "metadata": {},
   "outputs": [
    {
     "data": {
      "text/plain": [
       "Unnamed: 0        0\n",
       "name              0\n",
       "subcat            0\n",
       "Is_leasable    8749\n",
       "dtype: int64"
      ]
     },
     "execution_count": 299,
     "metadata": {},
     "output_type": "execute_result"
    }
   ],
   "source": [
    "df=pd.read_excel(\"Cabelas_Classified.xlsx\")\n",
    "df.isnull().sum()"
   ]
  },
  {
   "cell_type": "code",
   "execution_count": 300,
   "id": "65e854d1",
   "metadata": {},
   "outputs": [
    {
     "data": {
      "text/plain": [
       "27603"
      ]
     },
     "execution_count": 300,
     "metadata": {},
     "output_type": "execute_result"
    }
   ],
   "source": [
    "len(df)"
   ]
  },
  {
   "cell_type": "code",
   "execution_count": 301,
   "id": "178c2d2c",
   "metadata": {},
   "outputs": [
    {
     "data": {
      "text/plain": [
       "18854"
      ]
     },
     "execution_count": 301,
     "metadata": {},
     "output_type": "execute_result"
    }
   ],
   "source": [
    "27603-8749"
   ]
  },
  {
   "cell_type": "code",
   "execution_count": null,
   "id": "f84d7afd",
   "metadata": {},
   "outputs": [],
   "source": []
  }
 ],
 "metadata": {
  "kernelspec": {
   "display_name": "Python 3",
   "language": "python",
   "name": "python3"
  },
  "language_info": {
   "codemirror_mode": {
    "name": "ipython",
    "version": 3
   },
   "file_extension": ".py",
   "mimetype": "text/x-python",
   "name": "python",
   "nbconvert_exporter": "python",
   "pygments_lexer": "ipython3",
   "version": "3.8.8"
  }
 },
 "nbformat": 4,
 "nbformat_minor": 5
}
