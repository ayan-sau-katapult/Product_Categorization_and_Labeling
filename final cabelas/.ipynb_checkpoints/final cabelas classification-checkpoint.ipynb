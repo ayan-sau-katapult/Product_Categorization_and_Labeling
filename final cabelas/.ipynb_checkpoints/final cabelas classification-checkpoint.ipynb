{
 "cells": [
  {
   "cell_type": "code",
   "execution_count": 42,
   "id": "16d2b432",
   "metadata": {},
   "outputs": [
    {
     "name": "stdout",
     "output_type": "stream",
     "text": [
      "(29029, 2)\n"
     ]
    }
   ],
   "source": [
    "import pandas as pd\n",
    "\n",
    "df=pd.read_csv(\"final cabelas.csv\")\n",
    "df.head()\n",
    "print(df.shape)"
   ]
  },
  {
   "cell_type": "code",
   "execution_count": 43,
   "id": "c2f1c4c1",
   "metadata": {},
   "outputs": [
    {
     "data": {
      "text/plain": [
       "(27603, 2)"
      ]
     },
     "execution_count": 43,
     "metadata": {},
     "output_type": "execute_result"
    }
   ],
   "source": [
    "df=df.dropna()\n",
    "df.shape"
   ]
  },
  {
   "cell_type": "code",
   "execution_count": 68,
   "id": "a4c053dc",
   "metadata": {},
   "outputs": [],
   "source": [
    "def is_leasable(string):\n",
    "    string= \"\".join(str(string).split())\n",
    "    if \"Dog\" in string or \"Spray\" in string or \"Knife\" in string or \"Bottle\" in string or \"Decoy\" in string or \"Seed\" in string or \"Gel\" in string or \"Call\" in string or \"Trap\" in string or \"Toy\" in string or \"Collar\" in string or \"Sight\" in string or \"Laser\" in string or \"Scope\" in string or \"Tumbler\" in string or \"Mug\" in string or \"Cup\" in string or \"Lid\" in string or \"Flashlight\" in string or \"LED\" in string or \"Binoculars\" in string or \"Tool\" in string or \"Glass\" in string:\n",
    "        return False\n",
    "    elif \"Camera\" in string and \"Mount\" not in string or \"Cable\" in string or \"Chord\" in string or \"Radio\" in string:\n",
    "        return True\n",
    "    elif \"GreatDay\" in string or \"Mount\" in string or \"Machete\" in string or \"Cage\" in string or \"Bracket\" in string or \"Holder\" in string or \"Replacement\" in string or \"Case\" in string or \"Guard\" in string or \"Cover\" in string or \"Harness\" in string or \"Dagger\" in string or \"Attachment\" in string or \"Strap\" in string:\n",
    "        return False\n",
    "    elif \"Lounger\" in string or \"Recliner\" in string or \"Sofa\" in string or \"Table\" in string or \"Furnishings\" in string or \"Furniture\" in string or \"Chair\" in string or \"Lodge\" in string or \"Ottoman\" in string or \"TVStand\" in string or \"Bed\" in string or \"Drawer\" in string or \"Nightstand\" in string or \"Dresser\" in string or \"Mirror\" in string or \"Barstool\" in string or \"Rocker\" in string or \"Swing\" in string:\n",
    "        return True\n",
    "    elif \"Battery\" in string and \"Charger\" not in string:\n",
    "        return False\n",
    "    elif \"Generator\" in string or \"Inverter\" in string or \"PowerStation\" in string or \"Grill\" in string and \"Cover\" not in string:\n",
    "        return True\n",
    "    elif \"Charger\" in string or \"Starter\" in string or \"PowerBank\" in string or \"Feeders\" in string or \"Treestand\" in string:\n",
    "        return True\n",
    "    elif \"Filter\" in string or \"Pet\" in string or \"Rope\" in string or \"Wire\" in string or \"Call\" in string:\n",
    "        return False\n",
    "    elif \"Crossbow\" in string or \"Bow\" in string or \"Broadhead\" in string or \"Archery\" in string or \"Target\" in string or \"Stick\" in string:\n",
    "        return False\n",
    "    elif \"Rice\" in string or \"Chicken\" in string or \"Steak\" in string or \"Pasta\" in string or \"Cheese\" in string or \"Coffee\" in string or \"Spaghetti\" in string or \"MountainHouse\" in string or \"AlpineAire\" in string or \"BlackRifle\" in string or \"UncleBuck\" in string or \"PearsonRanch\" in string or \"JackLink\" in string or \"Lorrisa\" in string or \"Webash\" in string or \"HappySnacks\" in string or \"WiseCompany\" in string or \"JackDaniel\" in string or \"ProtienBar\" in string or \"Bridgford\" in string or \"Popcorn\" in string or \"Flossie\" in string or \"Cake\" in string or \"MTNOPS\" in string or \"Cabela\" in string or \"AssKickin\" in string or \"Jelly\" in string or \"RockyMountain\" in string or r\"Hunter'sReserve\" in string or \"ReadyWise\" in string or \"Beef\" in string or \"Sausage\" in string or \"cake\" in string or \"Augason\" in string or \"Liquid\" in string:\n",
    "        return False\n",
    "    elif \"T-Shirt\" in string or \"Jacket\" in string or \"Top\" in string or \"Pullover\" in string or \"Hoodie\" in string or \"Backpack\" in string or \"Pant\" in string or \"Suit\" in string or \"Shirt\" in string or \"Cloth\" in string or \"Buckle\" in string or \"Belt\" in string or \"Boot\" in string or \"Bag\" in string or \"Pannier\" in string or \"Flask\" in string or \"Shorts\" in string or \"Sunglass\" in string or \"Hat\" in string or \"Cap\" in string or \"UnderArmour\" in string or \"Gaiter\" in string or \"Band\" in string or \"Purse\" in string or \"Wearable\" in string or \"Sombrero\" in string or \"Vest\" in string or \"Gloves\" in string :\n",
    "        return False\n",
    "    else:\n",
    "        pass\n",
    "    \n",
    "        \n",
    "    "
   ]
  },
  {
   "cell_type": "code",
   "execution_count": 69,
   "id": "8edf8228",
   "metadata": {},
   "outputs": [
    {
     "data": {
      "text/html": [
       "<div>\n",
       "<style scoped>\n",
       "    .dataframe tbody tr th:only-of-type {\n",
       "        vertical-align: middle;\n",
       "    }\n",
       "\n",
       "    .dataframe tbody tr th {\n",
       "        vertical-align: top;\n",
       "    }\n",
       "\n",
       "    .dataframe thead th {\n",
       "        text-align: right;\n",
       "    }\n",
       "</style>\n",
       "<table border=\"1\" class=\"dataframe\">\n",
       "  <thead>\n",
       "    <tr style=\"text-align: right;\">\n",
       "      <th></th>\n",
       "      <th>name</th>\n",
       "      <th>subcat</th>\n",
       "      <th>Is_leasable</th>\n",
       "    </tr>\n",
       "  </thead>\n",
       "  <tbody>\n",
       "    <tr>\n",
       "      <th>0</th>\n",
       "      <td>Kershaw Cryo Assisted Opening Fine Edge Drop P...</td>\n",
       "      <td>Hunting Sale</td>\n",
       "      <td>False</td>\n",
       "    </tr>\n",
       "    <tr>\n",
       "      <th>1</th>\n",
       "      <td>Midland T51 VP3 X-Talker Handheld 2-Way Radios</td>\n",
       "      <td>Hunting Accessories</td>\n",
       "      <td>True</td>\n",
       "    </tr>\n",
       "    <tr>\n",
       "      <th>2</th>\n",
       "      <td>Big Game Treestands Guardian XL 2-Person Ladde...</td>\n",
       "      <td>Tree Stands</td>\n",
       "      <td>False</td>\n",
       "    </tr>\n",
       "    <tr>\n",
       "      <th>3</th>\n",
       "      <td>QuadBoss Quadlite Bi-Fold Ramps</td>\n",
       "      <td>ATV Accessories</td>\n",
       "      <td>None</td>\n",
       "    </tr>\n",
       "    <tr>\n",
       "      <th>4</th>\n",
       "      <td>Benchmade Bugout Folding Knife</td>\n",
       "      <td>Knives &amp; Tools</td>\n",
       "      <td>False</td>\n",
       "    </tr>\n",
       "  </tbody>\n",
       "</table>\n",
       "</div>"
      ],
      "text/plain": [
       "                                                name               subcat  \\\n",
       "0  Kershaw Cryo Assisted Opening Fine Edge Drop P...         Hunting Sale   \n",
       "1     Midland T51 VP3 X-Talker Handheld 2-Way Radios  Hunting Accessories   \n",
       "2  Big Game Treestands Guardian XL 2-Person Ladde...          Tree Stands   \n",
       "3                    QuadBoss Quadlite Bi-Fold Ramps      ATV Accessories   \n",
       "4                     Benchmade Bugout Folding Knife       Knives & Tools   \n",
       "\n",
       "  Is_leasable  \n",
       "0       False  \n",
       "1        True  \n",
       "2       False  \n",
       "3        None  \n",
       "4       False  "
      ]
     },
     "execution_count": 69,
     "metadata": {},
     "output_type": "execute_result"
    }
   ],
   "source": [
    "df[\"Is_leasable\"]=df[\"name\"].apply(is_leasable)\n",
    "df.head()"
   ]
  },
  {
   "cell_type": "code",
   "execution_count": 70,
   "id": "9930730c",
   "metadata": {},
   "outputs": [
    {
     "data": {
      "text/plain": [
       "name               0\n",
       "subcat             0\n",
       "Is_leasable    14643\n",
       "dtype: int64"
      ]
     },
     "execution_count": 70,
     "metadata": {},
     "output_type": "execute_result"
    }
   ],
   "source": [
    "df.isnull().sum()"
   ]
  },
  {
   "cell_type": "code",
   "execution_count": 71,
   "id": "a389a84b",
   "metadata": {},
   "outputs": [
    {
     "data": {
      "text/plain": [
       "27603"
      ]
     },
     "execution_count": 71,
     "metadata": {},
     "output_type": "execute_result"
    }
   ],
   "source": [
    "len(df)"
   ]
  },
  {
   "cell_type": "code",
   "execution_count": 18,
   "id": "3bc3bdd8",
   "metadata": {},
   "outputs": [],
   "source": [
    "df.to_excel(\"trial_1.xlsx\")"
   ]
  },
  {
   "cell_type": "code",
   "execution_count": null,
   "id": "20f2684a",
   "metadata": {},
   "outputs": [],
   "source": []
  }
 ],
 "metadata": {
  "kernelspec": {
   "display_name": "Python 3",
   "language": "python",
   "name": "python3"
  },
  "language_info": {
   "codemirror_mode": {
    "name": "ipython",
    "version": 3
   },
   "file_extension": ".py",
   "mimetype": "text/x-python",
   "name": "python",
   "nbconvert_exporter": "python",
   "pygments_lexer": "ipython3",
   "version": "3.8.8"
  }
 },
 "nbformat": 4,
 "nbformat_minor": 5
}
